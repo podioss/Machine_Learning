{
 "cells": [
  {
   "cell_type": "markdown",
   "metadata": {},
   "source": [
    "<center><h1> Final Assignment - Machine Learning 2015-2016</h1></center>\n",
    "<a id='top'></a>\n",
    "<div style=\"margin-top:1cm\">Author: Afentoulidis Gregory</div>\n",
    "<div>Student ID : 4521862</div>\n",
    "\n",
    "<h3>Table of contents</h3>\n",
    "<ul>\n",
    "    <li><a href='#imports'>Import modules and data</a></li>\n",
    "    <li><a href='#eda'>Exploratory Data Analysis on dataset features</a>\n",
    "    <ul>\n",
    "        <li><a href='#age'>Analysis of age feature</a></li>\n",
    "        <li><a href='#work_class'>Analysis of work_class feature</a></li>\n",
    "        <li><a href='#marital_status'>Analysis of the marital_status feature</a></li>\n",
    "        <li><a href='#occupation'>Analysis of the occupation feature</a></li>\n",
    "        <li><a href='#race'>Analysis of the race feature</a></li>\n",
    "        <li><a href='#working_hours'>Analysis of the work_hours feature</a></li>\n",
    "        <li><a href='#investment_features'>Analysis of the investment features</a></li>\n",
    "        <li><a href='#edu_feature'>Analysis of years of education feature</a></li>\n",
    "    </ul> \n",
    "    </li>\n",
    "    \n",
    "    <li><a href='#imputations'>Imputation Strategies</a>\n",
    "        <ul>\n",
    "            <li><a href='#preimp'>Preimputation strategy (Based on EDA)</a></li>\n",
    "            <li><a href='#strategy1'>Strategy 1</a></li>\n",
    "            <li><a href='#strategy2'>Strategy 2</a></li>\n",
    "            <li><a href='#strategy3'>Strategy 3</a></li>\n",
    "        </ul>\n",
    "    </li>\n",
    "    \n",
    "    <li><a href='#nb'>Naive Bayes Classifier (NBC)</a>\n",
    "        <ul>\n",
    "            <li><a href='#nbnostr'>NBC all features and strategies</a></li>\n",
    "            <li><a href='#nbelim'>NBC eliminating interdependent features</a></li>\n",
    "        </ul>\n",
    "    </li>\n",
    "    \n",
    "    <li><a href='#lr'>Logistic Regression Classifier</a>\n",
    "        <ul>\n",
    "            <li><a href='#lrcoefs'>Coefficient weights per regularization parameter</a></li>\n",
    "            <li><a href='#regvalcurves'> Regularization parameter validation curves</a></li>\n",
    "            <li><a href='#bestlr'>Best LR out of three</a></li>\n",
    "            <li><a href='#learncurve'>Learning curve for LR and Strategy 1</a></li>\n",
    "        </ul>\n",
    "    </li>\n",
    "    \n",
    "    <li><a href='#ada'>AdaBoost</a>\n",
    "        <ul>\n",
    "            <li><a href='#gsestimators'> Grid Search for number of estimators</a></li>\n",
    "            <li><a href='#gslearning'>Grid Search for learning rate</a></li>\n",
    "        </ul>\n",
    "    </li>\n",
    "</ul>"
   ]
  },
  {
   "cell_type": "markdown",
   "metadata": {},
   "source": [
    "<a id=\"imports\"></a>\n",
    "<center> <h2> Import modules and data</h2></center>\n",
    "<div style=\"text-align:right\">\n",
    "<a href=\"#top\">[Back to top]</a>\n",
    "</div>"
   ]
  },
  {
   "cell_type": "code",
   "execution_count": 1,
   "metadata": {
    "collapsed": true
   },
   "outputs": [],
   "source": [
    "# IMPORTS\n",
    "% matplotlib inline\n",
    "from __future__ import division\n",
    "import matplotlib.pyplot as plt\n",
    "import numpy as np\n",
    "import pandas as pd\n",
    "from IPython.display import display\n",
    "import seaborn as sns"
   ]
  },
  {
   "cell_type": "code",
   "execution_count": 2,
   "metadata": {
    "collapsed": false
   },
   "outputs": [],
   "source": [
    "features = ['age','work_class','education','years_education','marital_status',\n",
    "            'occupation','relationship','race','sex','income_inv','loss_inv','work_hours','country','target']\n",
    "categorical = ['work_class','education','marital_status','occupation','relationship','race','sex','country']\n",
    "numerical = ['age','years_education','income_inv','loss_inv','work_hours']\n",
    "#feat_types = {'work_class':np.int32,'education':np.int32,'marital_status':np.int32,\n",
    "#             'occupation':np.int32,'relationship':np.int32,'race':np.int32,'sex':np.int32,'country':np.int32}\n",
    "\n",
    "train = pd.read_csv(\"train\",header=None,names=features)\n",
    "test = pd.read_csv('test',header=None,names = features[:-1])"
   ]
  },
  {
   "cell_type": "code",
   "execution_count": 3,
   "metadata": {
    "collapsed": false
   },
   "outputs": [
    {
     "data": {
      "text/html": [
       "<div>\n",
       "<table border=\"1\" class=\"dataframe\">\n",
       "  <thead>\n",
       "    <tr style=\"text-align: right;\">\n",
       "      <th></th>\n",
       "      <th>age</th>\n",
       "      <th>work_class</th>\n",
       "      <th>education</th>\n",
       "      <th>years_education</th>\n",
       "      <th>marital_status</th>\n",
       "      <th>occupation</th>\n",
       "      <th>relationship</th>\n",
       "      <th>race</th>\n",
       "      <th>sex</th>\n",
       "      <th>income_inv</th>\n",
       "      <th>loss_inv</th>\n",
       "      <th>work_hours</th>\n",
       "      <th>country</th>\n",
       "      <th>target</th>\n",
       "    </tr>\n",
       "  </thead>\n",
       "  <tbody>\n",
       "    <tr>\n",
       "      <th>0</th>\n",
       "      <td>12.4140</td>\n",
       "      <td>92.0</td>\n",
       "      <td>20.0</td>\n",
       "      <td>NaN</td>\n",
       "      <td>65.0</td>\n",
       "      <td>14.0</td>\n",
       "      <td>68.0</td>\n",
       "      <td>101.0</td>\n",
       "      <td>59.0</td>\n",
       "      <td>692.01</td>\n",
       "      <td>NaN</td>\n",
       "      <td>NaN</td>\n",
       "      <td>NaN</td>\n",
       "      <td>0</td>\n",
       "    </tr>\n",
       "    <tr>\n",
       "      <th>1</th>\n",
       "      <td>NaN</td>\n",
       "      <td>88.0</td>\n",
       "      <td>NaN</td>\n",
       "      <td>NaN</td>\n",
       "      <td>61.0</td>\n",
       "      <td>NaN</td>\n",
       "      <td>49.0</td>\n",
       "      <td>101.0</td>\n",
       "      <td>59.0</td>\n",
       "      <td>0.00</td>\n",
       "      <td>0.0</td>\n",
       "      <td>4.138</td>\n",
       "      <td>98.0</td>\n",
       "      <td>0</td>\n",
       "    </tr>\n",
       "    <tr>\n",
       "      <th>2</th>\n",
       "      <td>12.0960</td>\n",
       "      <td>80.0</td>\n",
       "      <td>42.0</td>\n",
       "      <td>NaN</td>\n",
       "      <td>28.0</td>\n",
       "      <td>44.0</td>\n",
       "      <td>68.0</td>\n",
       "      <td>101.0</td>\n",
       "      <td>NaN</td>\n",
       "      <td>0.00</td>\n",
       "      <td>0.0</td>\n",
       "      <td>12.732</td>\n",
       "      <td>NaN</td>\n",
       "      <td>0</td>\n",
       "    </tr>\n",
       "    <tr>\n",
       "      <th>3</th>\n",
       "      <td>NaN</td>\n",
       "      <td>80.0</td>\n",
       "      <td>3.0</td>\n",
       "      <td>NaN</td>\n",
       "      <td>NaN</td>\n",
       "      <td>44.0</td>\n",
       "      <td>49.0</td>\n",
       "      <td>NaN</td>\n",
       "      <td>59.0</td>\n",
       "      <td>NaN</td>\n",
       "      <td>0.0</td>\n",
       "      <td>12.732</td>\n",
       "      <td>98.0</td>\n",
       "      <td>0</td>\n",
       "    </tr>\n",
       "    <tr>\n",
       "      <th>4</th>\n",
       "      <td>8.9127</td>\n",
       "      <td>80.0</td>\n",
       "      <td>NaN</td>\n",
       "      <td>4.138</td>\n",
       "      <td>61.0</td>\n",
       "      <td>82.0</td>\n",
       "      <td>103.0</td>\n",
       "      <td>21.0</td>\n",
       "      <td>NaN</td>\n",
       "      <td>NaN</td>\n",
       "      <td>0.0</td>\n",
       "      <td>12.732</td>\n",
       "      <td>27.0</td>\n",
       "      <td>0</td>\n",
       "    </tr>\n",
       "  </tbody>\n",
       "</table>\n",
       "</div>"
      ],
      "text/plain": [
       "       age  work_class  education  years_education  marital_status  \\\n",
       "0  12.4140        92.0       20.0              NaN            65.0   \n",
       "1      NaN        88.0        NaN              NaN            61.0   \n",
       "2  12.0960        80.0       42.0              NaN            28.0   \n",
       "3      NaN        80.0        3.0              NaN             NaN   \n",
       "4   8.9127        80.0        NaN            4.138            61.0   \n",
       "\n",
       "   occupation  relationship   race   sex  income_inv  loss_inv  work_hours  \\\n",
       "0        14.0          68.0  101.0  59.0      692.01       NaN         NaN   \n",
       "1         NaN          49.0  101.0  59.0        0.00       0.0       4.138   \n",
       "2        44.0          68.0  101.0   NaN        0.00       0.0      12.732   \n",
       "3        44.0          49.0    NaN  59.0         NaN       0.0      12.732   \n",
       "4        82.0         103.0   21.0   NaN         NaN       0.0      12.732   \n",
       "\n",
       "   country  target  \n",
       "0      NaN       0  \n",
       "1     98.0       0  \n",
       "2      NaN       0  \n",
       "3     98.0       0  \n",
       "4     27.0       0  "
      ]
     },
     "execution_count": 3,
     "metadata": {},
     "output_type": "execute_result"
    }
   ],
   "source": [
    "train.head()"
   ]
  },
  {
   "cell_type": "code",
   "execution_count": 4,
   "metadata": {
    "collapsed": false
   },
   "outputs": [
    {
     "name": "stdout",
     "output_type": "stream",
     "text": [
      "Instances of class 0 : 8000\n",
      "Instances of class 1 : 2500\n",
      "Ratio is : 0.312500\n"
     ]
    }
   ],
   "source": [
    "instancesZero = train[train['target']==0].shape[0]\n",
    "instancesOne = train[train['target']==1].shape[0]\n",
    "print \"Instances of class 0 : %d\"%(instancesZero)\n",
    "print \"Instances of class 1 : %d\"%(instancesOne)\n",
    "print \"Ratio is : %f\"%(instancesOne/instancesZero if instancesZero>instancesOne\\\n",
    "                       else instancesZero/instancesOne)"
   ]
  },
  {
   "cell_type": "code",
   "execution_count": 5,
   "metadata": {
    "collapsed": true
   },
   "outputs": [],
   "source": [
    "# A function to make a submission file for the competition\n",
    "# Inputs : a prefix of the file name, the classifier, and the test data\n",
    "def makeSubmission(prefix,clf,test):\n",
    "    with open(prefix+\"Submission.csv\",'w') as f:\n",
    "        f.write(\"Id,Prediction\\n\")\n",
    "        preds = clf.predict(test)\n",
    "        for idx,pred in enumerate(preds):\n",
    "            f.write(\"%d,%d\\n\"%(idx+1,pred))"
   ]
  },
  {
   "cell_type": "code",
   "execution_count": 6,
   "metadata": {
    "collapsed": false
   },
   "outputs": [
    {
     "name": "stdout",
     "output_type": "stream",
     "text": [
      "KstestResult(statistic=0.99999996871557562, pvalue=0.0)\n",
      "KstestResult(statistic=0.99999999926627003, pvalue=0.0)\n"
     ]
    },
    {
     "data": {
      "text/plain": [
       "Ttest_indResult(statistic=-25.326950854222307, pvalue=1.2090826606313243e-132)"
      ]
     },
     "execution_count": 6,
     "metadata": {},
     "output_type": "execute_result"
    }
   ],
   "source": [
    "from scipy.stats import ttest_ind,kstest\n",
    "ageClass0 = train[train['target']==0]['age'].dropna()\n",
    "ageClass1 = train[train['target']==1]['age'].dropna()\n",
    "print kstest(ageClass0.values,'norm')\n",
    "print kstest(ageClass1.values,'norm')\n",
    "ttest_ind(ageClass0,ageClass1,equal_var=0)"
   ]
  },
  {
   "cell_type": "code",
   "execution_count": 7,
   "metadata": {
    "collapsed": false
   },
   "outputs": [
    {
     "data": {
      "text/plain": [
       "Index([u'age', u'work_class', u'education', u'years_education',\n",
       "       u'marital_status', u'occupation', u'relationship', u'race', u'sex',\n",
       "       u'income_inv', u'loss_inv', u'work_hours', u'country', u'target'],\n",
       "      dtype='object')"
      ]
     },
     "execution_count": 7,
     "metadata": {},
     "output_type": "execute_result"
    }
   ],
   "source": [
    "train.columns"
   ]
  },
  {
   "cell_type": "markdown",
   "metadata": {},
   "source": [
    "<a id=\"eda\"></a>\n",
    "<center> <h2> Exploratory Data Analysis on the dataset features</h2></center>\n",
    "<div style=\"text-align:right\">\n",
    "<a href=\"#top\">[Back to top]</a>\n",
    "</div>"
   ]
  },
  {
   "cell_type": "code",
   "execution_count": 8,
   "metadata": {
    "collapsed": false
   },
   "outputs": [],
   "source": [
    "#Combine training and test set with missing values\n",
    "train.ix[:,:-1].head()\n",
    "allData = pd.concat([train.ix[:,:-1],test])\n",
    "# Keep only instances where all features are existent\n",
    "clearAllData = allData[~allData.isnull().any(axis=1)]"
   ]
  },
  {
   "cell_type": "markdown",
   "metadata": {},
   "source": [
    "<a id=\"age\"></a>\n",
    "<h3> Analysis of age feature</h3>\n",
    "<div style=\"text-align:right\">\n",
    "<a href=\"#top\">[Back to top]</a>\n",
    "</div>"
   ]
  },
  {
   "cell_type": "markdown",
   "metadata": {},
   "source": [
    "<div style=\"font-size:17px;font-family:Verdana\"><p> In this section we see the distribution of the age feature and we also see that age is correlated to the marital_status feature. We will impute missing age data with the mean age value per marital_status</p>\n",
    "</div>"
   ]
  },
  {
   "cell_type": "code",
   "execution_count": 39,
   "metadata": {
    "collapsed": false
   },
   "outputs": [
    {
     "data": {
      "image/png": "[encoded data removed]",
      "text/plain": [
       "<matplotlib.figure.Figure at 0x7f3fb8567950>"
      ]
     },
     "metadata": {},
     "output_type": "display_data"
    }
   ],
   "source": [
    "#Analysis of the age feature from the clearAllData\n",
    "sns.distplot(clearAllData.age.values)\n",
    "_ = plt.title(\"Distribution of ages in the dataset\")\n",
    "_ = plt.xlabel(\"Ages\")"
   ]
  },
  {
   "cell_type": "code",
   "execution_count": 42,
   "metadata": {
    "collapsed": false
   },
   "outputs": [
    {
     "data": {
      "image/png": "[encoded data removed]",
      "text/plain": [
       "<matplotlib.figure.Figure at 0x7f3fbac49b10>"
      ]
     },
     "metadata": {},
     "output_type": "display_data"
    }
   ],
   "source": [
    "# No correlation between the years of education and the age of the sample\n",
    "_ = plt.scatter(clearAllData.years_education.values,clearAllData.age.values)"
   ]
  },
  {
   "cell_type": "code",
   "execution_count": 56,
   "metadata": {
    "collapsed": false,
    "scrolled": true
   },
   "outputs": [
    {
     "data": {
      "text/plain": [
       "marital_status       \n",
       "28.0            count     416.000000\n",
       "                mean       13.677364\n",
       "                std         3.336949\n",
       "                min         6.684500\n",
       "                25%        11.141000\n",
       "                50%        13.687000\n",
       "                75%        15.915000\n",
       "                max        23.237000\n",
       "60.0            count       2.000000\n",
       "                mean        8.594350\n",
       "                std         1.350503\n",
       "                min         7.639400\n",
       "                25%         8.116875\n",
       "                50%         8.594350\n",
       "                75%         9.071825\n",
       "                max         9.549300\n",
       "61.0            count    1398.000000\n",
       "                mean       13.731487\n",
       "                std         3.816238\n",
       "                min         5.729600\n",
       "                25%        10.823000\n",
       "                50%        13.369000\n",
       "                75%        16.234000\n",
       "                max        26.101000\n",
       "62.0            count      35.000000\n",
       "                mean       13.950997\n",
       "                std         4.195564\n",
       "                min         5.729600\n",
       "                25%        10.186000\n",
       "                50%        14.961000\n",
       "                75%        16.870000\n",
       "                max        23.873000\n",
       "65.0            count     986.000000\n",
       "                mean        8.975300\n",
       "                std         3.148875\n",
       "                min         5.411300\n",
       "                25%         6.684500\n",
       "                50%         7.957700\n",
       "                75%        10.186000\n",
       "                max        28.648000\n",
       "89.0            count     109.000000\n",
       "                mean       12.478342\n",
       "                std         3.115699\n",
       "                min         6.366200\n",
       "                25%        10.186000\n",
       "                50%        12.414000\n",
       "                75%        14.006000\n",
       "                max        21.963000\n",
       "102.0           count      89.000000\n",
       "                mean       18.433326\n",
       "                std         3.630403\n",
       "                min         8.912700\n",
       "                25%        16.552000\n",
       "                50%        18.780000\n",
       "                75%        20.690000\n",
       "                max        27.056000\n",
       "Name: age, dtype: float64"
      ]
     },
     "execution_count": 56,
     "metadata": {},
     "output_type": "execute_result"
    }
   ],
   "source": [
    "# We can predict with the mean of each of the marital_status feature\n",
    "clearAllData.groupby(['marital_status'])['age'].describe()"
   ]
  },
  {
   "cell_type": "code",
   "execution_count": 17,
   "metadata": {
    "collapsed": false
   },
   "outputs": [
    {
     "data": {
      "text/html": [
       "<div>\n",
       "<table border=\"1\" class=\"dataframe\">\n",
       "  <thead>\n",
       "    <tr style=\"text-align: right;\">\n",
       "      <th></th>\n",
       "      <th>mean</th>\n",
       "      <th>median</th>\n",
       "    </tr>\n",
       "    <tr>\n",
       "      <th>marital_status</th>\n",
       "      <th></th>\n",
       "      <th></th>\n",
       "    </tr>\n",
       "  </thead>\n",
       "  <tbody>\n",
       "    <tr>\n",
       "      <th>28.0</th>\n",
       "      <td>13.677364</td>\n",
       "      <td>13.68700</td>\n",
       "    </tr>\n",
       "    <tr>\n",
       "      <th>60.0</th>\n",
       "      <td>8.594350</td>\n",
       "      <td>8.59435</td>\n",
       "    </tr>\n",
       "    <tr>\n",
       "      <th>61.0</th>\n",
       "      <td>13.731487</td>\n",
       "      <td>13.36900</td>\n",
       "    </tr>\n",
       "    <tr>\n",
       "      <th>62.0</th>\n",
       "      <td>13.950997</td>\n",
       "      <td>14.96100</td>\n",
       "    </tr>\n",
       "    <tr>\n",
       "      <th>65.0</th>\n",
       "      <td>8.975300</td>\n",
       "      <td>7.95770</td>\n",
       "    </tr>\n",
       "    <tr>\n",
       "      <th>89.0</th>\n",
       "      <td>12.478342</td>\n",
       "      <td>12.41400</td>\n",
       "    </tr>\n",
       "    <tr>\n",
       "      <th>102.0</th>\n",
       "      <td>18.433326</td>\n",
       "      <td>18.78000</td>\n",
       "    </tr>\n",
       "  </tbody>\n",
       "</table>\n",
       "</div>"
      ],
      "text/plain": [
       "                     mean    median\n",
       "marital_status                     \n",
       "28.0            13.677364  13.68700\n",
       "60.0             8.594350   8.59435\n",
       "61.0            13.731487  13.36900\n",
       "62.0            13.950997  14.96100\n",
       "65.0             8.975300   7.95770\n",
       "89.0            12.478342  12.41400\n",
       "102.0           18.433326  18.78000"
      ]
     },
     "metadata": {},
     "output_type": "display_data"
    }
   ],
   "source": [
    "marAge = clearAllData.groupby(['marital_status'])['age'].agg(['mean','median'])\n",
    "display(marAge)"
   ]
  },
  {
   "cell_type": "code",
   "execution_count": 18,
   "metadata": {
    "collapsed": false
   },
   "outputs": [
    {
     "data": {
      "text/plain": [
       "{28.0: 13.68,\n",
       " 60.0: 8.59,\n",
       " 61.0: 13.73,\n",
       " 62.0: 13.95,\n",
       " 65.0: 8.98,\n",
       " 89.0: 12.48,\n",
       " 102.0: 18.43}"
      ]
     },
     "execution_count": 18,
     "metadata": {},
     "output_type": "execute_result"
    }
   ],
   "source": [
    "marToAgeDict = marAge['mean'].to_dict()\n",
    "marToAgeDict = {k:round(v,2) for k,v in marToAgeDict.items() }\n",
    "marToAgeDict"
   ]
  },
  {
   "cell_type": "markdown",
   "metadata": {},
   "source": [
    "<a id=\"work_class\"></a>\n",
    "<h3> Analysis of work_class feature</h3>\n",
    "<div style=\"text-align:right\">\n",
    "<a href=\"#top\">[Back to top]</a>\n",
    "</div>"
   ]
  },
  {
   "cell_type": "markdown",
   "metadata": {},
   "source": [
    "<div style=\"font-size:17px;font-family:Verdana\"><p> The work_class feature is not directly correlated with other features but it is noticed that a heavy majority of the instances has a specific value. We will use this specific value (80) to impute any missing data for this feature</p>\n",
    "</div>"
   ]
  },
  {
   "cell_type": "code",
   "execution_count": 88,
   "metadata": {
    "collapsed": false
   },
   "outputs": [
    {
     "data": {
      "text/html": [
       "<div>\n",
       "<table border=\"1\" class=\"dataframe\">\n",
       "  <thead>\n",
       "    <tr style=\"text-align: right;\">\n",
       "      <th>work_class</th>\n",
       "      <th>36.0</th>\n",
       "      <th>57.0</th>\n",
       "      <th>80.0</th>\n",
       "      <th>87.0</th>\n",
       "      <th>88.0</th>\n",
       "      <th>92.0</th>\n",
       "      <th>104.0</th>\n",
       "    </tr>\n",
       "    <tr>\n",
       "      <th>education</th>\n",
       "      <th></th>\n",
       "      <th></th>\n",
       "      <th></th>\n",
       "      <th></th>\n",
       "      <th></th>\n",
       "      <th></th>\n",
       "      <th></th>\n",
       "    </tr>\n",
       "  </thead>\n",
       "  <tbody>\n",
       "    <tr>\n",
       "      <th>2.0</th>\n",
       "      <td>1.0</td>\n",
       "      <td>3.0</td>\n",
       "      <td>73.0</td>\n",
       "      <td>1.0</td>\n",
       "      <td>8.0</td>\n",
       "      <td>NaN</td>\n",
       "      <td>NaN</td>\n",
       "    </tr>\n",
       "    <tr>\n",
       "      <th>3.0</th>\n",
       "      <td>NaN</td>\n",
       "      <td>1.0</td>\n",
       "      <td>95.0</td>\n",
       "      <td>NaN</td>\n",
       "      <td>7.0</td>\n",
       "      <td>1.0</td>\n",
       "      <td>NaN</td>\n",
       "    </tr>\n",
       "    <tr>\n",
       "      <th>4.0</th>\n",
       "      <td>1.0</td>\n",
       "      <td>2.0</td>\n",
       "      <td>31.0</td>\n",
       "      <td>NaN</td>\n",
       "      <td>4.0</td>\n",
       "      <td>NaN</td>\n",
       "      <td>NaN</td>\n",
       "    </tr>\n",
       "    <tr>\n",
       "      <th>5.0</th>\n",
       "      <td>NaN</td>\n",
       "      <td>NaN</td>\n",
       "      <td>17.0</td>\n",
       "      <td>NaN</td>\n",
       "      <td>3.0</td>\n",
       "      <td>NaN</td>\n",
       "      <td>NaN</td>\n",
       "    </tr>\n",
       "    <tr>\n",
       "      <th>6.0</th>\n",
       "      <td>NaN</td>\n",
       "      <td>1.0</td>\n",
       "      <td>28.0</td>\n",
       "      <td>NaN</td>\n",
       "      <td>1.0</td>\n",
       "      <td>NaN</td>\n",
       "      <td>NaN</td>\n",
       "    </tr>\n",
       "    <tr>\n",
       "      <th>7.0</th>\n",
       "      <td>NaN</td>\n",
       "      <td>NaN</td>\n",
       "      <td>26.0</td>\n",
       "      <td>2.0</td>\n",
       "      <td>9.0</td>\n",
       "      <td>2.0</td>\n",
       "      <td>NaN</td>\n",
       "    </tr>\n",
       "    <tr>\n",
       "      <th>8.0</th>\n",
       "      <td>NaN</td>\n",
       "      <td>1.0</td>\n",
       "      <td>44.0</td>\n",
       "      <td>2.0</td>\n",
       "      <td>1.0</td>\n",
       "      <td>NaN</td>\n",
       "      <td>NaN</td>\n",
       "    </tr>\n",
       "    <tr>\n",
       "      <th>18.0</th>\n",
       "      <td>4.0</td>\n",
       "      <td>6.0</td>\n",
       "      <td>84.0</td>\n",
       "      <td>6.0</td>\n",
       "      <td>7.0</td>\n",
       "      <td>6.0</td>\n",
       "      <td>NaN</td>\n",
       "    </tr>\n",
       "    <tr>\n",
       "      <th>19.0</th>\n",
       "      <td>1.0</td>\n",
       "      <td>8.0</td>\n",
       "      <td>97.0</td>\n",
       "      <td>2.0</td>\n",
       "      <td>14.0</td>\n",
       "      <td>5.0</td>\n",
       "      <td>NaN</td>\n",
       "    </tr>\n",
       "    <tr>\n",
       "      <th>20.0</th>\n",
       "      <td>26.0</td>\n",
       "      <td>52.0</td>\n",
       "      <td>348.0</td>\n",
       "      <td>25.0</td>\n",
       "      <td>35.0</td>\n",
       "      <td>27.0</td>\n",
       "      <td>NaN</td>\n",
       "    </tr>\n",
       "    <tr>\n",
       "      <th>29.0</th>\n",
       "      <td>1.0</td>\n",
       "      <td>4.0</td>\n",
       "      <td>13.0</td>\n",
       "      <td>7.0</td>\n",
       "      <td>6.0</td>\n",
       "      <td>3.0</td>\n",
       "      <td>NaN</td>\n",
       "    </tr>\n",
       "    <tr>\n",
       "      <th>42.0</th>\n",
       "      <td>30.0</td>\n",
       "      <td>49.0</td>\n",
       "      <td>755.0</td>\n",
       "      <td>24.0</td>\n",
       "      <td>79.0</td>\n",
       "      <td>21.0</td>\n",
       "      <td>1.0</td>\n",
       "    </tr>\n",
       "    <tr>\n",
       "      <th>63.0</th>\n",
       "      <td>6.0</td>\n",
       "      <td>34.0</td>\n",
       "      <td>81.0</td>\n",
       "      <td>1.0</td>\n",
       "      <td>21.0</td>\n",
       "      <td>14.0</td>\n",
       "      <td>NaN</td>\n",
       "    </tr>\n",
       "    <tr>\n",
       "      <th>78.0</th>\n",
       "      <td>NaN</td>\n",
       "      <td>1.0</td>\n",
       "      <td>3.0</td>\n",
       "      <td>NaN</td>\n",
       "      <td>NaN</td>\n",
       "      <td>NaN</td>\n",
       "      <td>NaN</td>\n",
       "    </tr>\n",
       "    <tr>\n",
       "      <th>81.0</th>\n",
       "      <td>2.0</td>\n",
       "      <td>6.0</td>\n",
       "      <td>19.0</td>\n",
       "      <td>8.0</td>\n",
       "      <td>14.0</td>\n",
       "      <td>4.0</td>\n",
       "      <td>NaN</td>\n",
       "    </tr>\n",
       "    <tr>\n",
       "      <th>90.0</th>\n",
       "      <td>31.0</td>\n",
       "      <td>37.0</td>\n",
       "      <td>542.0</td>\n",
       "      <td>21.0</td>\n",
       "      <td>42.0</td>\n",
       "      <td>37.0</td>\n",
       "      <td>NaN</td>\n",
       "    </tr>\n",
       "  </tbody>\n",
       "</table>\n",
       "</div>"
      ],
      "text/plain": [
       "work_class  36.0   57.0   80.0   87.0   88.0   92.0   104.0\n",
       "education                                                  \n",
       "2.0           1.0    3.0   73.0    1.0    8.0    NaN    NaN\n",
       "3.0           NaN    1.0   95.0    NaN    7.0    1.0    NaN\n",
       "4.0           1.0    2.0   31.0    NaN    4.0    NaN    NaN\n",
       "5.0           NaN    NaN   17.0    NaN    3.0    NaN    NaN\n",
       "6.0           NaN    1.0   28.0    NaN    1.0    NaN    NaN\n",
       "7.0           NaN    NaN   26.0    2.0    9.0    2.0    NaN\n",
       "8.0           NaN    1.0   44.0    2.0    1.0    NaN    NaN\n",
       "18.0          4.0    6.0   84.0    6.0    7.0    6.0    NaN\n",
       "19.0          1.0    8.0   97.0    2.0   14.0    5.0    NaN\n",
       "20.0         26.0   52.0  348.0   25.0   35.0   27.0    NaN\n",
       "29.0          1.0    4.0   13.0    7.0    6.0    3.0    NaN\n",
       "42.0         30.0   49.0  755.0   24.0   79.0   21.0    1.0\n",
       "63.0          6.0   34.0   81.0    1.0   21.0   14.0    NaN\n",
       "78.0          NaN    1.0    3.0    NaN    NaN    NaN    NaN\n",
       "81.0          2.0    6.0   19.0    8.0   14.0    4.0    NaN\n",
       "90.0         31.0   37.0  542.0   21.0   42.0   37.0    NaN"
      ]
     },
     "metadata": {},
     "output_type": "display_data"
    }
   ],
   "source": [
    "# Analysis of the work_class feature\n",
    "eduWork = clearAllData.groupby(['education','work_class'])['work_class']\\\n",
    "                                .count()\\\n",
    "                                .unstack()\n",
    "display(eduWork)"
   ]
  },
  {
   "cell_type": "code",
   "execution_count": 95,
   "metadata": {
    "collapsed": false
   },
   "outputs": [
    {
     "data": {
      "text/plain": [
       "80.0     2256\n",
       "88.0      251\n",
       "57.0      205\n",
       "92.0      120\n",
       "36.0      103\n",
       "87.0       99\n",
       "104.0       1\n",
       "Name: work_class, dtype: int64"
      ]
     },
     "execution_count": 95,
     "metadata": {},
     "output_type": "execute_result"
    }
   ],
   "source": [
    "# Work_class =80 is dominating the dataset\n",
    "clearAllData.work_class.value_counts()"
   ]
  },
  {
   "cell_type": "code",
   "execution_count": 99,
   "metadata": {
    "collapsed": false,
    "scrolled": true
   },
   "outputs": [
    {
     "data": {
      "text/html": [
       "<div>\n",
       "<table border=\"1\" class=\"dataframe\">\n",
       "  <thead>\n",
       "    <tr style=\"text-align: right;\">\n",
       "      <th>work_class</th>\n",
       "      <th>36.0</th>\n",
       "      <th>57.0</th>\n",
       "      <th>80.0</th>\n",
       "      <th>87.0</th>\n",
       "      <th>88.0</th>\n",
       "      <th>92.0</th>\n",
       "      <th>104.0</th>\n",
       "    </tr>\n",
       "    <tr>\n",
       "      <th>country</th>\n",
       "      <th></th>\n",
       "      <th></th>\n",
       "      <th></th>\n",
       "      <th></th>\n",
       "      <th></th>\n",
       "      <th></th>\n",
       "      <th></th>\n",
       "    </tr>\n",
       "  </thead>\n",
       "  <tbody>\n",
       "    <tr>\n",
       "      <th>22.0</th>\n",
       "      <td>NaN</td>\n",
       "      <td>NaN</td>\n",
       "      <td>3.0</td>\n",
       "      <td>NaN</td>\n",
       "      <td>NaN</td>\n",
       "      <td>NaN</td>\n",
       "      <td>NaN</td>\n",
       "    </tr>\n",
       "    <tr>\n",
       "      <th>23.0</th>\n",
       "      <td>NaN</td>\n",
       "      <td>1.0</td>\n",
       "      <td>10.0</td>\n",
       "      <td>1.0</td>\n",
       "      <td>2.0</td>\n",
       "      <td>1.0</td>\n",
       "      <td>NaN</td>\n",
       "    </tr>\n",
       "    <tr>\n",
       "      <th>24.0</th>\n",
       "      <td>NaN</td>\n",
       "      <td>NaN</td>\n",
       "      <td>4.0</td>\n",
       "      <td>NaN</td>\n",
       "      <td>1.0</td>\n",
       "      <td>1.0</td>\n",
       "      <td>NaN</td>\n",
       "    </tr>\n",
       "    <tr>\n",
       "      <th>25.0</th>\n",
       "      <td>NaN</td>\n",
       "      <td>NaN</td>\n",
       "      <td>7.0</td>\n",
       "      <td>NaN</td>\n",
       "      <td>NaN</td>\n",
       "      <td>NaN</td>\n",
       "      <td>NaN</td>\n",
       "    </tr>\n",
       "    <tr>\n",
       "      <th>27.0</th>\n",
       "      <td>NaN</td>\n",
       "      <td>1.0</td>\n",
       "      <td>5.0</td>\n",
       "      <td>NaN</td>\n",
       "      <td>2.0</td>\n",
       "      <td>NaN</td>\n",
       "      <td>NaN</td>\n",
       "    </tr>\n",
       "    <tr>\n",
       "      <th>30.0</th>\n",
       "      <td>NaN</td>\n",
       "      <td>NaN</td>\n",
       "      <td>9.0</td>\n",
       "      <td>NaN</td>\n",
       "      <td>NaN</td>\n",
       "      <td>NaN</td>\n",
       "      <td>NaN</td>\n",
       "    </tr>\n",
       "    <tr>\n",
       "      <th>31.0</th>\n",
       "      <td>NaN</td>\n",
       "      <td>NaN</td>\n",
       "      <td>6.0</td>\n",
       "      <td>NaN</td>\n",
       "      <td>NaN</td>\n",
       "      <td>NaN</td>\n",
       "      <td>NaN</td>\n",
       "    </tr>\n",
       "    <tr>\n",
       "      <th>32.0</th>\n",
       "      <td>NaN</td>\n",
       "      <td>1.0</td>\n",
       "      <td>8.0</td>\n",
       "      <td>NaN</td>\n",
       "      <td>NaN</td>\n",
       "      <td>NaN</td>\n",
       "      <td>NaN</td>\n",
       "    </tr>\n",
       "    <tr>\n",
       "      <th>33.0</th>\n",
       "      <td>NaN</td>\n",
       "      <td>NaN</td>\n",
       "      <td>6.0</td>\n",
       "      <td>NaN</td>\n",
       "      <td>1.0</td>\n",
       "      <td>NaN</td>\n",
       "      <td>NaN</td>\n",
       "    </tr>\n",
       "    <tr>\n",
       "      <th>38.0</th>\n",
       "      <td>NaN</td>\n",
       "      <td>NaN</td>\n",
       "      <td>1.0</td>\n",
       "      <td>NaN</td>\n",
       "      <td>NaN</td>\n",
       "      <td>NaN</td>\n",
       "      <td>NaN</td>\n",
       "    </tr>\n",
       "    <tr>\n",
       "      <th>39.0</th>\n",
       "      <td>2.0</td>\n",
       "      <td>NaN</td>\n",
       "      <td>12.0</td>\n",
       "      <td>NaN</td>\n",
       "      <td>NaN</td>\n",
       "      <td>2.0</td>\n",
       "      <td>NaN</td>\n",
       "    </tr>\n",
       "    <tr>\n",
       "      <th>40.0</th>\n",
       "      <td>NaN</td>\n",
       "      <td>NaN</td>\n",
       "      <td>2.0</td>\n",
       "      <td>1.0</td>\n",
       "      <td>1.0</td>\n",
       "      <td>NaN</td>\n",
       "      <td>NaN</td>\n",
       "    </tr>\n",
       "    <tr>\n",
       "      <th>41.0</th>\n",
       "      <td>NaN</td>\n",
       "      <td>NaN</td>\n",
       "      <td>4.0</td>\n",
       "      <td>NaN</td>\n",
       "      <td>NaN</td>\n",
       "      <td>NaN</td>\n",
       "      <td>NaN</td>\n",
       "    </tr>\n",
       "    <tr>\n",
       "      <th>43.0</th>\n",
       "      <td>NaN</td>\n",
       "      <td>NaN</td>\n",
       "      <td>3.0</td>\n",
       "      <td>NaN</td>\n",
       "      <td>NaN</td>\n",
       "      <td>NaN</td>\n",
       "      <td>NaN</td>\n",
       "    </tr>\n",
       "    <tr>\n",
       "      <th>46.0</th>\n",
       "      <td>NaN</td>\n",
       "      <td>1.0</td>\n",
       "      <td>2.0</td>\n",
       "      <td>NaN</td>\n",
       "      <td>NaN</td>\n",
       "      <td>NaN</td>\n",
       "      <td>NaN</td>\n",
       "    </tr>\n",
       "    <tr>\n",
       "      <th>47.0</th>\n",
       "      <td>NaN</td>\n",
       "      <td>NaN</td>\n",
       "      <td>1.0</td>\n",
       "      <td>NaN</td>\n",
       "      <td>NaN</td>\n",
       "      <td>1.0</td>\n",
       "      <td>NaN</td>\n",
       "    </tr>\n",
       "    <tr>\n",
       "      <th>50.0</th>\n",
       "      <td>NaN</td>\n",
       "      <td>NaN</td>\n",
       "      <td>7.0</td>\n",
       "      <td>NaN</td>\n",
       "      <td>NaN</td>\n",
       "      <td>NaN</td>\n",
       "      <td>NaN</td>\n",
       "    </tr>\n",
       "    <tr>\n",
       "      <th>51.0</th>\n",
       "      <td>NaN</td>\n",
       "      <td>NaN</td>\n",
       "      <td>1.0</td>\n",
       "      <td>NaN</td>\n",
       "      <td>1.0</td>\n",
       "      <td>NaN</td>\n",
       "      <td>NaN</td>\n",
       "    </tr>\n",
       "    <tr>\n",
       "      <th>52.0</th>\n",
       "      <td>NaN</td>\n",
       "      <td>NaN</td>\n",
       "      <td>3.0</td>\n",
       "      <td>NaN</td>\n",
       "      <td>NaN</td>\n",
       "      <td>NaN</td>\n",
       "      <td>NaN</td>\n",
       "    </tr>\n",
       "    <tr>\n",
       "      <th>53.0</th>\n",
       "      <td>NaN</td>\n",
       "      <td>NaN</td>\n",
       "      <td>3.0</td>\n",
       "      <td>NaN</td>\n",
       "      <td>1.0</td>\n",
       "      <td>NaN</td>\n",
       "      <td>NaN</td>\n",
       "    </tr>\n",
       "    <tr>\n",
       "      <th>54.0</th>\n",
       "      <td>NaN</td>\n",
       "      <td>NaN</td>\n",
       "      <td>6.0</td>\n",
       "      <td>NaN</td>\n",
       "      <td>NaN</td>\n",
       "      <td>NaN</td>\n",
       "      <td>NaN</td>\n",
       "    </tr>\n",
       "    <tr>\n",
       "      <th>55.0</th>\n",
       "      <td>NaN</td>\n",
       "      <td>NaN</td>\n",
       "      <td>3.0</td>\n",
       "      <td>NaN</td>\n",
       "      <td>1.0</td>\n",
       "      <td>NaN</td>\n",
       "      <td>NaN</td>\n",
       "    </tr>\n",
       "    <tr>\n",
       "      <th>56.0</th>\n",
       "      <td>NaN</td>\n",
       "      <td>NaN</td>\n",
       "      <td>2.0</td>\n",
       "      <td>NaN</td>\n",
       "      <td>NaN</td>\n",
       "      <td>NaN</td>\n",
       "      <td>NaN</td>\n",
       "    </tr>\n",
       "    <tr>\n",
       "      <th>64.0</th>\n",
       "      <td>NaN</td>\n",
       "      <td>2.0</td>\n",
       "      <td>56.0</td>\n",
       "      <td>NaN</td>\n",
       "      <td>3.0</td>\n",
       "      <td>1.0</td>\n",
       "      <td>NaN</td>\n",
       "    </tr>\n",
       "    <tr>\n",
       "      <th>67.0</th>\n",
       "      <td>NaN</td>\n",
       "      <td>NaN</td>\n",
       "      <td>1.0</td>\n",
       "      <td>NaN</td>\n",
       "      <td>NaN</td>\n",
       "      <td>1.0</td>\n",
       "      <td>NaN</td>\n",
       "    </tr>\n",
       "    <tr>\n",
       "      <th>72.0</th>\n",
       "      <td>NaN</td>\n",
       "      <td>NaN</td>\n",
       "      <td>1.0</td>\n",
       "      <td>NaN</td>\n",
       "      <td>NaN</td>\n",
       "      <td>NaN</td>\n",
       "      <td>NaN</td>\n",
       "    </tr>\n",
       "    <tr>\n",
       "      <th>74.0</th>\n",
       "      <td>NaN</td>\n",
       "      <td>NaN</td>\n",
       "      <td>3.0</td>\n",
       "      <td>NaN</td>\n",
       "      <td>NaN</td>\n",
       "      <td>NaN</td>\n",
       "      <td>NaN</td>\n",
       "    </tr>\n",
       "    <tr>\n",
       "      <th>75.0</th>\n",
       "      <td>2.0</td>\n",
       "      <td>NaN</td>\n",
       "      <td>26.0</td>\n",
       "      <td>NaN</td>\n",
       "      <td>NaN</td>\n",
       "      <td>NaN</td>\n",
       "      <td>NaN</td>\n",
       "    </tr>\n",
       "    <tr>\n",
       "      <th>76.0</th>\n",
       "      <td>1.0</td>\n",
       "      <td>NaN</td>\n",
       "      <td>3.0</td>\n",
       "      <td>NaN</td>\n",
       "      <td>NaN</td>\n",
       "      <td>NaN</td>\n",
       "      <td>NaN</td>\n",
       "    </tr>\n",
       "    <tr>\n",
       "      <th>77.0</th>\n",
       "      <td>NaN</td>\n",
       "      <td>NaN</td>\n",
       "      <td>2.0</td>\n",
       "      <td>NaN</td>\n",
       "      <td>NaN</td>\n",
       "      <td>NaN</td>\n",
       "      <td>NaN</td>\n",
       "    </tr>\n",
       "    <tr>\n",
       "      <th>84.0</th>\n",
       "      <td>1.0</td>\n",
       "      <td>1.0</td>\n",
       "      <td>13.0</td>\n",
       "      <td>NaN</td>\n",
       "      <td>NaN</td>\n",
       "      <td>NaN</td>\n",
       "      <td>NaN</td>\n",
       "    </tr>\n",
       "    <tr>\n",
       "      <th>86.0</th>\n",
       "      <td>NaN</td>\n",
       "      <td>NaN</td>\n",
       "      <td>2.0</td>\n",
       "      <td>NaN</td>\n",
       "      <td>1.0</td>\n",
       "      <td>NaN</td>\n",
       "      <td>NaN</td>\n",
       "    </tr>\n",
       "    <tr>\n",
       "      <th>91.0</th>\n",
       "      <td>NaN</td>\n",
       "      <td>NaN</td>\n",
       "      <td>3.0</td>\n",
       "      <td>NaN</td>\n",
       "      <td>2.0</td>\n",
       "      <td>NaN</td>\n",
       "      <td>NaN</td>\n",
       "    </tr>\n",
       "    <tr>\n",
       "      <th>93.0</th>\n",
       "      <td>NaN</td>\n",
       "      <td>NaN</td>\n",
       "      <td>2.0</td>\n",
       "      <td>1.0</td>\n",
       "      <td>NaN</td>\n",
       "      <td>NaN</td>\n",
       "      <td>NaN</td>\n",
       "    </tr>\n",
       "    <tr>\n",
       "      <th>97.0</th>\n",
       "      <td>NaN</td>\n",
       "      <td>1.0</td>\n",
       "      <td>2.0</td>\n",
       "      <td>NaN</td>\n",
       "      <td>NaN</td>\n",
       "      <td>NaN</td>\n",
       "      <td>NaN</td>\n",
       "    </tr>\n",
       "    <tr>\n",
       "      <th>98.0</th>\n",
       "      <td>96.0</td>\n",
       "      <td>197.0</td>\n",
       "      <td>2028.0</td>\n",
       "      <td>96.0</td>\n",
       "      <td>233.0</td>\n",
       "      <td>113.0</td>\n",
       "      <td>1.0</td>\n",
       "    </tr>\n",
       "    <tr>\n",
       "      <th>100.0</th>\n",
       "      <td>1.0</td>\n",
       "      <td>NaN</td>\n",
       "      <td>5.0</td>\n",
       "      <td>NaN</td>\n",
       "      <td>1.0</td>\n",
       "      <td>NaN</td>\n",
       "      <td>NaN</td>\n",
       "    </tr>\n",
       "    <tr>\n",
       "      <th>105.0</th>\n",
       "      <td>NaN</td>\n",
       "      <td>NaN</td>\n",
       "      <td>1.0</td>\n",
       "      <td>NaN</td>\n",
       "      <td>1.0</td>\n",
       "      <td>NaN</td>\n",
       "      <td>NaN</td>\n",
       "    </tr>\n",
       "  </tbody>\n",
       "</table>\n",
       "</div>"
      ],
      "text/plain": [
       "work_class  36.0   57.0    80.0   87.0   88.0   92.0   104.0\n",
       "country                                                     \n",
       "22.0          NaN    NaN     3.0    NaN    NaN    NaN    NaN\n",
       "23.0          NaN    1.0    10.0    1.0    2.0    1.0    NaN\n",
       "24.0          NaN    NaN     4.0    NaN    1.0    1.0    NaN\n",
       "25.0          NaN    NaN     7.0    NaN    NaN    NaN    NaN\n",
       "27.0          NaN    1.0     5.0    NaN    2.0    NaN    NaN\n",
       "30.0          NaN    NaN     9.0    NaN    NaN    NaN    NaN\n",
       "31.0          NaN    NaN     6.0    NaN    NaN    NaN    NaN\n",
       "32.0          NaN    1.0     8.0    NaN    NaN    NaN    NaN\n",
       "33.0          NaN    NaN     6.0    NaN    1.0    NaN    NaN\n",
       "38.0          NaN    NaN     1.0    NaN    NaN    NaN    NaN\n",
       "39.0          2.0    NaN    12.0    NaN    NaN    2.0    NaN\n",
       "40.0          NaN    NaN     2.0    1.0    1.0    NaN    NaN\n",
       "41.0          NaN    NaN     4.0    NaN    NaN    NaN    NaN\n",
       "43.0          NaN    NaN     3.0    NaN    NaN    NaN    NaN\n",
       "46.0          NaN    1.0     2.0    NaN    NaN    NaN    NaN\n",
       "47.0          NaN    NaN     1.0    NaN    NaN    1.0    NaN\n",
       "50.0          NaN    NaN     7.0    NaN    NaN    NaN    NaN\n",
       "51.0          NaN    NaN     1.0    NaN    1.0    NaN    NaN\n",
       "52.0          NaN    NaN     3.0    NaN    NaN    NaN    NaN\n",
       "53.0          NaN    NaN     3.0    NaN    1.0    NaN    NaN\n",
       "54.0          NaN    NaN     6.0    NaN    NaN    NaN    NaN\n",
       "55.0          NaN    NaN     3.0    NaN    1.0    NaN    NaN\n",
       "56.0          NaN    NaN     2.0    NaN    NaN    NaN    NaN\n",
       "64.0          NaN    2.0    56.0    NaN    3.0    1.0    NaN\n",
       "67.0          NaN    NaN     1.0    NaN    NaN    1.0    NaN\n",
       "72.0          NaN    NaN     1.0    NaN    NaN    NaN    NaN\n",
       "74.0          NaN    NaN     3.0    NaN    NaN    NaN    NaN\n",
       "75.0          2.0    NaN    26.0    NaN    NaN    NaN    NaN\n",
       "76.0          1.0    NaN     3.0    NaN    NaN    NaN    NaN\n",
       "77.0          NaN    NaN     2.0    NaN    NaN    NaN    NaN\n",
       "84.0          1.0    1.0    13.0    NaN    NaN    NaN    NaN\n",
       "86.0          NaN    NaN     2.0    NaN    1.0    NaN    NaN\n",
       "91.0          NaN    NaN     3.0    NaN    2.0    NaN    NaN\n",
       "93.0          NaN    NaN     2.0    1.0    NaN    NaN    NaN\n",
       "97.0          NaN    1.0     2.0    NaN    NaN    NaN    NaN\n",
       "98.0         96.0  197.0  2028.0   96.0  233.0  113.0    1.0\n",
       "100.0         1.0    NaN     5.0    NaN    1.0    NaN    NaN\n",
       "105.0         NaN    NaN     1.0    NaN    1.0    NaN    NaN"
      ]
     },
     "execution_count": 99,
     "metadata": {},
     "output_type": "execute_result"
    }
   ],
   "source": [
    "clearAllData.groupby(['country','work_class'])['work_class']\\\n",
    "                                .count()\\\n",
    "                                .unstack()"
   ]
  },
  {
   "cell_type": "markdown",
   "metadata": {},
   "source": [
    "<a id=\"marital_status\"></a>\n",
    "<h3> Analysis of marital_status feature</h3>\n",
    "<div style=\"text-align:right\">\n",
    "<a href=\"#top\">[Back to top]</a>\n",
    "</div>"
   ]
  },
  {
   "cell_type": "markdown",
   "metadata": {},
   "source": [
    "<div style=\"font-size:17px;font-family:Verdana\"><p> We see that marital_status feature is correlated with the relationship feature. We use a Naive Bayes approach to impute the missing data for the two features</p>\n",
    "</div>"
   ]
  },
  {
   "cell_type": "code",
   "execution_count": 9,
   "metadata": {
    "collapsed": false
   },
   "outputs": [
    {
     "data": {
      "text/html": [
       "<div>\n",
       "<table border=\"1\" class=\"dataframe\">\n",
       "  <thead>\n",
       "    <tr style=\"text-align: right;\">\n",
       "      <th>relationship</th>\n",
       "      <th>49.0</th>\n",
       "      <th>68.0</th>\n",
       "      <th>70.0</th>\n",
       "      <th>73.0</th>\n",
       "      <th>99.0</th>\n",
       "      <th>103.0</th>\n",
       "    </tr>\n",
       "    <tr>\n",
       "      <th>marital_status</th>\n",
       "      <th></th>\n",
       "      <th></th>\n",
       "      <th></th>\n",
       "      <th></th>\n",
       "      <th></th>\n",
       "      <th></th>\n",
       "    </tr>\n",
       "  </thead>\n",
       "  <tbody>\n",
       "    <tr>\n",
       "      <th>28.0</th>\n",
       "      <td>NaN</td>\n",
       "      <td>215.0</td>\n",
       "      <td>13.0</td>\n",
       "      <td>28.0</td>\n",
       "      <td>160.0</td>\n",
       "      <td>NaN</td>\n",
       "    </tr>\n",
       "    <tr>\n",
       "      <th>60.0</th>\n",
       "      <td>NaN</td>\n",
       "      <td>NaN</td>\n",
       "      <td>NaN</td>\n",
       "      <td>NaN</td>\n",
       "      <td>NaN</td>\n",
       "      <td>2.0</td>\n",
       "    </tr>\n",
       "    <tr>\n",
       "      <th>61.0</th>\n",
       "      <td>1232.0</td>\n",
       "      <td>2.0</td>\n",
       "      <td>13.0</td>\n",
       "      <td>9.0</td>\n",
       "      <td>NaN</td>\n",
       "      <td>142.0</td>\n",
       "    </tr>\n",
       "    <tr>\n",
       "      <th>62.0</th>\n",
       "      <td>NaN</td>\n",
       "      <td>13.0</td>\n",
       "      <td>3.0</td>\n",
       "      <td>3.0</td>\n",
       "      <td>16.0</td>\n",
       "      <td>NaN</td>\n",
       "    </tr>\n",
       "    <tr>\n",
       "      <th>65.0</th>\n",
       "      <td>NaN</td>\n",
       "      <td>454.0</td>\n",
       "      <td>47.0</td>\n",
       "      <td>409.0</td>\n",
       "      <td>76.0</td>\n",
       "      <td>NaN</td>\n",
       "    </tr>\n",
       "    <tr>\n",
       "      <th>89.0</th>\n",
       "      <td>NaN</td>\n",
       "      <td>54.0</td>\n",
       "      <td>4.0</td>\n",
       "      <td>11.0</td>\n",
       "      <td>40.0</td>\n",
       "      <td>NaN</td>\n",
       "    </tr>\n",
       "    <tr>\n",
       "      <th>102.0</th>\n",
       "      <td>NaN</td>\n",
       "      <td>50.0</td>\n",
       "      <td>5.0</td>\n",
       "      <td>2.0</td>\n",
       "      <td>32.0</td>\n",
       "      <td>NaN</td>\n",
       "    </tr>\n",
       "  </tbody>\n",
       "</table>\n",
       "</div>"
      ],
      "text/plain": [
       "relationship     49.0   68.0   70.0   73.0   99.0   103.0\n",
       "marital_status                                           \n",
       "28.0               NaN  215.0   13.0   28.0  160.0    NaN\n",
       "60.0               NaN    NaN    NaN    NaN    NaN    2.0\n",
       "61.0            1232.0    2.0   13.0    9.0    NaN  142.0\n",
       "62.0               NaN   13.0    3.0    3.0   16.0    NaN\n",
       "65.0               NaN  454.0   47.0  409.0   76.0    NaN\n",
       "89.0               NaN   54.0    4.0   11.0   40.0    NaN\n",
       "102.0              NaN   50.0    5.0    2.0   32.0    NaN"
      ]
     },
     "metadata": {},
     "output_type": "display_data"
    }
   ],
   "source": [
    "# Analysis of the marital_status feature\n",
    "relMar = clearAllData.groupby(['marital_status','relationship'])['relationship']\\\n",
    ".count().unstack()\n",
    "display(relMar)"
   ]
  },
  {
   "cell_type": "code",
   "execution_count": 112,
   "metadata": {
    "collapsed": false
   },
   "outputs": [
    {
     "name": "stdout",
     "output_type": "stream",
     "text": [
      "Apparent error of NB prediction : 0.666556836903\n"
     ]
    }
   ],
   "source": [
    "#Apparent error of naive_bayes for predicion of relationship on marital\n",
    "# status\n",
    "ss = 0\n",
    "for i in range(relMar.shape[0]):\n",
    "    ss+= relMar.iloc[i,:].max()\n",
    "print \"Apparent error of NB prediction : {0}\".format(ss/relMar.sum().sum())"
   ]
  },
  {
   "cell_type": "code",
   "execution_count": 10,
   "metadata": {
    "collapsed": false
   },
   "outputs": [],
   "source": [
    "relMarDict = relMar.idxmax().to_dict()"
   ]
  },
  {
   "cell_type": "code",
   "execution_count": 11,
   "metadata": {
    "collapsed": false
   },
   "outputs": [
    {
     "data": {
      "text/plain": [
       "{49.0: 61.0, 68.0: 65.0, 70.0: 65.0, 73.0: 65.0, 99.0: 28.0, 103.0: 61.0}"
      ]
     },
     "execution_count": 11,
     "metadata": {},
     "output_type": "execute_result"
    }
   ],
   "source": [
    "relMarDict"
   ]
  },
  {
   "cell_type": "code",
   "execution_count": 12,
   "metadata": {
    "collapsed": false
   },
   "outputs": [
    {
     "data": {
      "text/html": [
       "<div>\n",
       "<table border=\"1\" class=\"dataframe\">\n",
       "  <thead>\n",
       "    <tr style=\"text-align: right;\">\n",
       "      <th>marital_status</th>\n",
       "      <th>28.0</th>\n",
       "      <th>60.0</th>\n",
       "      <th>61.0</th>\n",
       "      <th>62.0</th>\n",
       "      <th>65.0</th>\n",
       "      <th>89.0</th>\n",
       "      <th>102.0</th>\n",
       "    </tr>\n",
       "    <tr>\n",
       "      <th>relationship</th>\n",
       "      <th></th>\n",
       "      <th></th>\n",
       "      <th></th>\n",
       "      <th></th>\n",
       "      <th></th>\n",
       "      <th></th>\n",
       "      <th></th>\n",
       "    </tr>\n",
       "  </thead>\n",
       "  <tbody>\n",
       "    <tr>\n",
       "      <th>49.0</th>\n",
       "      <td>NaN</td>\n",
       "      <td>NaN</td>\n",
       "      <td>1232.0</td>\n",
       "      <td>NaN</td>\n",
       "      <td>NaN</td>\n",
       "      <td>NaN</td>\n",
       "      <td>NaN</td>\n",
       "    </tr>\n",
       "    <tr>\n",
       "      <th>68.0</th>\n",
       "      <td>215.0</td>\n",
       "      <td>NaN</td>\n",
       "      <td>2.0</td>\n",
       "      <td>13.0</td>\n",
       "      <td>454.0</td>\n",
       "      <td>54.0</td>\n",
       "      <td>50.0</td>\n",
       "    </tr>\n",
       "    <tr>\n",
       "      <th>70.0</th>\n",
       "      <td>13.0</td>\n",
       "      <td>NaN</td>\n",
       "      <td>13.0</td>\n",
       "      <td>3.0</td>\n",
       "      <td>47.0</td>\n",
       "      <td>4.0</td>\n",
       "      <td>5.0</td>\n",
       "    </tr>\n",
       "    <tr>\n",
       "      <th>73.0</th>\n",
       "      <td>28.0</td>\n",
       "      <td>NaN</td>\n",
       "      <td>9.0</td>\n",
       "      <td>3.0</td>\n",
       "      <td>409.0</td>\n",
       "      <td>11.0</td>\n",
       "      <td>2.0</td>\n",
       "    </tr>\n",
       "    <tr>\n",
       "      <th>99.0</th>\n",
       "      <td>160.0</td>\n",
       "      <td>NaN</td>\n",
       "      <td>NaN</td>\n",
       "      <td>16.0</td>\n",
       "      <td>76.0</td>\n",
       "      <td>40.0</td>\n",
       "      <td>32.0</td>\n",
       "    </tr>\n",
       "    <tr>\n",
       "      <th>103.0</th>\n",
       "      <td>NaN</td>\n",
       "      <td>2.0</td>\n",
       "      <td>142.0</td>\n",
       "      <td>NaN</td>\n",
       "      <td>NaN</td>\n",
       "      <td>NaN</td>\n",
       "      <td>NaN</td>\n",
       "    </tr>\n",
       "  </tbody>\n",
       "</table>\n",
       "</div>"
      ],
      "text/plain": [
       "marital_status  28.0   60.0    61.0   62.0   65.0   89.0   102.0\n",
       "relationship                                                    \n",
       "49.0              NaN    NaN  1232.0    NaN    NaN    NaN    NaN\n",
       "68.0            215.0    NaN     2.0   13.0  454.0   54.0   50.0\n",
       "70.0             13.0    NaN    13.0    3.0   47.0    4.0    5.0\n",
       "73.0             28.0    NaN     9.0    3.0  409.0   11.0    2.0\n",
       "99.0            160.0    NaN     NaN   16.0   76.0   40.0   32.0\n",
       "103.0             NaN    2.0   142.0    NaN    NaN    NaN    NaN"
      ]
     },
     "metadata": {},
     "output_type": "display_data"
    }
   ],
   "source": [
    "marRel = clearAllData.groupby(['relationship','marital_status'])['marital_status'].count().unstack()\n",
    "display(marRel)"
   ]
  },
  {
   "cell_type": "code",
   "execution_count": 13,
   "metadata": {
    "collapsed": true
   },
   "outputs": [],
   "source": [
    "marRelDict = marRel.idxmax().to_dict()"
   ]
  },
  {
   "cell_type": "code",
   "execution_count": 14,
   "metadata": {
    "collapsed": false
   },
   "outputs": [
    {
     "data": {
      "text/plain": [
       "{28.0: 68.0,\n",
       " 60.0: 103.0,\n",
       " 61.0: 49.0,\n",
       " 62.0: 99.0,\n",
       " 65.0: 68.0,\n",
       " 89.0: 68.0,\n",
       " 102.0: 68.0}"
      ]
     },
     "execution_count": 14,
     "metadata": {},
     "output_type": "execute_result"
    }
   ],
   "source": [
    "marRelDict"
   ]
  },
  {
   "cell_type": "markdown",
   "metadata": {},
   "source": [
    "<a id=\"occupation\"></a>\n",
    "<h3> Analysis of occupation feature</h3>\n",
    "<div style=\"text-align:right\">\n",
    "<a href=\"#top\">[Back to top]</a>\n",
    "</div>"
   ]
  },
  {
   "cell_type": "markdown",
   "metadata": {},
   "source": [
    "<div style=\"font-size:17px;font-family:Verdana\"><p>We notice a correlation of the occupation feature with the sex feature for some categories of sex and occupation the discrepancy is greater. We will use a NB approach to impute missing data ONLY for sex depending on occupation</p>\n",
    "</div>"
   ]
  },
  {
   "cell_type": "code",
   "execution_count": 36,
   "metadata": {
    "collapsed": false
   },
   "outputs": [
    {
     "data": {
      "text/html": [
       "<div>\n",
       "<table border=\"1\" class=\"dataframe\">\n",
       "  <thead>\n",
       "    <tr style=\"text-align: right;\">\n",
       "      <th>sex</th>\n",
       "      <th>37.0</th>\n",
       "      <th>59.0</th>\n",
       "    </tr>\n",
       "    <tr>\n",
       "      <th>occupation</th>\n",
       "      <th></th>\n",
       "      <th></th>\n",
       "    </tr>\n",
       "  </thead>\n",
       "  <tbody>\n",
       "    <tr>\n",
       "      <th>14.0</th>\n",
       "      <td>258</td>\n",
       "      <td>139</td>\n",
       "    </tr>\n",
       "    <tr>\n",
       "      <th>26.0</th>\n",
       "      <td>20</td>\n",
       "      <td>385</td>\n",
       "    </tr>\n",
       "    <tr>\n",
       "      <th>34.0</th>\n",
       "      <td>113</td>\n",
       "      <td>270</td>\n",
       "    </tr>\n",
       "    <tr>\n",
       "      <th>35.0</th>\n",
       "      <td>6</td>\n",
       "      <td>97</td>\n",
       "    </tr>\n",
       "    <tr>\n",
       "      <th>44.0</th>\n",
       "      <td>16</td>\n",
       "      <td>116</td>\n",
       "    </tr>\n",
       "    <tr>\n",
       "      <th>58.0</th>\n",
       "      <td>55</td>\n",
       "      <td>169</td>\n",
       "    </tr>\n",
       "    <tr>\n",
       "      <th>71.0</th>\n",
       "      <td>199</td>\n",
       "      <td>142</td>\n",
       "    </tr>\n",
       "    <tr>\n",
       "      <th>79.0</th>\n",
       "      <td>10</td>\n",
       "      <td>2</td>\n",
       "    </tr>\n",
       "    <tr>\n",
       "      <th>82.0</th>\n",
       "      <td>127</td>\n",
       "      <td>267</td>\n",
       "    </tr>\n",
       "    <tr>\n",
       "      <th>83.0</th>\n",
       "      <td>9</td>\n",
       "      <td>51</td>\n",
       "    </tr>\n",
       "    <tr>\n",
       "      <th>85.0</th>\n",
       "      <td>142</td>\n",
       "      <td>214</td>\n",
       "    </tr>\n",
       "    <tr>\n",
       "      <th>94.0</th>\n",
       "      <td>32</td>\n",
       "      <td>57</td>\n",
       "    </tr>\n",
       "    <tr>\n",
       "      <th>96.0</th>\n",
       "      <td>7</td>\n",
       "      <td>132</td>\n",
       "    </tr>\n",
       "  </tbody>\n",
       "</table>\n",
       "</div>"
      ],
      "text/plain": [
       "sex         37.0  59.0\n",
       "occupation            \n",
       "14.0         258   139\n",
       "26.0          20   385\n",
       "34.0         113   270\n",
       "35.0           6    97\n",
       "44.0          16   116\n",
       "58.0          55   169\n",
       "71.0         199   142\n",
       "79.0          10     2\n",
       "82.0         127   267\n",
       "83.0           9    51\n",
       "85.0         142   214\n",
       "94.0          32    57\n",
       "96.0           7   132"
      ]
     },
     "metadata": {},
     "output_type": "display_data"
    },
    {
     "data": {
      "text/html": [
       "<div>\n",
       "<table border=\"1\" class=\"dataframe\">\n",
       "  <thead>\n",
       "    <tr style=\"text-align: right;\">\n",
       "      <th>occupation</th>\n",
       "      <th>14.0</th>\n",
       "      <th>26.0</th>\n",
       "      <th>34.0</th>\n",
       "      <th>35.0</th>\n",
       "      <th>44.0</th>\n",
       "      <th>58.0</th>\n",
       "      <th>71.0</th>\n",
       "      <th>79.0</th>\n",
       "      <th>82.0</th>\n",
       "      <th>83.0</th>\n",
       "      <th>85.0</th>\n",
       "      <th>94.0</th>\n",
       "      <th>96.0</th>\n",
       "    </tr>\n",
       "    <tr>\n",
       "      <th>sex</th>\n",
       "      <th></th>\n",
       "      <th></th>\n",
       "      <th></th>\n",
       "      <th></th>\n",
       "      <th></th>\n",
       "      <th></th>\n",
       "      <th></th>\n",
       "      <th></th>\n",
       "      <th></th>\n",
       "      <th></th>\n",
       "      <th></th>\n",
       "      <th></th>\n",
       "      <th></th>\n",
       "    </tr>\n",
       "  </thead>\n",
       "  <tbody>\n",
       "    <tr>\n",
       "      <th>37.0</th>\n",
       "      <td>258</td>\n",
       "      <td>20</td>\n",
       "      <td>113</td>\n",
       "      <td>6</td>\n",
       "      <td>16</td>\n",
       "      <td>55</td>\n",
       "      <td>199</td>\n",
       "      <td>10</td>\n",
       "      <td>127</td>\n",
       "      <td>9</td>\n",
       "      <td>142</td>\n",
       "      <td>32</td>\n",
       "      <td>7</td>\n",
       "    </tr>\n",
       "    <tr>\n",
       "      <th>59.0</th>\n",
       "      <td>139</td>\n",
       "      <td>385</td>\n",
       "      <td>270</td>\n",
       "      <td>97</td>\n",
       "      <td>116</td>\n",
       "      <td>169</td>\n",
       "      <td>142</td>\n",
       "      <td>2</td>\n",
       "      <td>267</td>\n",
       "      <td>51</td>\n",
       "      <td>214</td>\n",
       "      <td>57</td>\n",
       "      <td>132</td>\n",
       "    </tr>\n",
       "  </tbody>\n",
       "</table>\n",
       "</div>"
      ],
      "text/plain": [
       "occupation  14.0  26.0  34.0  35.0  44.0  58.0  71.0  79.0  82.0  83.0  85.0  \\\n",
       "sex                                                                            \n",
       "37.0         258    20   113     6    16    55   199    10   127     9   142   \n",
       "59.0         139   385   270    97   116   169   142     2   267    51   214   \n",
       "\n",
       "occupation  94.0  96.0  \n",
       "sex                     \n",
       "37.0          32     7  \n",
       "59.0          57   132  "
      ]
     },
     "metadata": {},
     "output_type": "display_data"
    }
   ],
   "source": [
    "# Analysis of the occupation feature\n",
    "occSex = clearAllData.groupby(['occupation','sex'])['sex']\\\n",
    ".count().unstack()\n",
    "display(occSex)\n",
    "sexOcc = clearAllData.groupby(['sex','occupation'])['occupation']\\\n",
    ".count().unstack()\n",
    "display(sexOcc)"
   ]
  },
  {
   "cell_type": "code",
   "execution_count": 38,
   "metadata": {
    "collapsed": false
   },
   "outputs": [
    {
     "data": {
      "text/plain": [
       "{14.0: 37.0,\n",
       " 26.0: 59.0,\n",
       " 34.0: 59.0,\n",
       " 35.0: 59.0,\n",
       " 44.0: 59.0,\n",
       " 58.0: 59.0,\n",
       " 71.0: 37.0,\n",
       " 79.0: 37.0,\n",
       " 82.0: 59.0,\n",
       " 83.0: 59.0,\n",
       " 85.0: 59.0,\n",
       " 94.0: 59.0,\n",
       " 96.0: 59.0}"
      ]
     },
     "execution_count": 38,
     "metadata": {},
     "output_type": "execute_result"
    }
   ],
   "source": [
    "occSexDict = {}\n",
    "for idx,occ in enumerate(occSex.index):\n",
    "    occSexDict[occ] = occSex.iloc[idx,:].argmax()\n",
    "occSexDict"
   ]
  },
  {
   "cell_type": "markdown",
   "metadata": {},
   "source": [
    "<a id=\"race\"></a>\n",
    "<h3> Analysis of race feature</h3>\n",
    "<div style=\"text-align:right\">\n",
    "<a href=\"#top\">[Back to top]</a>\n",
    "</div>"
   ]
  },
  {
   "cell_type": "markdown",
   "metadata": {},
   "source": [
    "<div style=\"font-size:17px;font-family:Verdana\"><p> We see a correlation of the race feature with the country of origin we will again choose a NB approach to fill missing values between these two features</p>\n",
    "</div>"
   ]
  },
  {
   "cell_type": "code",
   "execution_count": 59,
   "metadata": {
    "collapsed": false,
    "scrolled": true
   },
   "outputs": [
    {
     "data": {
      "text/html": [
       "<div>\n",
       "<table border=\"1\" class=\"dataframe\">\n",
       "  <thead>\n",
       "    <tr style=\"text-align: right;\">\n",
       "      <th>race</th>\n",
       "      <th>15.0</th>\n",
       "      <th>17.0</th>\n",
       "      <th>21.0</th>\n",
       "      <th>69.0</th>\n",
       "      <th>101.0</th>\n",
       "    </tr>\n",
       "    <tr>\n",
       "      <th>country</th>\n",
       "      <th></th>\n",
       "      <th></th>\n",
       "      <th></th>\n",
       "      <th></th>\n",
       "      <th></th>\n",
       "    </tr>\n",
       "  </thead>\n",
       "  <tbody>\n",
       "    <tr>\n",
       "      <th>22.0</th>\n",
       "      <td>NaN</td>\n",
       "      <td>3.0</td>\n",
       "      <td>NaN</td>\n",
       "      <td>NaN</td>\n",
       "      <td>NaN</td>\n",
       "    </tr>\n",
       "    <tr>\n",
       "      <th>23.0</th>\n",
       "      <td>NaN</td>\n",
       "      <td>NaN</td>\n",
       "      <td>NaN</td>\n",
       "      <td>NaN</td>\n",
       "      <td>15.0</td>\n",
       "    </tr>\n",
       "    <tr>\n",
       "      <th>24.0</th>\n",
       "      <td>NaN</td>\n",
       "      <td>6.0</td>\n",
       "      <td>NaN</td>\n",
       "      <td>NaN</td>\n",
       "      <td>NaN</td>\n",
       "    </tr>\n",
       "    <tr>\n",
       "      <th>25.0</th>\n",
       "      <td>NaN</td>\n",
       "      <td>NaN</td>\n",
       "      <td>NaN</td>\n",
       "      <td>1.0</td>\n",
       "      <td>6.0</td>\n",
       "    </tr>\n",
       "    <tr>\n",
       "      <th>27.0</th>\n",
       "      <td>NaN</td>\n",
       "      <td>NaN</td>\n",
       "      <td>NaN</td>\n",
       "      <td>NaN</td>\n",
       "      <td>8.0</td>\n",
       "    </tr>\n",
       "    <tr>\n",
       "      <th>30.0</th>\n",
       "      <td>NaN</td>\n",
       "      <td>NaN</td>\n",
       "      <td>1.0</td>\n",
       "      <td>2.0</td>\n",
       "      <td>6.0</td>\n",
       "    </tr>\n",
       "    <tr>\n",
       "      <th>31.0</th>\n",
       "      <td>NaN</td>\n",
       "      <td>NaN</td>\n",
       "      <td>NaN</td>\n",
       "      <td>1.0</td>\n",
       "      <td>5.0</td>\n",
       "    </tr>\n",
       "    <tr>\n",
       "      <th>32.0</th>\n",
       "      <td>NaN</td>\n",
       "      <td>NaN</td>\n",
       "      <td>NaN</td>\n",
       "      <td>3.0</td>\n",
       "      <td>6.0</td>\n",
       "    </tr>\n",
       "    <tr>\n",
       "      <th>33.0</th>\n",
       "      <td>NaN</td>\n",
       "      <td>NaN</td>\n",
       "      <td>NaN</td>\n",
       "      <td>NaN</td>\n",
       "      <td>7.0</td>\n",
       "    </tr>\n",
       "    <tr>\n",
       "      <th>38.0</th>\n",
       "      <td>NaN</td>\n",
       "      <td>NaN</td>\n",
       "      <td>NaN</td>\n",
       "      <td>NaN</td>\n",
       "      <td>1.0</td>\n",
       "    </tr>\n",
       "    <tr>\n",
       "      <th>39.0</th>\n",
       "      <td>NaN</td>\n",
       "      <td>NaN</td>\n",
       "      <td>NaN</td>\n",
       "      <td>NaN</td>\n",
       "      <td>16.0</td>\n",
       "    </tr>\n",
       "    <tr>\n",
       "      <th>40.0</th>\n",
       "      <td>NaN</td>\n",
       "      <td>NaN</td>\n",
       "      <td>NaN</td>\n",
       "      <td>NaN</td>\n",
       "      <td>4.0</td>\n",
       "    </tr>\n",
       "    <tr>\n",
       "      <th>41.0</th>\n",
       "      <td>NaN</td>\n",
       "      <td>NaN</td>\n",
       "      <td>NaN</td>\n",
       "      <td>1.0</td>\n",
       "      <td>3.0</td>\n",
       "    </tr>\n",
       "    <tr>\n",
       "      <th>43.0</th>\n",
       "      <td>NaN</td>\n",
       "      <td>NaN</td>\n",
       "      <td>3.0</td>\n",
       "      <td>NaN</td>\n",
       "      <td>NaN</td>\n",
       "    </tr>\n",
       "    <tr>\n",
       "      <th>46.0</th>\n",
       "      <td>NaN</td>\n",
       "      <td>NaN</td>\n",
       "      <td>NaN</td>\n",
       "      <td>NaN</td>\n",
       "      <td>3.0</td>\n",
       "    </tr>\n",
       "    <tr>\n",
       "      <th>47.0</th>\n",
       "      <td>NaN</td>\n",
       "      <td>2.0</td>\n",
       "      <td>NaN</td>\n",
       "      <td>NaN</td>\n",
       "      <td>NaN</td>\n",
       "    </tr>\n",
       "    <tr>\n",
       "      <th>50.0</th>\n",
       "      <td>NaN</td>\n",
       "      <td>3.0</td>\n",
       "      <td>NaN</td>\n",
       "      <td>2.0</td>\n",
       "      <td>2.0</td>\n",
       "    </tr>\n",
       "    <tr>\n",
       "      <th>51.0</th>\n",
       "      <td>NaN</td>\n",
       "      <td>1.0</td>\n",
       "      <td>NaN</td>\n",
       "      <td>NaN</td>\n",
       "      <td>1.0</td>\n",
       "    </tr>\n",
       "    <tr>\n",
       "      <th>52.0</th>\n",
       "      <td>NaN</td>\n",
       "      <td>NaN</td>\n",
       "      <td>NaN</td>\n",
       "      <td>NaN</td>\n",
       "      <td>3.0</td>\n",
       "    </tr>\n",
       "    <tr>\n",
       "      <th>53.0</th>\n",
       "      <td>NaN</td>\n",
       "      <td>NaN</td>\n",
       "      <td>NaN</td>\n",
       "      <td>NaN</td>\n",
       "      <td>4.0</td>\n",
       "    </tr>\n",
       "    <tr>\n",
       "      <th>54.0</th>\n",
       "      <td>NaN</td>\n",
       "      <td>NaN</td>\n",
       "      <td>6.0</td>\n",
       "      <td>NaN</td>\n",
       "      <td>NaN</td>\n",
       "    </tr>\n",
       "    <tr>\n",
       "      <th>55.0</th>\n",
       "      <td>NaN</td>\n",
       "      <td>3.0</td>\n",
       "      <td>1.0</td>\n",
       "      <td>NaN</td>\n",
       "      <td>NaN</td>\n",
       "    </tr>\n",
       "    <tr>\n",
       "      <th>56.0</th>\n",
       "      <td>NaN</td>\n",
       "      <td>2.0</td>\n",
       "      <td>NaN</td>\n",
       "      <td>NaN</td>\n",
       "      <td>NaN</td>\n",
       "    </tr>\n",
       "    <tr>\n",
       "      <th>64.0</th>\n",
       "      <td>NaN</td>\n",
       "      <td>NaN</td>\n",
       "      <td>NaN</td>\n",
       "      <td>4.0</td>\n",
       "      <td>58.0</td>\n",
       "    </tr>\n",
       "    <tr>\n",
       "      <th>67.0</th>\n",
       "      <td>NaN</td>\n",
       "      <td>NaN</td>\n",
       "      <td>NaN</td>\n",
       "      <td>NaN</td>\n",
       "      <td>2.0</td>\n",
       "    </tr>\n",
       "    <tr>\n",
       "      <th>72.0</th>\n",
       "      <td>NaN</td>\n",
       "      <td>NaN</td>\n",
       "      <td>NaN</td>\n",
       "      <td>NaN</td>\n",
       "      <td>1.0</td>\n",
       "    </tr>\n",
       "    <tr>\n",
       "      <th>74.0</th>\n",
       "      <td>NaN</td>\n",
       "      <td>NaN</td>\n",
       "      <td>NaN</td>\n",
       "      <td>NaN</td>\n",
       "      <td>3.0</td>\n",
       "    </tr>\n",
       "    <tr>\n",
       "      <th>75.0</th>\n",
       "      <td>NaN</td>\n",
       "      <td>25.0</td>\n",
       "      <td>1.0</td>\n",
       "      <td>NaN</td>\n",
       "      <td>2.0</td>\n",
       "    </tr>\n",
       "    <tr>\n",
       "      <th>76.0</th>\n",
       "      <td>NaN</td>\n",
       "      <td>NaN</td>\n",
       "      <td>NaN</td>\n",
       "      <td>NaN</td>\n",
       "      <td>4.0</td>\n",
       "    </tr>\n",
       "    <tr>\n",
       "      <th>77.0</th>\n",
       "      <td>NaN</td>\n",
       "      <td>NaN</td>\n",
       "      <td>NaN</td>\n",
       "      <td>NaN</td>\n",
       "      <td>2.0</td>\n",
       "    </tr>\n",
       "    <tr>\n",
       "      <th>84.0</th>\n",
       "      <td>1.0</td>\n",
       "      <td>NaN</td>\n",
       "      <td>2.0</td>\n",
       "      <td>1.0</td>\n",
       "      <td>11.0</td>\n",
       "    </tr>\n",
       "    <tr>\n",
       "      <th>86.0</th>\n",
       "      <td>NaN</td>\n",
       "      <td>NaN</td>\n",
       "      <td>NaN</td>\n",
       "      <td>NaN</td>\n",
       "      <td>3.0</td>\n",
       "    </tr>\n",
       "    <tr>\n",
       "      <th>91.0</th>\n",
       "      <td>NaN</td>\n",
       "      <td>5.0</td>\n",
       "      <td>NaN</td>\n",
       "      <td>NaN</td>\n",
       "      <td>NaN</td>\n",
       "    </tr>\n",
       "    <tr>\n",
       "      <th>93.0</th>\n",
       "      <td>NaN</td>\n",
       "      <td>3.0</td>\n",
       "      <td>NaN</td>\n",
       "      <td>NaN</td>\n",
       "      <td>NaN</td>\n",
       "    </tr>\n",
       "    <tr>\n",
       "      <th>97.0</th>\n",
       "      <td>NaN</td>\n",
       "      <td>NaN</td>\n",
       "      <td>3.0</td>\n",
       "      <td>NaN</td>\n",
       "      <td>NaN</td>\n",
       "    </tr>\n",
       "    <tr>\n",
       "      <th>98.0</th>\n",
       "      <td>30.0</td>\n",
       "      <td>31.0</td>\n",
       "      <td>268.0</td>\n",
       "      <td>13.0</td>\n",
       "      <td>2422.0</td>\n",
       "    </tr>\n",
       "    <tr>\n",
       "      <th>100.0</th>\n",
       "      <td>NaN</td>\n",
       "      <td>7.0</td>\n",
       "      <td>NaN</td>\n",
       "      <td>NaN</td>\n",
       "      <td>NaN</td>\n",
       "    </tr>\n",
       "    <tr>\n",
       "      <th>105.0</th>\n",
       "      <td>NaN</td>\n",
       "      <td>NaN</td>\n",
       "      <td>NaN</td>\n",
       "      <td>NaN</td>\n",
       "      <td>2.0</td>\n",
       "    </tr>\n",
       "  </tbody>\n",
       "</table>\n",
       "</div>"
      ],
      "text/plain": [
       "race     15.0   17.0   21.0   69.0    101.0\n",
       "country                                    \n",
       "22.0       NaN    3.0    NaN    NaN     NaN\n",
       "23.0       NaN    NaN    NaN    NaN    15.0\n",
       "24.0       NaN    6.0    NaN    NaN     NaN\n",
       "25.0       NaN    NaN    NaN    1.0     6.0\n",
       "27.0       NaN    NaN    NaN    NaN     8.0\n",
       "30.0       NaN    NaN    1.0    2.0     6.0\n",
       "31.0       NaN    NaN    NaN    1.0     5.0\n",
       "32.0       NaN    NaN    NaN    3.0     6.0\n",
       "33.0       NaN    NaN    NaN    NaN     7.0\n",
       "38.0       NaN    NaN    NaN    NaN     1.0\n",
       "39.0       NaN    NaN    NaN    NaN    16.0\n",
       "40.0       NaN    NaN    NaN    NaN     4.0\n",
       "41.0       NaN    NaN    NaN    1.0     3.0\n",
       "43.0       NaN    NaN    3.0    NaN     NaN\n",
       "46.0       NaN    NaN    NaN    NaN     3.0\n",
       "47.0       NaN    2.0    NaN    NaN     NaN\n",
       "50.0       NaN    3.0    NaN    2.0     2.0\n",
       "51.0       NaN    1.0    NaN    NaN     1.0\n",
       "52.0       NaN    NaN    NaN    NaN     3.0\n",
       "53.0       NaN    NaN    NaN    NaN     4.0\n",
       "54.0       NaN    NaN    6.0    NaN     NaN\n",
       "55.0       NaN    3.0    1.0    NaN     NaN\n",
       "56.0       NaN    2.0    NaN    NaN     NaN\n",
       "64.0       NaN    NaN    NaN    4.0    58.0\n",
       "67.0       NaN    NaN    NaN    NaN     2.0\n",
       "72.0       NaN    NaN    NaN    NaN     1.0\n",
       "74.0       NaN    NaN    NaN    NaN     3.0\n",
       "75.0       NaN   25.0    1.0    NaN     2.0\n",
       "76.0       NaN    NaN    NaN    NaN     4.0\n",
       "77.0       NaN    NaN    NaN    NaN     2.0\n",
       "84.0       1.0    NaN    2.0    1.0    11.0\n",
       "86.0       NaN    NaN    NaN    NaN     3.0\n",
       "91.0       NaN    5.0    NaN    NaN     NaN\n",
       "93.0       NaN    3.0    NaN    NaN     NaN\n",
       "97.0       NaN    NaN    3.0    NaN     NaN\n",
       "98.0      30.0   31.0  268.0   13.0  2422.0\n",
       "100.0      NaN    7.0    NaN    NaN     NaN\n",
       "105.0      NaN    NaN    NaN    NaN     2.0"
      ]
     },
     "metadata": {},
     "output_type": "display_data"
    }
   ],
   "source": [
    "# Analysis of race feature\n",
    "countryRace = clearAllData.groupby(['country','race'])['race'].count().unstack()\n",
    "display(countryRace)"
   ]
  },
  {
   "cell_type": "code",
   "execution_count": 60,
   "metadata": {
    "collapsed": false,
    "scrolled": true
   },
   "outputs": [
    {
     "data": {
      "text/plain": [
       "{22.0: 17.0,\n",
       " 23.0: 101.0,\n",
       " 24.0: 17.0,\n",
       " 25.0: 101.0,\n",
       " 27.0: 101.0,\n",
       " 30.0: 101.0,\n",
       " 31.0: 101.0,\n",
       " 32.0: 101.0,\n",
       " 33.0: 101.0,\n",
       " 38.0: 101.0,\n",
       " 39.0: 101.0,\n",
       " 40.0: 101.0,\n",
       " 41.0: 101.0,\n",
       " 43.0: 21.0,\n",
       " 46.0: 101.0,\n",
       " 47.0: 17.0,\n",
       " 50.0: 17.0,\n",
       " 51.0: 17.0,\n",
       " 52.0: 101.0,\n",
       " 53.0: 101.0,\n",
       " 54.0: 21.0,\n",
       " 55.0: 17.0,\n",
       " 56.0: 17.0,\n",
       " 64.0: 101.0,\n",
       " 67.0: 101.0,\n",
       " 72.0: 101.0,\n",
       " 74.0: 101.0,\n",
       " 75.0: 17.0,\n",
       " 76.0: 101.0,\n",
       " 77.0: 101.0,\n",
       " 84.0: 101.0,\n",
       " 86.0: 101.0,\n",
       " 91.0: 17.0,\n",
       " 93.0: 17.0,\n",
       " 97.0: 21.0,\n",
       " 98.0: 101.0,\n",
       " 100.0: 17.0,\n",
       " 105.0: 101.0}"
      ]
     },
     "execution_count": 60,
     "metadata": {},
     "output_type": "execute_result"
    }
   ],
   "source": [
    "countryToRaceDict = {}\n",
    "for idx,country in enumerate(countryRace.index):\n",
    "    countryToRaceDict[country] = countryRace.iloc[idx,:].argmax()\n",
    "countryToRaceDict"
   ]
  },
  {
   "cell_type": "code",
   "execution_count": null,
   "metadata": {
    "collapsed": true
   },
   "outputs": [],
   "source": []
  },
  {
   "cell_type": "markdown",
   "metadata": {},
   "source": [
    "<a id=\"working_hours\"></a>\n",
    "<h3> Analysis of working_hours feature</h3>\n",
    "<div style=\"text-align:right\">\n",
    "<a href=\"#top\">[Back to top]</a>\n",
    "</div>"
   ]
  },
  {
   "cell_type": "markdown",
   "metadata": {},
   "source": [
    "<div style=\"font-size:17px;font-family:Verdana\"><p> There was not a notable correlation of the work_hours with any other feature in the data set. Still the distribution of the feature values reveal the dominance of one value and also that although the feature is of numerical nature we only encounter 70 different values in the data set</p>\n",
    "</div>"
   ]
  },
  {
   "cell_type": "code",
   "execution_count": 123,
   "metadata": {
    "collapsed": false
   },
   "outputs": [
    {
     "data": {
      "image/png": "[encoded data removed]",
      "text/plain": [
       "<matplotlib.figure.Figure at 0x7f3fa9b6df10>"
      ]
     },
     "metadata": {},
     "output_type": "display_data"
    }
   ],
   "source": [
    "#Analysis of working hours per week\n",
    "_ = sns.distplot(clearAllData.work_hours.values)"
   ]
  },
  {
   "cell_type": "code",
   "execution_count": 124,
   "metadata": {
    "collapsed": false
   },
   "outputs": [
    {
     "data": {
      "text/plain": [
       "count    3035.000000\n",
       "mean       12.911543\n",
       "std         3.781979\n",
       "min         0.318310\n",
       "25%        12.732000\n",
       "50%        12.732000\n",
       "75%        14.324000\n",
       "max        31.513000\n",
       "Name: work_hours, dtype: float64"
      ]
     },
     "execution_count": 124,
     "metadata": {},
     "output_type": "execute_result"
    }
   ],
   "source": [
    "clearAllData.work_hours.describe()"
   ]
  },
  {
   "cell_type": "markdown",
   "metadata": {},
   "source": [
    "<a id=\"investment_features\"></a>\n",
    "<h3> Analysis of investment features</h3>\n",
    "<div style=\"text-align:right\">\n",
    "<a href=\"#top\">[Back to top]</a>\n",
    "</div>"
   ]
  },
  {
   "cell_type": "markdown",
   "metadata": {},
   "source": [
    "<div style=\"font-size:17px;font-family:Verdana\"><p> To summarize the analysis conducted in this section, we found out that there is no instance in the training set where both the investment features are above zero. This was found by the amount of instances in the training set which do not have a missing value in either those features (~65% of the total training samples). This results in a rather simple imputation strategy for the rest of the instances where we can apply two simple rules:</p>\n",
    "\n",
    "<ol>\n",
    "<li> We impute zero value for each missing investment feature of an instance where there is an existent value for the other investment feature (regardless of which is which)</li>\n",
    "<li> We impute zero value for both features when there are missing values for both features for the instance</li>\n",
    "</ol>\n",
    "</div>"
   ]
  },
  {
   "cell_type": "code",
   "execution_count": 109,
   "metadata": {
    "collapsed": false
   },
   "outputs": [
    {
     "data": {
      "text/plain": [
       "count     8519.000000\n",
       "mean       336.549559\n",
       "std       2337.582458\n",
       "min          0.000000\n",
       "50%          0.000000\n",
       "91%          0.000000\n",
       "92%        290.940000\n",
       "93%        826.650000\n",
       "94%       1102.600000\n",
       "95%       1480.100000\n",
       "96%       2323.000000\n",
       "97%       2447.200000\n",
       "98%       4483.100000\n",
       "99%       4782.300000\n",
       "100%     31831.000000\n",
       "max      31831.000000\n",
       "Name: income_inv, dtype: float64"
      ]
     },
     "execution_count": 109,
     "metadata": {},
     "output_type": "execute_result"
    }
   ],
   "source": [
    "# The percentiles of income from investments for the top 10% of the values\n",
    "train.income_inv.dropna().describe(percentiles=\n",
    "                                   [.91,.92,.93,.94,.95,.96,.97,.98,.99,1])"
   ]
  },
  {
   "cell_type": "code",
   "execution_count": 154,
   "metadata": {
    "collapsed": false
   },
   "outputs": [
    {
     "data": {
      "text/html": [
       "<div>\n",
       "<table border=\"1\" class=\"dataframe\">\n",
       "  <thead>\n",
       "    <tr style=\"text-align: right;\">\n",
       "      <th>target</th>\n",
       "      <th>0</th>\n",
       "      <th>1</th>\n",
       "    </tr>\n",
       "    <tr>\n",
       "      <th>income_inv</th>\n",
       "      <th></th>\n",
       "      <th></th>\n",
       "    </tr>\n",
       "  </thead>\n",
       "  <tbody>\n",
       "    <tr>\n",
       "      <th>[290.94, 998.54]</th>\n",
       "      <td>117</td>\n",
       "      <td>21</td>\n",
       "    </tr>\n",
       "    <tr>\n",
       "      <th>(998.54, 1595.7]</th>\n",
       "      <td>131</td>\n",
       "      <td>30</td>\n",
       "    </tr>\n",
       "    <tr>\n",
       "      <th>(1595.7, 2447.2]</th>\n",
       "      <td>12</td>\n",
       "      <td>151</td>\n",
       "    </tr>\n",
       "    <tr>\n",
       "      <th>(2447.2, 4782.3]</th>\n",
       "      <td>4</td>\n",
       "      <td>151</td>\n",
       "    </tr>\n",
       "    <tr>\n",
       "      <th>(4782.3, 31831]</th>\n",
       "      <td>4</td>\n",
       "      <td>63</td>\n",
       "    </tr>\n",
       "  </tbody>\n",
       "</table>\n",
       "</div>"
      ],
      "text/plain": [
       "target              0    1\n",
       "income_inv                \n",
       "[290.94, 998.54]  117   21\n",
       "(998.54, 1595.7]  131   30\n",
       "(1595.7, 2447.2]   12  151\n",
       "(2447.2, 4782.3]    4  151\n",
       "(4782.3, 31831]     4   63"
      ]
     },
     "metadata": {},
     "output_type": "display_data"
    },
    {
     "data": {
      "text/plain": [
       "<matplotlib.text.Text at 0x7f5123067810>"
      ]
     },
     "execution_count": 154,
     "metadata": {},
     "output_type": "execute_result"
    },
    {
     "data": {
      "image/png": "[encoded data removed]",
      "text/plain": [
       "<matplotlib.figure.Figure at 0x7f5123067490>"
      ]
     },
     "metadata": {},
     "output_type": "display_data"
    }
   ],
   "source": [
    "# Histogram of the top 10% values per target variable\n",
    "income90 = train[train.income_inv>200]\n",
    "factor = pd.qcut(income90.income_inv,5)\n",
    "\n",
    "income_buckanalysis = income90.groupby([factor,'target'])['target'].count().unstack()\n",
    "display(income_buckanalysis)\n",
    "\n",
    "plt.hist(income90[income90.target==0]['income_inv'],\n",
    "         [291,999,1560,2447,4783,31831],align='mid',alpha=1,color='blue',\n",
    "        label='target_0')\n",
    "plt.hist(income90[income90.target==1]['income_inv'].values,\n",
    "         [291,999,1560,2447,4783,31831],align='mid',alpha=0.5,color='red',\n",
    "        label='target_1')\n",
    "plt.grid(True)\n",
    "plt.title(\"Histogram for the outliers (~top 10%) of investment income\")\n",
    "plt.ylabel(\"Frequency\")\n",
    "plt.xlabel('Income from investments')\n"
   ]
  },
  {
   "cell_type": "code",
   "execution_count": 115,
   "metadata": {
    "collapsed": false
   },
   "outputs": [
    {
     "data": {
      "text/plain": [
       "count    8502.000000\n",
       "mean       26.504846\n",
       "std       124.426967\n",
       "min         0.000000\n",
       "50%         0.000000\n",
       "91%         0.000000\n",
       "92%         0.000000\n",
       "93%         0.000000\n",
       "94%         0.000000\n",
       "95%         0.000000\n",
       "96%       472.690000\n",
       "97%       553.860000\n",
       "98%       605.430000\n",
       "99%       629.300000\n",
       "100%     1386.600000\n",
       "max      1386.600000\n",
       "Name: loss_inv, dtype: float64"
      ]
     },
     "execution_count": 115,
     "metadata": {},
     "output_type": "execute_result"
    }
   ],
   "source": [
    "train.loss_inv.dropna().describe(percentiles=\n",
    "                                [.91,.92,.93,.94,.95,.96,.97,.98,.99,1])"
   ]
  },
  {
   "cell_type": "code",
   "execution_count": 152,
   "metadata": {
    "collapsed": false,
    "scrolled": true
   },
   "outputs": [
    {
     "data": {
      "text/html": [
       "<div>\n",
       "<table border=\"1\" class=\"dataframe\">\n",
       "  <thead>\n",
       "    <tr style=\"text-align: right;\">\n",
       "      <th></th>\n",
       "      <th>age</th>\n",
       "      <th>work_class</th>\n",
       "      <th>education</th>\n",
       "      <th>years_education</th>\n",
       "      <th>marital_status</th>\n",
       "      <th>occupation</th>\n",
       "      <th>relationship</th>\n",
       "      <th>race</th>\n",
       "      <th>sex</th>\n",
       "      <th>income_inv</th>\n",
       "      <th>loss_inv</th>\n",
       "      <th>work_hours</th>\n",
       "      <th>country</th>\n",
       "      <th>target</th>\n",
       "    </tr>\n",
       "  </thead>\n",
       "  <tbody>\n",
       "    <tr>\n",
       "      <th>15</th>\n",
       "      <td>13.6870</td>\n",
       "      <td>80.0</td>\n",
       "      <td>3.0</td>\n",
       "      <td>NaN</td>\n",
       "      <td>61.0</td>\n",
       "      <td>96.0</td>\n",
       "      <td>49.0</td>\n",
       "      <td>101.0</td>\n",
       "      <td>59.0</td>\n",
       "      <td>0.0</td>\n",
       "      <td>649.99</td>\n",
       "      <td>12.7320</td>\n",
       "      <td>NaN</td>\n",
       "      <td>0</td>\n",
       "    </tr>\n",
       "    <tr>\n",
       "      <th>22</th>\n",
       "      <td>14.3240</td>\n",
       "      <td>80.0</td>\n",
       "      <td>20.0</td>\n",
       "      <td>NaN</td>\n",
       "      <td>28.0</td>\n",
       "      <td>34.0</td>\n",
       "      <td>73.0</td>\n",
       "      <td>101.0</td>\n",
       "      <td>NaN</td>\n",
       "      <td>0.0</td>\n",
       "      <td>448.18</td>\n",
       "      <td>12.7320</td>\n",
       "      <td>98.0</td>\n",
       "      <td>0</td>\n",
       "    </tr>\n",
       "    <tr>\n",
       "      <th>71</th>\n",
       "      <td>9.5493</td>\n",
       "      <td>80.0</td>\n",
       "      <td>42.0</td>\n",
       "      <td>2.8648</td>\n",
       "      <td>61.0</td>\n",
       "      <td>85.0</td>\n",
       "      <td>NaN</td>\n",
       "      <td>17.0</td>\n",
       "      <td>37.0</td>\n",
       "      <td>0.0</td>\n",
       "      <td>500.70</td>\n",
       "      <td>NaN</td>\n",
       "      <td>NaN</td>\n",
       "      <td>0</td>\n",
       "    </tr>\n",
       "    <tr>\n",
       "      <th>93</th>\n",
       "      <td>NaN</td>\n",
       "      <td>80.0</td>\n",
       "      <td>90.0</td>\n",
       "      <td>3.1831</td>\n",
       "      <td>65.0</td>\n",
       "      <td>NaN</td>\n",
       "      <td>73.0</td>\n",
       "      <td>101.0</td>\n",
       "      <td>37.0</td>\n",
       "      <td>0.0</td>\n",
       "      <td>547.17</td>\n",
       "      <td>8.9127</td>\n",
       "      <td>98.0</td>\n",
       "      <td>0</td>\n",
       "    </tr>\n",
       "    <tr>\n",
       "      <th>97</th>\n",
       "      <td>7.6394</td>\n",
       "      <td>80.0</td>\n",
       "      <td>42.0</td>\n",
       "      <td>2.8648</td>\n",
       "      <td>NaN</td>\n",
       "      <td>71.0</td>\n",
       "      <td>68.0</td>\n",
       "      <td>101.0</td>\n",
       "      <td>NaN</td>\n",
       "      <td>0.0</td>\n",
       "      <td>560.86</td>\n",
       "      <td>12.7320</td>\n",
       "      <td>98.0</td>\n",
       "      <td>0</td>\n",
       "    </tr>\n",
       "  </tbody>\n",
       "</table>\n",
       "</div>"
      ],
      "text/plain": [
       "        age  work_class  education  years_education  marital_status  \\\n",
       "15  13.6870        80.0        3.0              NaN            61.0   \n",
       "22  14.3240        80.0       20.0              NaN            28.0   \n",
       "71   9.5493        80.0       42.0           2.8648            61.0   \n",
       "93      NaN        80.0       90.0           3.1831            65.0   \n",
       "97   7.6394        80.0       42.0           2.8648             NaN   \n",
       "\n",
       "    occupation  relationship   race   sex  income_inv  loss_inv  work_hours  \\\n",
       "15        96.0          49.0  101.0  59.0         0.0    649.99     12.7320   \n",
       "22        34.0          73.0  101.0   NaN         0.0    448.18     12.7320   \n",
       "71        85.0           NaN   17.0  37.0         0.0    500.70         NaN   \n",
       "93         NaN          73.0  101.0  37.0         0.0    547.17      8.9127   \n",
       "97        71.0          68.0  101.0   NaN         0.0    560.86     12.7320   \n",
       "\n",
       "    country  target  \n",
       "15      NaN       0  \n",
       "22     98.0       0  \n",
       "71      NaN       0  \n",
       "93     98.0       0  \n",
       "97     98.0       0  "
      ]
     },
     "metadata": {},
     "output_type": "display_data"
    },
    {
     "data": {
      "text/html": [
       "<div>\n",
       "<table border=\"1\" class=\"dataframe\">\n",
       "  <thead>\n",
       "    <tr style=\"text-align: right;\">\n",
       "      <th>target</th>\n",
       "      <th>0</th>\n",
       "      <th>1</th>\n",
       "    </tr>\n",
       "    <tr>\n",
       "      <th>loss_inv</th>\n",
       "      <th></th>\n",
       "      <th></th>\n",
       "    </tr>\n",
       "  </thead>\n",
       "  <tbody>\n",
       "    <tr>\n",
       "      <th>[400.43, 509.93]</th>\n",
       "      <td>54</td>\n",
       "      <td>21</td>\n",
       "    </tr>\n",
       "    <tr>\n",
       "      <th>(509.93, 597.15]</th>\n",
       "      <td>71</td>\n",
       "      <td>12</td>\n",
       "    </tr>\n",
       "    <tr>\n",
       "      <th>(597.15, 605.43]</th>\n",
       "      <td>2</td>\n",
       "      <td>74</td>\n",
       "    </tr>\n",
       "    <tr>\n",
       "      <th>(605.43, 636.94]</th>\n",
       "      <td>14</td>\n",
       "      <td>50</td>\n",
       "    </tr>\n",
       "    <tr>\n",
       "      <th>(636.94, 1386.6]</th>\n",
       "      <td>36</td>\n",
       "      <td>36</td>\n",
       "    </tr>\n",
       "  </tbody>\n",
       "</table>\n",
       "</div>"
      ],
      "text/plain": [
       "target             0   1\n",
       "loss_inv                \n",
       "[400.43, 509.93]  54  21\n",
       "(509.93, 597.15]  71  12\n",
       "(597.15, 605.43]   2  74\n",
       "(605.43, 636.94]  14  50\n",
       "(636.94, 1386.6]  36  36"
      ]
     },
     "metadata": {},
     "output_type": "display_data"
    }
   ],
   "source": [
    "loss95 = train[train.loss_inv>400]\n",
    "display(loss95.head(5))\n",
    "lossfactor = pd.qcut(loss95.loss_inv,5)\n",
    "loss_bucketanalysis = loss95.groupby([lossfactor,'target'])['target'].count().unstack()\n",
    "display(loss_bucketanalysis)"
   ]
  },
  {
   "cell_type": "code",
   "execution_count": 155,
   "metadata": {
    "collapsed": false
   },
   "outputs": [
    {
     "data": {
      "text/plain": [
       "<matplotlib.text.Text at 0x7f5122f7c790>"
      ]
     },
     "execution_count": 155,
     "metadata": {},
     "output_type": "execute_result"
    },
    {
     "data": {
      "image/png": "[encoded data removed]",
      "text/plain": [
       "<matplotlib.figure.Figure at 0x7f5123969c50>"
      ]
     },
     "metadata": {},
     "output_type": "display_data"
    }
   ],
   "source": [
    "plt.hist(loss95[loss95.target==0]['loss_inv'].values,bins=[400,510,598,606,637,1387],alpha=1,color='blue',align='mid')\n",
    "plt.hist(loss95[loss95.target==1]['loss_inv'].values,bins=[400,510,598,606,637,1387],alpha=.5,color='red',align='mid')\n",
    "plt.grid(1)\n",
    "plt.title(\"Histogram for the outliers (~top 5%) of investment losses\")\n",
    "plt.xlabel(\"Investment losses\")\n",
    "plt.ylabel(\"Frequency\")"
   ]
  },
  {
   "cell_type": "code",
   "execution_count": 144,
   "metadata": {
    "collapsed": false
   },
   "outputs": [
    {
     "name": "stdout",
     "output_type": "stream",
     "text": [
      "There are 6908 instances in the training set with both investment values\n",
      "There are 6025 instances in the training set with both investment values\n",
      "equal to zero\n",
      "There are 883 instances in the training set with at least on investment value\n",
      "above zero\n",
      "There are 0 instances in the training set with both investment values\n",
      "above zero\n"
     ]
    }
   ],
   "source": [
    "# trainInv is the df with all the instances where values for investments both exist\n",
    "trainInv = train[~train.isnull()[['income_inv','loss_inv']].any(axis=1)][['income_inv','loss_inv']]\n",
    "print '''There are %d instances in the training set with both investment values'''\\\n",
    "%(trainInv.shape[0])\n",
    "\n",
    "# How many pairs of values are both non zero for investments??\n",
    "print '''There are %d instances in the training set with both investment values\n",
    "equal to zero'''%(trainInv[(trainInv.income_inv==0) & (trainInv.loss_inv==0)].shape[0])\n",
    "print '''There are %d instances in the training set with at least on investment value\n",
    "above zero'''%(trainInv[(trainInv.income_inv>0) | (trainInv.loss_inv>0)].shape[0])\n",
    "print '''There are %d instances in the training set with both investment values\n",
    "above zero'''%(trainInv[(trainInv.income_inv>0) & (trainInv.loss_inv>0)].shape[0])"
   ]
  },
  {
   "cell_type": "code",
   "execution_count": 148,
   "metadata": {
    "collapsed": false
   },
   "outputs": [
    {
     "name": "stdout",
     "output_type": "stream",
     "text": [
      "387 of the instances have both the investment features missing\n"
     ]
    }
   ],
   "source": [
    "# How many instances with both investment\n",
    "# features missing in the training set?\n",
    "print \"%d of the instances have both the investment features missing\"\\\n",
    "        %(train[['income_inv','loss_inv']].isnull().all(axis=1).sum())"
   ]
  },
  {
   "cell_type": "code",
   "execution_count": 150,
   "metadata": {
    "collapsed": true
   },
   "outputs": [
    {
     "data": {
      "text/plain": [
       "work_class\n",
       "36.0     151\n",
       "57.0     347\n",
       "80.0    3912\n",
       "87.0     184\n",
       "88.0     458\n",
       "92.0     225\n",
       "Name: work_class, dtype: int64"
      ]
     },
     "metadata": {},
     "output_type": "display_data"
    },
    {
     "data": {
      "text/plain": [
       "education\n",
       "2.0      168\n",
       "3.0      204\n",
       "4.0       60\n",
       "5.0       28\n",
       "6.0       48\n",
       "7.0      123\n",
       "8.0       91\n",
       "18.0     182\n",
       "19.0     233\n",
       "20.0     916\n",
       "29.0      64\n",
       "42.0    1803\n",
       "63.0     291\n",
       "78.0      11\n",
       "81.0      92\n",
       "90.0    1317\n",
       "Name: education, dtype: int64"
      ]
     },
     "metadata": {},
     "output_type": "display_data"
    },
    {
     "data": {
      "text/plain": [
       "marital_status\n",
       "28.0      770\n",
       "60.0        2\n",
       "61.0     2593\n",
       "62.0       82\n",
       "65.0     1849\n",
       "89.0      194\n",
       "102.0     168\n",
       "Name: marital_status, dtype: int64"
      ]
     },
     "metadata": {},
     "output_type": "display_data"
    },
    {
     "data": {
      "text/plain": [
       "occupation\n",
       "14.0    669\n",
       "16.0      1\n",
       "26.0    701\n",
       "34.0    651\n",
       "35.0    169\n",
       "44.0    230\n",
       "58.0    360\n",
       "71.0    607\n",
       "79.0     21\n",
       "82.0    688\n",
       "83.0    122\n",
       "85.0    665\n",
       "94.0    155\n",
       "96.0    258\n",
       "Name: occupation, dtype: int64"
      ]
     },
     "metadata": {},
     "output_type": "display_data"
    },
    {
     "data": {
      "text/plain": [
       "relationship\n",
       "49.0     2240\n",
       "68.0     1443\n",
       "70.0      156\n",
       "73.0      889\n",
       "99.0      566\n",
       "103.0     271\n",
       "Name: relationship, dtype: int64"
      ]
     },
     "metadata": {},
     "output_type": "display_data"
    },
    {
     "data": {
      "text/plain": [
       "race\n",
       "15.0       60\n",
       "17.0      181\n",
       "21.0      525\n",
       "69.0       52\n",
       "101.0    4773\n",
       "Name: race, dtype: int64"
      ]
     },
     "metadata": {},
     "output_type": "display_data"
    },
    {
     "data": {
      "text/plain": [
       "sex\n",
       "37.0    1864\n",
       "59.0    3746\n",
       "Name: sex, dtype: int64"
      ]
     },
     "metadata": {},
     "output_type": "display_data"
    },
    {
     "data": {
      "text/plain": [
       "country\n",
       "22.0        3\n",
       "23.0       32\n",
       "24.0       17\n",
       "25.0        6\n",
       "27.0       13\n",
       "30.0       13\n",
       "31.0        4\n",
       "32.0       18\n",
       "33.0       19\n",
       "38.0        2\n",
       "39.0       26\n",
       "40.0       11\n",
       "41.0       13\n",
       "43.0        9\n",
       "46.0        3\n",
       "47.0        1\n",
       "48.0        1\n",
       "50.0       12\n",
       "51.0        9\n",
       "52.0        3\n",
       "53.0        9\n",
       "54.0       18\n",
       "55.0       10\n",
       "56.0        3\n",
       "64.0      103\n",
       "67.0        4\n",
       "72.0        2\n",
       "74.0        4\n",
       "75.0       32\n",
       "76.0        8\n",
       "77.0        5\n",
       "84.0       24\n",
       "86.0        1\n",
       "91.0       15\n",
       "93.0       10\n",
       "95.0        4\n",
       "97.0        1\n",
       "98.0     5035\n",
       "100.0      11\n",
       "105.0       4\n",
       "Name: country, dtype: int64"
      ]
     },
     "metadata": {},
     "output_type": "display_data"
    }
   ],
   "source": [
    "# Ok so we can easily impute all the values from this observation to the investment features\n",
    "# but are the population representantive of the whole training set?\n",
    "trainInvAll = train[~train.isnull()[['income_inv','loss_inv']].any(axis=1)]\n",
    "for cat in categorical:\n",
    "    groupFeat(trainInvAll,cat)"
   ]
  },
  {
   "cell_type": "markdown",
   "metadata": {},
   "source": [
    "<a id=\"edu_feature\"></a>\n",
    "<center> <h2> Analysis of years of education feature</h2></center>\n",
    "<div style=\"text-align:right\">\n",
    "<a href=\"#top\">[Back to top]</a>\n",
    "</div>"
   ]
  },
  {
   "cell_type": "markdown",
   "metadata": {},
   "source": [
    "<div style=\"font-size:17px;font-family:Verdana\"><p> Years of education and education type have a 1:1 relation of values.That means that on of the features can be omitted from the models since there are redundant information in the data set</p>\n",
    "</div>"
   ]
  },
  {
   "cell_type": "code",
   "execution_count": 186,
   "metadata": {
    "collapsed": false
   },
   "outputs": [
    {
     "data": {
      "text/plain": [
       "<matplotlib.axes._subplots.AxesSubplot at 0x7f51216ca9d0>"
      ]
     },
     "execution_count": 186,
     "metadata": {},
     "output_type": "execute_result"
    },
    {
     "data": {
      "image/png": "[encoded data removed]",
      "text/plain": [
       "<matplotlib.figure.Figure at 0x7f5121da7a10>"
      ]
     },
     "metadata": {},
     "output_type": "display_data"
    }
   ],
   "source": [
    "sns.distplot(train[train.target==0]['years_education'].dropna().values,bins=[0,1,2,3,4,5,6],kde=0)\n",
    "sns.distplot(train[train.target==1]['years_education'].dropna().values,bins=range(0,7),color='red',kde=0)"
   ]
  },
  {
   "cell_type": "code",
   "execution_count": 27,
   "metadata": {
    "collapsed": false
   },
   "outputs": [
    {
     "data": {
      "text/plain": [
       "years_education  education\n",
       "0.31831          78.0           4\n",
       "0.63662          5.0           20\n",
       "0.95493          6.0           30\n",
       "1.27320          7.0           39\n",
       "1.59150          8.0           48\n",
       "1.90990          2.0           86\n",
       "2.22820          3.0          104\n",
       "2.54650          4.0           38\n",
       "2.86480          42.0         959\n",
       "3.18310          90.0         710\n",
       "3.50140          19.0         127\n",
       "3.81970          18.0         113\n",
       "4.13800          20.0         513\n",
       "4.45630          63.0         157\n",
       "4.77460          81.0          53\n",
       "5.09300          29.0          34\n",
       "Name: education, dtype: int64"
      ]
     },
     "metadata": {},
     "output_type": "display_data"
    }
   ],
   "source": [
    "edu_years = clearAllData.groupby(['years_education','education'])['education'].count().dropna()\n",
    "display(edu_years)"
   ]
  },
  {
   "cell_type": "code",
   "execution_count": 28,
   "metadata": {
    "collapsed": false
   },
   "outputs": [],
   "source": [
    "cros = pd.crosstab(train.education,train.years_education)"
   ]
  },
  {
   "cell_type": "code",
   "execution_count": 29,
   "metadata": {
    "collapsed": false
   },
   "outputs": [],
   "source": [
    "eduToyears = {}\n",
    "for idx,edu in enumerate(cros.index):\n",
    "    eduToyears[edu] = round(cros.iloc[idx,:].idxmax(),2)"
   ]
  },
  {
   "cell_type": "code",
   "execution_count": 30,
   "metadata": {
    "collapsed": false
   },
   "outputs": [
    {
     "data": {
      "text/plain": [
       "{2.0: 1.91,\n",
       " 3.0: 2.23,\n",
       " 4.0: 2.55,\n",
       " 5.0: 0.64,\n",
       " 6.0: 0.95,\n",
       " 7.0: 1.27,\n",
       " 8.0: 1.59,\n",
       " 18.0: 3.82,\n",
       " 19.0: 3.5,\n",
       " 20.0: 4.14,\n",
       " 29.0: 5.09,\n",
       " 42.0: 2.86,\n",
       " 63.0: 4.46,\n",
       " 78.0: 0.32,\n",
       " 81.0: 4.77,\n",
       " 90.0: 3.18}"
      ]
     },
     "execution_count": 30,
     "metadata": {},
     "output_type": "execute_result"
    }
   ],
   "source": [
    "eduToyears"
   ]
  },
  {
   "cell_type": "code",
   "execution_count": 31,
   "metadata": {
    "collapsed": true
   },
   "outputs": [],
   "source": [
    "yearsToEdu = {0.31831:78.0,\n",
    "              0.63662:5.0,\n",
    "              0.95493:6.0,\n",
    "              1.27320:7.0,\n",
    "              1.59150:8.0,\n",
    "              1.90990:2.0,\n",
    "              2.22820:3.0,\n",
    "              2.54650:4.0,\n",
    "              2.86480:42.0,\n",
    "              3.18310:90.0,\n",
    "              3.50140:19.0,\n",
    "              3.81970:18.0,\n",
    "              4.13800:20.0,\n",
    "              4.45630:63.0,\n",
    "              4.77460:81.0,\n",
    "              5.09300:29.0}"
   ]
  },
  {
   "cell_type": "code",
   "execution_count": null,
   "metadata": {
    "collapsed": true
   },
   "outputs": [],
   "source": []
  },
  {
   "cell_type": "code",
   "execution_count": null,
   "metadata": {
    "collapsed": true
   },
   "outputs": [],
   "source": []
  },
  {
   "cell_type": "code",
   "execution_count": null,
   "metadata": {
    "collapsed": true
   },
   "outputs": [],
   "source": []
  },
  {
   "cell_type": "markdown",
   "metadata": {},
   "source": [
    "<a id=\"imputations\"></a>\n",
    "<center> <h2> Imputation strategies</h2></center>\n",
    "<div style=\"text-align:right\">\n",
    "<a href=\"#top\">[Back to top]</a>\n",
    "</div>"
   ]
  },
  {
   "cell_type": "markdown",
   "metadata": {},
   "source": [
    "<a id=\"preimp\"></a>\n",
    "<h3> Preimputation strategy (Based on EDA)</h3>\n",
    "<div style=\"text-align:right\">\n",
    "<a href=\"#top\">[Back to top]</a>\n",
    "</div>\n",
    "\n"
   ]
  },
  {
   "cell_type": "code",
   "execution_count": 22,
   "metadata": {
    "collapsed": true
   },
   "outputs": [],
   "source": [
    "# relMarDict -> mapping from relationship to marital_status\n",
    "# marRelDict -> mapping from marital_status to relationship\n",
    "trainimputed = train.copy(deep=True)\n",
    "\n",
    "# Relatioship to marital_status imputation\n",
    "relToMar = trainimputed[(trainimputed.marital_status.isnull()) & (trainimputed.relationship.notnull())]['relationship']\n",
    "marToRel = trainimputed[(trainimputed.marital_status.notnull()) & (trainimputed.relationship.isnull())]['marital_status']\n",
    "relToMar = relToMar.map(relMarDict)\n",
    "marToRel = marToRel.map(marRelDict)\n",
    "trainimputed.ix[relToMar.index,'marital_status'] = relToMar\n",
    "trainimputed.ix[marToRel.index,'relationship'] = marToRel\n",
    "\n",
    "# Impute mean age per marital status value\n",
    "marToAge = trainimputed[(trainimputed.age.isnull()) & (trainimputed.marital_status.notnull())]['marital_status']\n",
    "marToAge.head()\n",
    "marToAge = marToAge.map(marToAgeDict)\n",
    "trainimputed.ix[marToAge.index,'age'] = marToAge\n",
    "\n",
    "# Impute work_class\n",
    "nullWorkClass = trainimputed[trainimputed.work_class.isnull()]['work_class']\n",
    "nullWorkClass = nullWorkClass.map(lambda x: 80)\n",
    "trainimputed.ix[nullWorkClass.index,'work_class'] = nullWorkClass\n",
    "\n",
    "# Impute years_education from education level\n",
    "eduToYear = trainimputed[(trainimputed.years_education.isnull()) & (trainimputed.education.notnull())]['education']\n",
    "yearToEdu = train[(train.years_education.notnull()) & (train.education.isnull())]['years_education']\n",
    "yearToEdu = yearToEdu.map(yearsToEdu)\n",
    "trainimputed.ix[yearToEdu.index,'education'] = yearToEdu\n",
    "eduToYear = eduToYear.map(eduToyears)\n",
    "trainimputed.ix[eduToYear.index,'years_education'] = eduToYear\n",
    "\n",
    "# Impute occupation and sex\n",
    "occToSex = trainimputed[(trainimputed.occupation.notnull()) &(trainimputed.sex.isnull())]['occupation']\n",
    "occToSex = occToSex.map(occSexDict)\n",
    "trainimputed.ix[occToSex.index,'sex'] = occToSex\n",
    "\n",
    "#Impute race from country\n",
    "countryToRace = trainimputed[(trainimputed.country.notnull()) & (train.race.isnull())]['country']\n",
    "countryToRace = countryToRace.map(countryToRaceDict)\n",
    "trainimputed.ix[countryToRace.index,'race'] = countryToRace\n",
    "\n",
    "# Impute investment features\n",
    "trainimputed.income_inv.fillna(value=0,inplace=True)\n",
    "trainimputed.loss_inv.fillna(value=0,inplace=True)\n",
    "\n",
    "# Impute mean working_hours for missing values\n",
    "trainimputed.work_hours.fillna(value=round(trainimputed.work_hours.mean(),2),inplace=True)"
   ]
  },
  {
   "cell_type": "code",
   "execution_count": 77,
   "metadata": {
    "collapsed": true
   },
   "outputs": [],
   "source": [
    "trainimputed.to_csv(\"preimpute/trainimputed.csv\",index=False)"
   ]
  },
  {
   "cell_type": "code",
   "execution_count": 70,
   "metadata": {
    "collapsed": true
   },
   "outputs": [],
   "source": [
    "# Preimpute to test set\n",
    "testimputed = test.copy(deep=True)\n",
    "\n",
    "# Relatioship to marital_status imputation\n",
    "trelToMar = testimputed[(testimputed.marital_status.isnull()) & (testimputed.relationship.notnull())]['relationship']\n",
    "tmarToRel = testimputed[(testimputed.marital_status.notnull()) & (testimputed.relationship.isnull())]['marital_status']\n",
    "trelToMar = trelToMar.map(relMarDict)\n",
    "tmarToRel = tmarToRel.map(marRelDict)\n",
    "testimputed.ix[trelToMar.index,'marital_status'] = trelToMar\n",
    "testimputed.ix[tmarToRel.index,'relationship'] = tmarToRel\n",
    "\n",
    "# Impute mean age per marital status value\n",
    "tmarToAge = testimputed[(testimputed.age.isnull()) & (testimputed.marital_status.notnull())]['marital_status']\n",
    "tmarToAge = tmarToAge.map(marToAgeDict)\n",
    "testimputed.ix[tmarToAge.index,'age'] = tmarToAge\n",
    "\n",
    "# Impute work_class\n",
    "tnullWorkClass = testimputed[testimputed.work_class.isnull()]['work_class']\n",
    "tnullWorkClass = tnullWorkClass.map(lambda x: 80)\n",
    "testimputed.ix[tnullWorkClass.index,'work_class'] = tnullWorkClass\n",
    "\n",
    "# Impute years_education from education level\n",
    "teduToYear = testimputed[(testimputed.years_education.isnull()) & (testimputed.education.notnull())]['education']\n",
    "tyearToEdu = test[(test.years_education.notnull()) & (test.education.isnull())]['years_education']\n",
    "tyearToEdu = tyearToEdu.map(yearsToEdu)\n",
    "testimputed.ix[tyearToEdu.index,'education'] = tyearToEdu\n",
    "teduToYear = teduToYear.map(eduToyears)\n",
    "testimputed.ix[teduToYear.index,'years_education'] = teduToYear\n",
    "\n",
    "# Impute occupation and sex\n",
    "toccToSex = testimputed[(testimputed.occupation.notnull()) &(testimputed.sex.isnull())]['occupation']\n",
    "toccToSex = toccToSex.map(occSexDict)\n",
    "testimputed.ix[toccToSex.index,'sex'] = toccToSex\n",
    "\n",
    "#Impute race from country\n",
    "tcountryToRace = testimputed[(testimputed.country.notnull()) & (test.race.isnull())]['country']\n",
    "tcountryToRace = tcountryToRace.map(countryToRaceDict)\n",
    "testimputed.ix[tcountryToRace.index,'race'] = tcountryToRace\n",
    "\n",
    "# Impute investment features\n",
    "testimputed.income_inv.fillna(value=0,inplace=True)\n",
    "testimputed.loss_inv.fillna(value=0,inplace=True)\n",
    "\n",
    "# Impute mean working_hours for missing values\n",
    "testimputed.work_hours.fillna(value=round(trainimputed.work_hours.mean(),2),inplace=True)\n"
   ]
  },
  {
   "cell_type": "code",
   "execution_count": 78,
   "metadata": {
    "collapsed": true
   },
   "outputs": [],
   "source": [
    "testimputed.to_csv(\"preimpute/testimputed.csv\",index=False)"
   ]
  },
  {
   "cell_type": "code",
   "execution_count": 74,
   "metadata": {
    "collapsed": true
   },
   "outputs": [],
   "source": [
    "# READ TRAINIMPUTED AND TESTIMPUTED\n",
    "trainimputed = pd.read_csv(\"preimpute/trainimputed.csv\",header=0,index_col=0)\n",
    "testimputed = pd.read_csv(\"preimpute/testimputed.csv\",header=0,index_col=0)"
   ]
  },
  {
   "cell_type": "code",
   "execution_count": 76,
   "metadata": {
    "collapsed": false
   },
   "outputs": [
    {
     "data": {
      "text/plain": [
       "age                  69\n",
       "work_class            0\n",
       "education           362\n",
       "years_education     362\n",
       "marital_status      375\n",
       "occupation         2423\n",
       "relationship        375\n",
       "race                446\n",
       "sex                 444\n",
       "income_inv            0\n",
       "loss_inv              0\n",
       "work_hours            0\n",
       "country            2157\n",
       "target                0\n",
       "dtype: int64"
      ]
     },
     "execution_count": 76,
     "metadata": {},
     "output_type": "execute_result"
    }
   ],
   "source": [
    "trainimputed.isnull().sum(axis=0)"
   ]
  },
  {
   "cell_type": "markdown",
   "metadata": {},
   "source": [
    "<a id=\"strategy1\"></a>\n",
    "<h3> Strategy 1</h3>\n",
    "<div style=\"text-align:right\">\n",
    "<a href=\"#top\">[Back to top]</a>\n",
    "</div>\n"
   ]
  },
  {
   "cell_type": "code",
   "execution_count": 79,
   "metadata": {
    "collapsed": true
   },
   "outputs": [],
   "source": [
    "from sklearn.preprocessing import Imputer\n",
    "\n",
    "class Strategy1():\n",
    "\n",
    "    def __init__(self,df,cat,con):\n",
    "        # Extract the categorical and numerical data of the training set\n",
    "        self.catData = df[cat]\n",
    "        self.conData = df[con]\n",
    "        # The two imputers for categorical and numerical data\n",
    "        # With mode and median strategies \n",
    "        self.impCat = Imputer(strategy='most_frequent')\n",
    "        self.impCon = Imputer(strategy='median')\n",
    "    \n",
    "    def fit(self):\n",
    "        self.impCat = self.impCat.fit(self.catData)\n",
    "        self.impCon = self.impCon.fit(self.conData)\n",
    "    \n",
    "    def transform(self,df,cat,con):\n",
    "        data = np.concatenate([self.impCat.transform(df[cat].values),\n",
    "                              self.impCon.transform(df[con].values)],\n",
    "                              axis=1)\n",
    "        return pd.DataFrame(data,columns=cat+con)"
   ]
  },
  {
   "cell_type": "code",
   "execution_count": 80,
   "metadata": {
    "collapsed": false
   },
   "outputs": [],
   "source": [
    "strategy1 = Strategy1(trainimputed,categorical,numerical)\n",
    "strategy1.fit()\n",
    "trainimputedS1 = strategy1.transform(trainimputed,categorical,numerical)\n",
    "trainimputedS1['target'] = trainimputed['target']\n",
    "testimputedS1 = strategy1.transform(testimputed,categorical,numerical)"
   ]
  },
  {
   "cell_type": "code",
   "execution_count": 84,
   "metadata": {
    "collapsed": false
   },
   "outputs": [],
   "source": [
    "trainimputedS1.to_csv(\"strategy_1/trainimputedS1.csv\",index=False)\n",
    "testimputedS1.to_csv(\"strategy_1/testimputedS1.csv\",index=False)"
   ]
  },
  {
   "cell_type": "code",
   "execution_count": null,
   "metadata": {
    "collapsed": true
   },
   "outputs": [],
   "source": [
    "# READ TRAINIMPUTED AND TEST IMPUTED FOR THE 1ST STRATEGY\n",
    "trainimputedS1 = pd.read_csv(\"strategy_1/trainimputedS1.csv\",header=0)\n",
    "testimputedS1 = pd.read_csv(\"strategy_1/testimputedS1.csv\",header=0)"
   ]
  },
  {
   "cell_type": "markdown",
   "metadata": {},
   "source": [
    "<a id=\"strategy2\"></a>\n",
    "<h3> Strategy 2</h3>\n",
    "<div style=\"text-align:right\">\n",
    "<a href=\"#top\">[Back to top]</a>\n",
    "</div>\n"
   ]
  },
  {
   "cell_type": "code",
   "execution_count": 189,
   "metadata": {
    "collapsed": false
   },
   "outputs": [],
   "source": [
    "trainimputedS2 = pd.read_csv(\"strategy_2/rtrainimputedS2.csv\",header=0)\n",
    "testimputedS2 = pd.read_csv(\"strategy_2/rtestimputedS2.csv\",header = 0)\n",
    "trainimputedS2.columns = features\n",
    "testimputedS2.columns = features[:-1]"
   ]
  },
  {
   "cell_type": "code",
   "execution_count": 191,
   "metadata": {
    "collapsed": false
   },
   "outputs": [],
   "source": [
    "trainimputedS2.to_csv(\"strategy_2/trainimputedS2.csv\",index=False)\n",
    "testimputedS2.to_csv(\"strategy_2/testimputedS2.csv\",index=False)"
   ]
  },
  {
   "cell_type": "code",
   "execution_count": 88,
   "metadata": {
    "collapsed": false
   },
   "outputs": [
    {
     "data": {
      "text/html": [
       "<div>\n",
       "<table border=\"1\" class=\"dataframe\">\n",
       "  <thead>\n",
       "    <tr style=\"text-align: right;\">\n",
       "      <th></th>\n",
       "      <th>age</th>\n",
       "      <th>work_class</th>\n",
       "      <th>education</th>\n",
       "      <th>years_education</th>\n",
       "      <th>marital_status</th>\n",
       "      <th>occupation</th>\n",
       "      <th>relationship</th>\n",
       "      <th>race</th>\n",
       "      <th>sex</th>\n",
       "      <th>income_inv</th>\n",
       "      <th>loss_inv</th>\n",
       "      <th>work_hours</th>\n",
       "      <th>country</th>\n",
       "      <th>target</th>\n",
       "    </tr>\n",
       "  </thead>\n",
       "  <tbody>\n",
       "    <tr>\n",
       "      <th>1</th>\n",
       "      <td>12.4140</td>\n",
       "      <td>92</td>\n",
       "      <td>20</td>\n",
       "      <td>4.140000</td>\n",
       "      <td>65</td>\n",
       "      <td>14</td>\n",
       "      <td>68</td>\n",
       "      <td>101</td>\n",
       "      <td>59</td>\n",
       "      <td>692.01</td>\n",
       "      <td>0.0</td>\n",
       "      <td>12.870</td>\n",
       "      <td>95</td>\n",
       "      <td>0</td>\n",
       "    </tr>\n",
       "    <tr>\n",
       "      <th>2</th>\n",
       "      <td>13.7300</td>\n",
       "      <td>88</td>\n",
       "      <td>90</td>\n",
       "      <td>4.275336</td>\n",
       "      <td>61</td>\n",
       "      <td>83</td>\n",
       "      <td>49</td>\n",
       "      <td>101</td>\n",
       "      <td>59</td>\n",
       "      <td>0.00</td>\n",
       "      <td>0.0</td>\n",
       "      <td>4.138</td>\n",
       "      <td>98</td>\n",
       "      <td>0</td>\n",
       "    </tr>\n",
       "    <tr>\n",
       "      <th>3</th>\n",
       "      <td>12.0960</td>\n",
       "      <td>80</td>\n",
       "      <td>42</td>\n",
       "      <td>2.860000</td>\n",
       "      <td>28</td>\n",
       "      <td>44</td>\n",
       "      <td>68</td>\n",
       "      <td>101</td>\n",
       "      <td>59</td>\n",
       "      <td>0.00</td>\n",
       "      <td>0.0</td>\n",
       "      <td>12.732</td>\n",
       "      <td>95</td>\n",
       "      <td>0</td>\n",
       "    </tr>\n",
       "    <tr>\n",
       "      <th>4</th>\n",
       "      <td>13.7300</td>\n",
       "      <td>80</td>\n",
       "      <td>3</td>\n",
       "      <td>2.230000</td>\n",
       "      <td>61</td>\n",
       "      <td>44</td>\n",
       "      <td>49</td>\n",
       "      <td>101</td>\n",
       "      <td>59</td>\n",
       "      <td>0.00</td>\n",
       "      <td>0.0</td>\n",
       "      <td>12.732</td>\n",
       "      <td>98</td>\n",
       "      <td>0</td>\n",
       "    </tr>\n",
       "    <tr>\n",
       "      <th>5</th>\n",
       "      <td>8.9127</td>\n",
       "      <td>80</td>\n",
       "      <td>20</td>\n",
       "      <td>4.138000</td>\n",
       "      <td>61</td>\n",
       "      <td>82</td>\n",
       "      <td>103</td>\n",
       "      <td>21</td>\n",
       "      <td>59</td>\n",
       "      <td>0.00</td>\n",
       "      <td>0.0</td>\n",
       "      <td>12.732</td>\n",
       "      <td>27</td>\n",
       "      <td>0</td>\n",
       "    </tr>\n",
       "  </tbody>\n",
       "</table>\n",
       "</div>"
      ],
      "text/plain": [
       "       age  work_class  education  years_education  marital_status  \\\n",
       "1  12.4140          92         20         4.140000              65   \n",
       "2  13.7300          88         90         4.275336              61   \n",
       "3  12.0960          80         42         2.860000              28   \n",
       "4  13.7300          80          3         2.230000              61   \n",
       "5   8.9127          80         20         4.138000              61   \n",
       "\n",
       "   occupation  relationship  race  sex  income_inv  loss_inv  work_hours  \\\n",
       "1          14            68   101   59      692.01       0.0      12.870   \n",
       "2          83            49   101   59        0.00       0.0       4.138   \n",
       "3          44            68   101   59        0.00       0.0      12.732   \n",
       "4          44            49   101   59        0.00       0.0      12.732   \n",
       "5          82           103    21   59        0.00       0.0      12.732   \n",
       "\n",
       "   country  target  \n",
       "1       95       0  \n",
       "2       98       0  \n",
       "3       95       0  \n",
       "4       98       0  \n",
       "5       27       0  "
      ]
     },
     "execution_count": 88,
     "metadata": {},
     "output_type": "execute_result"
    }
   ],
   "source": [
    "trainimputedS2.head()"
   ]
  },
  {
   "cell_type": "code",
   "execution_count": 89,
   "metadata": {
    "collapsed": false
   },
   "outputs": [
    {
     "data": {
      "text/html": [
       "<div>\n",
       "<table border=\"1\" class=\"dataframe\">\n",
       "  <thead>\n",
       "    <tr style=\"text-align: right;\">\n",
       "      <th></th>\n",
       "      <th>age</th>\n",
       "      <th>work_class</th>\n",
       "      <th>education</th>\n",
       "      <th>years_education</th>\n",
       "      <th>marital_status</th>\n",
       "      <th>occupation</th>\n",
       "      <th>relationship</th>\n",
       "      <th>race</th>\n",
       "      <th>sex</th>\n",
       "      <th>income_inv</th>\n",
       "      <th>loss_inv</th>\n",
       "      <th>work_hours</th>\n",
       "      <th>country</th>\n",
       "    </tr>\n",
       "  </thead>\n",
       "  <tbody>\n",
       "    <tr>\n",
       "      <th>1</th>\n",
       "      <td>7.6394</td>\n",
       "      <td>80</td>\n",
       "      <td>90</td>\n",
       "      <td>3.1831</td>\n",
       "      <td>65</td>\n",
       "      <td>85</td>\n",
       "      <td>99</td>\n",
       "      <td>101</td>\n",
       "      <td>37</td>\n",
       "      <td>0.0</td>\n",
       "      <td>0.00</td>\n",
       "      <td>5.7296</td>\n",
       "      <td>98</td>\n",
       "    </tr>\n",
       "    <tr>\n",
       "      <th>2</th>\n",
       "      <td>16.2340</td>\n",
       "      <td>92</td>\n",
       "      <td>19</td>\n",
       "      <td>3.5014</td>\n",
       "      <td>65</td>\n",
       "      <td>94</td>\n",
       "      <td>68</td>\n",
       "      <td>101</td>\n",
       "      <td>59</td>\n",
       "      <td>0.0</td>\n",
       "      <td>777.95</td>\n",
       "      <td>12.4140</td>\n",
       "      <td>91</td>\n",
       "    </tr>\n",
       "    <tr>\n",
       "      <th>3</th>\n",
       "      <td>19.7350</td>\n",
       "      <td>80</td>\n",
       "      <td>42</td>\n",
       "      <td>2.8648</td>\n",
       "      <td>61</td>\n",
       "      <td>34</td>\n",
       "      <td>49</td>\n",
       "      <td>101</td>\n",
       "      <td>59</td>\n",
       "      <td>0.0</td>\n",
       "      <td>0.00</td>\n",
       "      <td>12.8700</td>\n",
       "      <td>105</td>\n",
       "    </tr>\n",
       "    <tr>\n",
       "      <th>4</th>\n",
       "      <td>6.3662</td>\n",
       "      <td>80</td>\n",
       "      <td>90</td>\n",
       "      <td>3.1831</td>\n",
       "      <td>65</td>\n",
       "      <td>44</td>\n",
       "      <td>68</td>\n",
       "      <td>101</td>\n",
       "      <td>59</td>\n",
       "      <td>0.0</td>\n",
       "      <td>0.00</td>\n",
       "      <td>3.8197</td>\n",
       "      <td>67</td>\n",
       "    </tr>\n",
       "    <tr>\n",
       "      <th>5</th>\n",
       "      <td>13.3690</td>\n",
       "      <td>80</td>\n",
       "      <td>19</td>\n",
       "      <td>3.5014</td>\n",
       "      <td>60</td>\n",
       "      <td>14</td>\n",
       "      <td>49</td>\n",
       "      <td>101</td>\n",
       "      <td>59</td>\n",
       "      <td>0.0</td>\n",
       "      <td>0.00</td>\n",
       "      <td>10.1860</td>\n",
       "      <td>98</td>\n",
       "    </tr>\n",
       "  </tbody>\n",
       "</table>\n",
       "</div>"
      ],
      "text/plain": [
       "       age  work_class  education  years_education  marital_status  \\\n",
       "1   7.6394          80         90           3.1831              65   \n",
       "2  16.2340          92         19           3.5014              65   \n",
       "3  19.7350          80         42           2.8648              61   \n",
       "4   6.3662          80         90           3.1831              65   \n",
       "5  13.3690          80         19           3.5014              60   \n",
       "\n",
       "   occupation  relationship  race  sex  income_inv  loss_inv  work_hours  \\\n",
       "1          85            99   101   37         0.0      0.00      5.7296   \n",
       "2          94            68   101   59         0.0    777.95     12.4140   \n",
       "3          34            49   101   59         0.0      0.00     12.8700   \n",
       "4          44            68   101   59         0.0      0.00      3.8197   \n",
       "5          14            49   101   59         0.0      0.00     10.1860   \n",
       "\n",
       "   country  \n",
       "1       98  \n",
       "2       91  \n",
       "3      105  \n",
       "4       67  \n",
       "5       98  "
      ]
     },
     "execution_count": 89,
     "metadata": {},
     "output_type": "execute_result"
    }
   ],
   "source": [
    "testimputedS2.head()"
   ]
  },
  {
   "cell_type": "code",
   "execution_count": 90,
   "metadata": {
    "collapsed": false
   },
   "outputs": [
    {
     "name": "stdout",
     "output_type": "stream",
     "text": [
      "Missing values in training set and strategy 2 : 0\n",
      "Missing values in test set and strategy 2 : 0\n"
     ]
    }
   ],
   "source": [
    "print \"Missing values in training set and strategy 2 : {0}\".format(trainimputedS2.isnull().sum().sum())\n",
    "print \"Missing values in test set and strategy 2 : {0}\".format(testimputedS2.isnull().sum().sum())"
   ]
  },
  {
   "cell_type": "code",
   "execution_count": null,
   "metadata": {
    "collapsed": true
   },
   "outputs": [],
   "source": []
  },
  {
   "cell_type": "code",
   "execution_count": null,
   "metadata": {
    "collapsed": true
   },
   "outputs": [],
   "source": []
  },
  {
   "cell_type": "code",
   "execution_count": null,
   "metadata": {
    "collapsed": true
   },
   "outputs": [],
   "source": []
  },
  {
   "cell_type": "markdown",
   "metadata": {},
   "source": [
    "<a id=\"strategy3\"></a>\n",
    "<h3> Strategy 3</h3>\n",
    "<div style=\"text-align:right\">\n",
    "<a href=\"#top\">[Back to top]</a>\n",
    "</div>\n",
    "\n"
   ]
  },
  {
   "cell_type": "markdown",
   "metadata": {},
   "source": [
    "Best RandomForest classifier is 42 estimators and 15 max_depth for predicting labels of the test set"
   ]
  },
  {
   "cell_type": "code",
   "execution_count": 12,
   "metadata": {
    "collapsed": true
   },
   "outputs": [],
   "source": [
    "from sklearn.ensemble import RandomForestClassifier\n",
    "from sklearn import cross_validation\n",
    "data = trainimputedS1.values[:,:-1]\n",
    "labels = trainimputedS1.values[:,-1]\n",
    "X_trainimpS1, X_testimpS1, y_trainimpS1, y_testimpS1 = cross_validation.\\\n",
    "                                train_test_split(data,\n",
    "                                                 labels,\n",
    "                                                 test_size=.2,\n",
    "                                                 random_state=0)"
   ]
  },
  {
   "cell_type": "code",
   "execution_count": 13,
   "metadata": {
    "collapsed": false
   },
   "outputs": [],
   "source": [
    "rlclf = RandomForestClassifier(n_estimators=42,max_depth=15,\n",
    "                               random_state=0,\n",
    "                                max_features='auto')\n",
    "rlclf = rlclf.fit(X_trainimpS1,y_trainimpS1)\n",
    "score = rlclf.score(X_testimpS1,y_testimpS1)"
   ]
  },
  {
   "cell_type": "code",
   "execution_count": 14,
   "metadata": {
    "collapsed": false
   },
   "outputs": [],
   "source": [
    "predictedLabels = rlclf.predict(testimputedS1)\n",
    "predictedLabels = map(int,predictedLabels)"
   ]
  },
  {
   "cell_type": "code",
   "execution_count": 185,
   "metadata": {
    "collapsed": false
   },
   "outputs": [],
   "source": [
    "testRFprediction = testimputed.copy(deep=True)\n",
    "testRFprediction['target'] = predictedLabels\n",
    "testRFprediction = testRFprediction[features]\n",
    "testRFprediction.to_csv(\"strategy_3/testRFprediction.csv\",index=False)"
   ]
  },
  {
   "cell_type": "code",
   "execution_count": 193,
   "metadata": {
    "collapsed": false
   },
   "outputs": [],
   "source": [
    "trainimputedS3 = pd.read_csv(\"strategy_3/rtrainimputedS3.csv\",header=0)\n",
    "trainimputedS3 = trainimputedS3[features]\n",
    "trainimputedS3.to_csv(\"strategy_3/trainimputedS3.csv\",index=False)"
   ]
  },
  {
   "cell_type": "markdown",
   "metadata": {},
   "source": [
    "<h4>Read all imputed datasets for all strategies</h4>"
   ]
  },
  {
   "cell_type": "code",
   "execution_count": 10,
   "metadata": {
    "collapsed": false
   },
   "outputs": [],
   "source": [
    "trainimputed = pd.read_csv(\"preimpute/trainimputed.csv\",header=0)\n",
    "testimputed = pd.read_csv(\"preimpute/testimputed.csv\",header=0)\n",
    "trainimputedS1 = pd.read_csv(\"strategy_1/trainimputedS1.csv\",header=0)\n",
    "testimputedS1 = pd.read_csv(\"strategy_1/testimputedS1.csv\",header=0)\n",
    "trainimputedS2 = pd.read_csv(\"strategy_2/trainimputedS2.csv\",header=0)\n",
    "testimputedS2 = pd.read_csv(\"strategy_2/testimputedS2.csv\",header=0)\n",
    "trainimputedS3 = pd.read_csv(\"strategy_3/trainimputedS3.csv\",header=0)\n",
    "testimputedS3 = pd.read_csv(\"strategy_3/testimputedS3.csv\",header=0)"
   ]
  },
  {
   "cell_type": "code",
   "execution_count": 11,
   "metadata": {
    "collapsed": false
   },
   "outputs": [
    {
     "name": "stdout",
     "output_type": "stream",
     "text": [
      "0\n",
      "0\n",
      "0\n",
      "0\n",
      "0\n",
      "0\n"
     ]
    }
   ],
   "source": [
    "# Asserting no missing values are in the training and test sets \n",
    "print trainimputedS1.isnull().sum().sum()\n",
    "print testimputedS1.isnull().sum().sum()\n",
    "\n",
    "print trainimputedS2.isnull().sum().sum()\n",
    "print testimputedS2.isnull().sum().sum()\n",
    "\n",
    "print trainimputedS3.isnull().sum().sum()\n",
    "print testimputedS3.isnull().sum().sum()"
   ]
  },
  {
   "cell_type": "code",
   "execution_count": null,
   "metadata": {
    "collapsed": true
   },
   "outputs": [],
   "source": []
  },
  {
   "cell_type": "code",
   "execution_count": null,
   "metadata": {
    "collapsed": true
   },
   "outputs": [],
   "source": []
  },
  {
   "cell_type": "markdown",
   "metadata": {},
   "source": [
    "<a id=\"nb\"></a>\n",
    "<center> <h2> Naive Bayes Classifier</h2></center>\n",
    "<div style=\"text-align:right\">\n",
    "<a href=\"#top\">[Back to top]</a>\n",
    "</div>"
   ]
  },
  {
   "cell_type": "markdown",
   "metadata": {},
   "source": [
    "<a id=\"nbnostr\"></a>\n",
    "<h3> NBC all features and strategies</h3>\n",
    "<div style=\"text-align:right\">\n",
    "<a href=\"#top\">[Back to top]</a>\n",
    "</div>"
   ]
  },
  {
   "cell_type": "markdown",
   "metadata": {},
   "source": [
    "Discretize the continuous features and also drop the investment features from the training data"
   ]
  },
  {
   "cell_type": "code",
   "execution_count": 8,
   "metadata": {
    "collapsed": true
   },
   "outputs": [],
   "source": [
    "from sklearn.naive_bayes import MultinomialNB\n",
    "from sklearn.naive_bayes import GaussianNB\n",
    "from sklearn import cross_validation\n",
    "from sklearn.preprocessing import OneHotEncoder\n",
    "from sklearn.cross_validation import StratifiedKFold"
   ]
  },
  {
   "cell_type": "code",
   "execution_count": 9,
   "metadata": {
    "collapsed": true
   },
   "outputs": [],
   "source": [
    "# A function for stratified cross validation of the NB classifiers\n",
    "def NBCrossValidation(xs,labs,folds=10):\n",
    "    scores = []\n",
    "    skf = StratifiedKFold(y=labs,n_folds=folds,random_state=1)\n",
    "    for k,(train_idx,test_idx) in enumerate(skf):\n",
    "        clf = MultinomialNB(alpha=1)\n",
    "        clf.fit(xs[train_idx],labs[train_idx])\n",
    "        score = clf.score(xs[test_idx],labs[test_idx])\n",
    "        scores.append(score)\n",
    "        print \"Fold %s, Class dist.: %s, Acc: %.3f\"%(k+1,\n",
    "                                                    np.bincount(labs[train_idx]),\n",
    "                                                    score)\n",
    "    print \"CV Accuracy : %.3f +/- %.3f\"%(np.mean(scores),np.std(scores))\n",
    "    #print scores"
   ]
  },
  {
   "cell_type": "code",
   "execution_count": 12,
   "metadata": {
    "collapsed": true
   },
   "outputs": [],
   "source": [
    "inv_cols = ['income_inv','loss_inv']\n",
    "traincols = categorical+numerical+['target']\n",
    "testcols = categorical+numerical\n",
    "\n",
    "nbtrainS1 = trainimputedS1[traincols]\n",
    "nbtrainS2 = trainimputedS2[traincols]\n",
    "nbtrainS3 = trainimputedS3[traincols]\n",
    "nbtestS1 = testimputedS1[testcols]\n",
    "nbtestS2 = testimputedS2[testcols]\n",
    "nbtestS3 = testimputedS3[testcols]\n",
    "\n",
    "nbtrainS1 = nbtrainS1.drop(inv_cols,axis=1) \n",
    "nbtrainS2 =  nbtrainS2.drop(inv_cols,axis=1)\n",
    "nbtrainS3 = nbtrainS3.drop(inv_cols,axis=1)\n",
    "\n",
    "# Test sets used for the submissions\n",
    "nbtestS1 = nbtestS1.drop(inv_cols,axis=1)\n",
    "nbtestS2 = nbtestS2.drop(inv_cols,axis=1)\n",
    "nbtestS3 = nbtestS3.drop(inv_cols,axis=1)"
   ]
  },
  {
   "cell_type": "code",
   "execution_count": 13,
   "metadata": {
    "collapsed": false,
    "scrolled": true
   },
   "outputs": [],
   "source": [
    "nbtrainS1.age = pd.qcut(nbtrainS1.age,10).factorize()[0]\n",
    "nbtrainS1.years_education = pd.qcut(nbtrainS1.years_education,4).factorize()[0]\n",
    "nbtrainS1.work_hours = pd.qcut(nbtrainS1.work_hours,3).factorize()[0]\n",
    "\n",
    "nbtrainS2.age = pd.qcut(nbtrainS2.age,10).factorize()[0]\n",
    "nbtrainS2.years_education = pd.qcut(nbtrainS2.years_education,4).factorize()[0]\n",
    "nbtrainS2.work_hours = pd.qcut(nbtrainS2.work_hours,3).factorize()[0]\n",
    "\n",
    "nbtrainS3.age = pd.qcut(nbtrainS3.age,10).factorize()[0]\n",
    "nbtrainS3.years_education = pd.qcut(nbtrainS3.years_education,4).factorize()[0]\n",
    "nbtrainS3.work_hours = pd.qcut(nbtrainS3.work_hours,3).factorize()[0]\n",
    "\n",
    "nbtestS1.age = pd.qcut(nbtestS1.age,10).factorize()[0]\n",
    "nbtestS1.years_education = pd.qcut(nbtestS1.years_education,4).factorize()[0]\n",
    "nbtestS1.work_hours = pd.qcut(nbtestS1.work_hours,3).factorize()[0]\n",
    "\n",
    "nbtestS2.age = pd.qcut(nbtestS2.age,10).factorize()[0]\n",
    "nbtestS2.years_education = pd.qcut(nbtestS2.years_education,4).factorize()[0]\n",
    "nbtestS2.work_hours = pd.qcut(nbtestS2.work_hours,3).factorize()[0]\n",
    "\n",
    "nbtestS3.age = pd.qcut(nbtestS3.age,10).factorize()[0]\n",
    "nbtestS3.years_education = pd.qcut(nbtestS3.years_education,4).factorize()[0]\n",
    "nbtestS3.work_hours = pd.qcut(nbtestS3.work_hours,3).factorize()[0]"
   ]
  },
  {
   "cell_type": "code",
   "execution_count": 15,
   "metadata": {
    "collapsed": false
   },
   "outputs": [],
   "source": [
    "X_nbS1train, X_nbS1test, y_nbS1train, y_nbS1test = cross_validation.\\\n",
    "                                                train_test_split(nbtrainS1.values[:,:-1],\n",
    "                                                                 nbtrainS1.values[:,-1],\n",
    "                                                                 test_size=.2,\n",
    "                                                                 random_state=0)\n",
    "X_nbS2train, X_nbS2test, y_nbS2train, y_nbS2test = cross_validation.\\\n",
    "                                                train_test_split(nbtrainS2.values[:,:-1],\n",
    "                                                                 nbtrainS2.values[:,-1],\n",
    "                                                                 test_size=.2,\n",
    "                                                                 random_state=0)\n",
    "X_nbS3train, X_nbS3test, y_nbS3train, y_nbS3test = cross_validation.\\\n",
    "                                                train_test_split(nbtrainS3.values[:,:-1],\n",
    "                                                                 nbtrainS3.values[:,-1],\n",
    "                                                                 test_size=.2,\n",
    "                                                                 random_state=0)"
   ]
  },
  {
   "cell_type": "code",
   "execution_count": 16,
   "metadata": {
    "collapsed": false
   },
   "outputs": [],
   "source": [
    "ohe = OneHotEncoder(categorical_features=range(11),sparse=False)\n",
    "X_nbS1train = ohe.fit_transform(X_nbS1train)\n",
    "X_nbS1test = ohe.transform(X_nbS1test)"
   ]
  },
  {
   "cell_type": "code",
   "execution_count": 17,
   "metadata": {
    "collapsed": false
   },
   "outputs": [],
   "source": [
    "X_nbS2train = ohe.fit_transform(X_nbS2train)\n",
    "X_nbS2test = ohe.transform(X_nbS2test)\n",
    "\n",
    "X_nbS3train = ohe.fit_transform(X_nbS3train)\n",
    "X_nbS3test = ohe.transform(X_nbS3test)"
   ]
  },
  {
   "cell_type": "code",
   "execution_count": 99,
   "metadata": {
    "collapsed": false
   },
   "outputs": [
    {
     "data": {
      "text/plain": [
       "MultinomialNB(alpha=1, class_prior=None, fit_prior=True)"
      ]
     },
     "execution_count": 99,
     "metadata": {},
     "output_type": "execute_result"
    }
   ],
   "source": [
    "clf1 = MultinomialNB(alpha=1)\n",
    "clf2 = MultinomialNB(alpha=1)\n",
    "clf3 = MultinomialNB(alpha=1)\n",
    "clf1.fit(X_nbS1train,y_nbS1train)\n",
    "clf2.fit(X_nbS2train,y_nbS2train)\n",
    "clf3.fit(X_nbS3train,y_nbS3train)"
   ]
  },
  {
   "cell_type": "code",
   "execution_count": 131,
   "metadata": {
    "collapsed": false
   },
   "outputs": [
    {
     "name": "stdout",
     "output_type": "stream",
     "text": [
      "[ 0.  1.]\n"
     ]
    },
    {
     "data": {
      "text/plain": [
       "array([ 0.76309524,  0.23690476])"
      ]
     },
     "execution_count": 131,
     "metadata": {},
     "output_type": "execute_result"
    }
   ],
   "source": [
    "# Estimated class priors from naive bayes classifier\n",
    "print clf1.classes_\n",
    "np.exp(clf1.class_log_prior_)"
   ]
  },
  {
   "cell_type": "code",
   "execution_count": 100,
   "metadata": {
    "collapsed": false
   },
   "outputs": [
    {
     "name": "stdout",
     "output_type": "stream",
     "text": [
      "Score for Strategy 1: 0.787619\n",
      "Score for Strategy 1: 0.790952\n",
      "Score for Strategy 1: 0.784762\n"
     ]
    }
   ],
   "source": [
    "# 80-20 score estimate\n",
    "print \"Score for Strategy 1: %f\"%(clf1.score(X_nbS1test,y_nbS1test))\n",
    "print \"Score for Strategy 1: %f\"%(clf2.score(X_nbS2test,y_nbS2test))\n",
    "print \"Score for Strategy 1: %f\"%(clf3.score(X_nbS3test,y_nbS3test))"
   ]
  },
  {
   "cell_type": "code",
   "execution_count": 18,
   "metadata": {
    "collapsed": false
   },
   "outputs": [
    {
     "name": "stdout",
     "output_type": "stream",
     "text": [
      "Fold 1, Class dist.: [7200 2250], Acc: 0.808\n",
      "Fold 2, Class dist.: [7200 2250], Acc: 0.787\n",
      "Fold 3, Class dist.: [7200 2250], Acc: 0.805\n",
      "Fold 4, Class dist.: [7200 2250], Acc: 0.779\n",
      "Fold 5, Class dist.: [7200 2250], Acc: 0.813\n",
      "Fold 6, Class dist.: [7200 2250], Acc: 0.783\n",
      "Fold 7, Class dist.: [7200 2250], Acc: 0.790\n",
      "Fold 8, Class dist.: [7200 2250], Acc: 0.825\n",
      "Fold 9, Class dist.: [7200 2250], Acc: 0.808\n",
      "Fold 10, Class dist.: [7200 2250], Acc: 0.791\n",
      "CV Accuracy : 0.799 +/- 0.014\n"
     ]
    }
   ],
   "source": [
    "# To make submission you have to apply one hot encoder to the test sets before predicting with the classifiers\n",
    "\n",
    "ys1 = nbtrainS1.target.values\n",
    "xs1 = nbtrainS1.drop('target',axis=1).values\n",
    "\n",
    "xs1 = ohe.transform(xs1)\n",
    "\n",
    "NBCrossValidation(xs1,ys1)"
   ]
  },
  {
   "cell_type": "code",
   "execution_count": 19,
   "metadata": {
    "collapsed": false
   },
   "outputs": [
    {
     "name": "stdout",
     "output_type": "stream",
     "text": [
      "Fold 1, Class dist.: [7200 2250], Acc: 0.809\n",
      "Fold 2, Class dist.: [7200 2250], Acc: 0.794\n",
      "Fold 3, Class dist.: [7200 2250], Acc: 0.802\n",
      "Fold 4, Class dist.: [7200 2250], Acc: 0.785\n",
      "Fold 5, Class dist.: [7200 2250], Acc: 0.792\n",
      "Fold 6, Class dist.: [7200 2250], Acc: 0.780\n",
      "Fold 7, Class dist.: [7200 2250], Acc: 0.802\n",
      "Fold 8, Class dist.: [7200 2250], Acc: 0.814\n",
      "Fold 9, Class dist.: [7200 2250], Acc: 0.799\n",
      "Fold 10, Class dist.: [7200 2250], Acc: 0.790\n",
      "CV Accuracy : 0.797 +/- 0.010\n"
     ]
    }
   ],
   "source": [
    "ys2 = nbtrainS2.target.values\n",
    "xs2 = nbtrainS2.drop('target',axis=1).values\n",
    "xs2 = ohe.transform(xs2)\n",
    "NBCrossValidation(xs2,ys2)"
   ]
  },
  {
   "cell_type": "code",
   "execution_count": 20,
   "metadata": {
    "collapsed": false
   },
   "outputs": [
    {
     "name": "stdout",
     "output_type": "stream",
     "text": [
      "Fold 1, Class dist.: [7200 2250], Acc: 0.799\n",
      "Fold 2, Class dist.: [7200 2250], Acc: 0.785\n",
      "Fold 3, Class dist.: [7200 2250], Acc: 0.794\n",
      "Fold 4, Class dist.: [7200 2250], Acc: 0.783\n",
      "Fold 5, Class dist.: [7200 2250], Acc: 0.809\n",
      "Fold 6, Class dist.: [7200 2250], Acc: 0.780\n",
      "Fold 7, Class dist.: [7200 2250], Acc: 0.784\n",
      "Fold 8, Class dist.: [7200 2250], Acc: 0.814\n",
      "Fold 9, Class dist.: [7200 2250], Acc: 0.801\n",
      "Fold 10, Class dist.: [7200 2250], Acc: 0.785\n",
      "CV Accuracy : 0.793 +/- 0.011\n"
     ]
    }
   ],
   "source": [
    "ys3 = nbtrainS3.target.values\n",
    "xs3 = nbtrainS3.drop('target',axis=1).values\n",
    "xs3 = ohe.transform(xs3)\n",
    "NBCrossValidation(xs3,ys3)"
   ]
  },
  {
   "cell_type": "markdown",
   "metadata": {},
   "source": [
    "\n"
   ]
  },
  {
   "cell_type": "markdown",
   "metadata": {},
   "source": [
    "<a id=\"nbelim\"></a>\n",
    "<h3> NBC eliminating interdependent features</h3>\n",
    "<div style=\"text-align:right\">\n",
    "<a href=\"#top\">[Back to top]</a>\n",
    "</div>"
   ]
  },
  {
   "cell_type": "code",
   "execution_count": 139,
   "metadata": {
    "collapsed": false
   },
   "outputs": [
    {
     "data": {
      "text/plain": [
       "Index([u'work_class', u'education', u'marital_status', u'occupation',\n",
       "       u'relationship', u'race', u'sex', u'country', u'age',\n",
       "       u'years_education', u'work_hours', u'target'],\n",
       "      dtype='object')"
      ]
     },
     "execution_count": 139,
     "metadata": {},
     "output_type": "execute_result"
    }
   ],
   "source": [
    "nbtrainS1.columns"
   ]
  },
  {
   "cell_type": "code",
   "execution_count": 21,
   "metadata": {
    "collapsed": false
   },
   "outputs": [
    {
     "name": "stdout",
     "output_type": "stream",
     "text": [
      "Fold 1, Class dist.: [7200 2250], Acc: 0.827\n",
      "Fold 2, Class dist.: [7200 2250], Acc: 0.812\n",
      "Fold 3, Class dist.: [7200 2250], Acc: 0.819\n",
      "Fold 4, Class dist.: [7200 2250], Acc: 0.823\n",
      "Fold 5, Class dist.: [7200 2250], Acc: 0.818\n",
      "Fold 6, Class dist.: [7200 2250], Acc: 0.817\n",
      "Fold 7, Class dist.: [7200 2250], Acc: 0.828\n",
      "Fold 8, Class dist.: [7200 2250], Acc: 0.837\n",
      "Fold 9, Class dist.: [7200 2250], Acc: 0.815\n",
      "Fold 10, Class dist.: [7200 2250], Acc: 0.820\n",
      "CV Accuracy : 0.822 +/- 0.007\n"
     ]
    }
   ],
   "source": [
    "# Eliminating interdependent features and applying Strategy 1\n",
    "ys1 = nbtrainS1.target.values\n",
    "xs1 = nbtrainS1.drop(['years_education','race','relationship','sex','work_hours','age','work_class','target'],axis=1).values\n",
    "#print xs1[:2,:]\n",
    "elohe = OneHotEncoder(categorical_features=range(xs1.shape[1]))\n",
    "xs1= elohe.fit_transform(xs1)\n",
    "NBCrossValidation(xs1,ys1,10)"
   ]
  },
  {
   "cell_type": "code",
   "execution_count": 270,
   "metadata": {
    "collapsed": false
   },
   "outputs": [],
   "source": [
    "# Fit a Naive Bayes for the best features found above\n",
    "sub_nbclf = MultinomialNB(alpha=1)\n",
    "sub_nbclf.fit(xs1,ys1)\n",
    "\n",
    "nbtestS1_sub = nbtestS1.drop(['years_education','race','relationship','sex','work_hours','age','work_class'],axis=1).values\n",
    "nbtestS1_sub = elohe.transform(nbtestS1_sub)\n",
    "\n",
    "makeSubmission(\"nbBestElimFeatures\",sub_nbclf,nbtestS1_sub)"
   ]
  },
  {
   "cell_type": "code",
   "execution_count": 22,
   "metadata": {
    "collapsed": false
   },
   "outputs": [
    {
     "name": "stdout",
     "output_type": "stream",
     "text": [
      "Fold 1, Class dist.: [7200 2250], Acc: 0.822\n",
      "Fold 2, Class dist.: [7200 2250], Acc: 0.803\n",
      "Fold 3, Class dist.: [7200 2250], Acc: 0.807\n",
      "Fold 4, Class dist.: [7200 2250], Acc: 0.813\n",
      "Fold 5, Class dist.: [7200 2250], Acc: 0.813\n",
      "Fold 6, Class dist.: [7200 2250], Acc: 0.819\n",
      "Fold 7, Class dist.: [7200 2250], Acc: 0.823\n",
      "Fold 8, Class dist.: [7200 2250], Acc: 0.830\n",
      "Fold 9, Class dist.: [7200 2250], Acc: 0.804\n",
      "Fold 10, Class dist.: [7200 2250], Acc: 0.805\n",
      "CV Accuracy : 0.814 +/- 0.009\n"
     ]
    }
   ],
   "source": [
    "# Eliminating interdependent features and applying Strategy 1\n",
    "ys2 = nbtrainS2.target.values\n",
    "xs2 = nbtrainS2.drop(['years_education','race','relationship','sex','work_hours','age','work_class','target'],axis=1).values\n",
    "elohe = OneHotEncoder(categorical_features=range(xs2.shape[1]))\n",
    "xs2= elohe.fit_transform(xs2)\n",
    "NBCrossValidation(xs2,ys2,10)"
   ]
  },
  {
   "cell_type": "code",
   "execution_count": 23,
   "metadata": {
    "collapsed": false
   },
   "outputs": [
    {
     "name": "stdout",
     "output_type": "stream",
     "text": [
      "Fold 1, Class dist.: [7200 2250], Acc: 0.824\n",
      "Fold 2, Class dist.: [7200 2250], Acc: 0.801\n",
      "Fold 3, Class dist.: [7200 2250], Acc: 0.806\n",
      "Fold 4, Class dist.: [7200 2250], Acc: 0.818\n",
      "Fold 5, Class dist.: [7200 2250], Acc: 0.816\n",
      "Fold 6, Class dist.: [7200 2250], Acc: 0.808\n",
      "Fold 7, Class dist.: [7200 2250], Acc: 0.816\n",
      "Fold 8, Class dist.: [7200 2250], Acc: 0.829\n",
      "Fold 9, Class dist.: [7200 2250], Acc: 0.823\n",
      "Fold 10, Class dist.: [7200 2250], Acc: 0.810\n",
      "CV Accuracy : 0.815 +/- 0.008\n"
     ]
    }
   ],
   "source": [
    "# Eliminating interdependent features and applying Strategy 1\n",
    "ys3 = nbtrainS3.target.values\n",
    "xs3 = nbtrainS3.drop(['years_education','race','relationship','sex','work_hours','age','work_class','target'],axis=1).values\n",
    "elohe = OneHotEncoder(categorical_features=range(xs3.shape[1]))\n",
    "xs3 = elohe.fit_transform(xs3)\n",
    "NBCrossValidation(xs3,ys3,10)"
   ]
  },
  {
   "cell_type": "code",
   "execution_count": null,
   "metadata": {
    "collapsed": true
   },
   "outputs": [],
   "source": []
  },
  {
   "cell_type": "code",
   "execution_count": null,
   "metadata": {
    "collapsed": true
   },
   "outputs": [],
   "source": []
  },
  {
   "cell_type": "markdown",
   "metadata": {
    "collapsed": true
   },
   "source": [
    "<a id=\"lr\"></a>\n",
    "<center> <h2> Logistic Regression Classifier</h2></center>\n",
    "<div style=\"text-align:right\">\n",
    "<a href=\"#top\">[Back to top]</a>\n",
    "</div>"
   ]
  },
  {
   "cell_type": "code",
   "execution_count": 24,
   "metadata": {
    "collapsed": true
   },
   "outputs": [],
   "source": [
    "from sklearn.linear_model import LogisticRegression\n",
    "from sklearn.preprocessing import StandardScaler\n",
    "from sklearn.preprocessing import OneHotEncoder\n",
    "from sklearn.cross_validation import StratifiedKFold"
   ]
  },
  {
   "cell_type": "code",
   "execution_count": 11,
   "metadata": {
    "collapsed": false
   },
   "outputs": [],
   "source": [
    "# A function for stratified cross validation of the Logistic Regression classifiers\n",
    "def LRCrossValidation(xs,labs,c=0.1,folds=10):\n",
    "    scores = []\n",
    "    skf = StratifiedKFold(y=labs,n_folds=folds,random_state=1)\n",
    "    for k,(train_idx,test_idx) in enumerate(skf):\n",
    "        clf = LogisticRegression(C=c,random_state=0,penalty='l2')\n",
    "        clf.fit(xs[train_idx],labs[train_idx])\n",
    "        score = clf.score(xs[test_idx],labs[test_idx])\n",
    "        scores.append(score)\n",
    "        print \"Fold %s, Class dist.: %s, Acc: %.5f\"%(k+1,\n",
    "                                                    np.bincount(labs[train_idx]),\n",
    "                                                    score)\n",
    "    print \"CV Accuracy : %.5f +/- %.5f\"%(np.mean(scores),np.std(scores))\n",
    "    #print scores"
   ]
  },
  {
   "cell_type": "code",
   "execution_count": 26,
   "metadata": {
    "collapsed": true
   },
   "outputs": [],
   "source": [
    "traincols = categorical+numerical+['target']\n",
    "testcols = categorical+numerical\n",
    "\n",
    "# Load training and test sets from the 3 imputation strategies with the columns similartly aligned\n",
    "trainS1 = trainimputedS1[traincols]\n",
    "trainS2 = trainimputedS2[traincols]\n",
    "trainS3 = trainimputedS3[traincols]\n",
    "\n",
    "testS1 = testimputedS1[testcols]\n",
    "testS2 = testimputedS2[testcols]\n",
    "testS3 = testimputedS3[testcols]"
   ]
  },
  {
   "cell_type": "code",
   "execution_count": 13,
   "metadata": {
    "collapsed": false
   },
   "outputs": [
    {
     "data": {
      "text/html": [
       "<div>\n",
       "<table border=\"1\" class=\"dataframe\">\n",
       "  <thead>\n",
       "    <tr style=\"text-align: right;\">\n",
       "      <th></th>\n",
       "      <th>work_class</th>\n",
       "      <th>education</th>\n",
       "      <th>marital_status</th>\n",
       "      <th>occupation</th>\n",
       "      <th>relationship</th>\n",
       "      <th>race</th>\n",
       "      <th>sex</th>\n",
       "      <th>country</th>\n",
       "      <th>age</th>\n",
       "      <th>years_education</th>\n",
       "      <th>income_inv</th>\n",
       "      <th>loss_inv</th>\n",
       "      <th>work_hours</th>\n",
       "      <th>target</th>\n",
       "    </tr>\n",
       "  </thead>\n",
       "  <tbody>\n",
       "    <tr>\n",
       "      <th>0</th>\n",
       "      <td>92.0</td>\n",
       "      <td>20.0</td>\n",
       "      <td>65.0</td>\n",
       "      <td>14.0</td>\n",
       "      <td>68.0</td>\n",
       "      <td>101.0</td>\n",
       "      <td>59.0</td>\n",
       "      <td>98.0</td>\n",
       "      <td>12.4140</td>\n",
       "      <td>4.1400</td>\n",
       "      <td>692.01</td>\n",
       "      <td>0.0</td>\n",
       "      <td>12.870</td>\n",
       "      <td>0</td>\n",
       "    </tr>\n",
       "    <tr>\n",
       "      <th>1</th>\n",
       "      <td>88.0</td>\n",
       "      <td>42.0</td>\n",
       "      <td>61.0</td>\n",
       "      <td>82.0</td>\n",
       "      <td>49.0</td>\n",
       "      <td>101.0</td>\n",
       "      <td>59.0</td>\n",
       "      <td>98.0</td>\n",
       "      <td>13.7300</td>\n",
       "      <td>3.1831</td>\n",
       "      <td>0.00</td>\n",
       "      <td>0.0</td>\n",
       "      <td>4.138</td>\n",
       "      <td>0</td>\n",
       "    </tr>\n",
       "    <tr>\n",
       "      <th>2</th>\n",
       "      <td>80.0</td>\n",
       "      <td>42.0</td>\n",
       "      <td>28.0</td>\n",
       "      <td>44.0</td>\n",
       "      <td>68.0</td>\n",
       "      <td>101.0</td>\n",
       "      <td>59.0</td>\n",
       "      <td>98.0</td>\n",
       "      <td>12.0960</td>\n",
       "      <td>2.8600</td>\n",
       "      <td>0.00</td>\n",
       "      <td>0.0</td>\n",
       "      <td>12.732</td>\n",
       "      <td>0</td>\n",
       "    </tr>\n",
       "    <tr>\n",
       "      <th>3</th>\n",
       "      <td>80.0</td>\n",
       "      <td>3.0</td>\n",
       "      <td>61.0</td>\n",
       "      <td>44.0</td>\n",
       "      <td>49.0</td>\n",
       "      <td>101.0</td>\n",
       "      <td>59.0</td>\n",
       "      <td>98.0</td>\n",
       "      <td>13.7300</td>\n",
       "      <td>2.2300</td>\n",
       "      <td>0.00</td>\n",
       "      <td>0.0</td>\n",
       "      <td>12.732</td>\n",
       "      <td>0</td>\n",
       "    </tr>\n",
       "    <tr>\n",
       "      <th>4</th>\n",
       "      <td>80.0</td>\n",
       "      <td>20.0</td>\n",
       "      <td>61.0</td>\n",
       "      <td>82.0</td>\n",
       "      <td>103.0</td>\n",
       "      <td>21.0</td>\n",
       "      <td>59.0</td>\n",
       "      <td>27.0</td>\n",
       "      <td>8.9127</td>\n",
       "      <td>4.1380</td>\n",
       "      <td>0.00</td>\n",
       "      <td>0.0</td>\n",
       "      <td>12.732</td>\n",
       "      <td>0</td>\n",
       "    </tr>\n",
       "  </tbody>\n",
       "</table>\n",
       "</div>"
      ],
      "text/plain": [
       "   work_class  education  marital_status  occupation  relationship   race  \\\n",
       "0        92.0       20.0            65.0        14.0          68.0  101.0   \n",
       "1        88.0       42.0            61.0        82.0          49.0  101.0   \n",
       "2        80.0       42.0            28.0        44.0          68.0  101.0   \n",
       "3        80.0        3.0            61.0        44.0          49.0  101.0   \n",
       "4        80.0       20.0            61.0        82.0         103.0   21.0   \n",
       "\n",
       "    sex  country      age  years_education  income_inv  loss_inv  work_hours  \\\n",
       "0  59.0     98.0  12.4140           4.1400      692.01       0.0      12.870   \n",
       "1  59.0     98.0  13.7300           3.1831        0.00       0.0       4.138   \n",
       "2  59.0     98.0  12.0960           2.8600        0.00       0.0      12.732   \n",
       "3  59.0     98.0  13.7300           2.2300        0.00       0.0      12.732   \n",
       "4  59.0     27.0   8.9127           4.1380        0.00       0.0      12.732   \n",
       "\n",
       "   target  \n",
       "0       0  \n",
       "1       0  \n",
       "2       0  \n",
       "3       0  \n",
       "4       0  "
      ]
     },
     "metadata": {},
     "output_type": "display_data"
    },
    {
     "data": {
      "text/html": [
       "<div>\n",
       "<table border=\"1\" class=\"dataframe\">\n",
       "  <thead>\n",
       "    <tr style=\"text-align: right;\">\n",
       "      <th></th>\n",
       "      <th>work_class</th>\n",
       "      <th>education</th>\n",
       "      <th>marital_status</th>\n",
       "      <th>occupation</th>\n",
       "      <th>relationship</th>\n",
       "      <th>race</th>\n",
       "      <th>sex</th>\n",
       "      <th>country</th>\n",
       "      <th>age</th>\n",
       "      <th>years_education</th>\n",
       "      <th>income_inv</th>\n",
       "      <th>loss_inv</th>\n",
       "      <th>work_hours</th>\n",
       "    </tr>\n",
       "  </thead>\n",
       "  <tbody>\n",
       "    <tr>\n",
       "      <th>0</th>\n",
       "      <td>80.0</td>\n",
       "      <td>90.0</td>\n",
       "      <td>65.0</td>\n",
       "      <td>85.0</td>\n",
       "      <td>99.0</td>\n",
       "      <td>101.0</td>\n",
       "      <td>37.0</td>\n",
       "      <td>98.0</td>\n",
       "      <td>7.6394</td>\n",
       "      <td>3.1831</td>\n",
       "      <td>0.0</td>\n",
       "      <td>0.00</td>\n",
       "      <td>5.7296</td>\n",
       "    </tr>\n",
       "    <tr>\n",
       "      <th>1</th>\n",
       "      <td>92.0</td>\n",
       "      <td>19.0</td>\n",
       "      <td>65.0</td>\n",
       "      <td>94.0</td>\n",
       "      <td>68.0</td>\n",
       "      <td>101.0</td>\n",
       "      <td>59.0</td>\n",
       "      <td>98.0</td>\n",
       "      <td>16.2340</td>\n",
       "      <td>3.5014</td>\n",
       "      <td>0.0</td>\n",
       "      <td>777.95</td>\n",
       "      <td>12.4140</td>\n",
       "    </tr>\n",
       "    <tr>\n",
       "      <th>2</th>\n",
       "      <td>80.0</td>\n",
       "      <td>42.0</td>\n",
       "      <td>61.0</td>\n",
       "      <td>82.0</td>\n",
       "      <td>49.0</td>\n",
       "      <td>101.0</td>\n",
       "      <td>59.0</td>\n",
       "      <td>98.0</td>\n",
       "      <td>19.7350</td>\n",
       "      <td>2.8648</td>\n",
       "      <td>0.0</td>\n",
       "      <td>0.00</td>\n",
       "      <td>12.8700</td>\n",
       "    </tr>\n",
       "    <tr>\n",
       "      <th>3</th>\n",
       "      <td>80.0</td>\n",
       "      <td>90.0</td>\n",
       "      <td>65.0</td>\n",
       "      <td>44.0</td>\n",
       "      <td>68.0</td>\n",
       "      <td>101.0</td>\n",
       "      <td>59.0</td>\n",
       "      <td>98.0</td>\n",
       "      <td>6.3662</td>\n",
       "      <td>3.1831</td>\n",
       "      <td>0.0</td>\n",
       "      <td>0.00</td>\n",
       "      <td>3.8197</td>\n",
       "    </tr>\n",
       "    <tr>\n",
       "      <th>4</th>\n",
       "      <td>80.0</td>\n",
       "      <td>19.0</td>\n",
       "      <td>61.0</td>\n",
       "      <td>14.0</td>\n",
       "      <td>49.0</td>\n",
       "      <td>101.0</td>\n",
       "      <td>59.0</td>\n",
       "      <td>98.0</td>\n",
       "      <td>13.3690</td>\n",
       "      <td>3.5014</td>\n",
       "      <td>0.0</td>\n",
       "      <td>0.00</td>\n",
       "      <td>10.1860</td>\n",
       "    </tr>\n",
       "  </tbody>\n",
       "</table>\n",
       "</div>"
      ],
      "text/plain": [
       "   work_class  education  marital_status  occupation  relationship   race  \\\n",
       "0        80.0       90.0            65.0        85.0          99.0  101.0   \n",
       "1        92.0       19.0            65.0        94.0          68.0  101.0   \n",
       "2        80.0       42.0            61.0        82.0          49.0  101.0   \n",
       "3        80.0       90.0            65.0        44.0          68.0  101.0   \n",
       "4        80.0       19.0            61.0        14.0          49.0  101.0   \n",
       "\n",
       "    sex  country      age  years_education  income_inv  loss_inv  work_hours  \n",
       "0  37.0     98.0   7.6394           3.1831         0.0      0.00      5.7296  \n",
       "1  59.0     98.0  16.2340           3.5014         0.0    777.95     12.4140  \n",
       "2  59.0     98.0  19.7350           2.8648         0.0      0.00     12.8700  \n",
       "3  59.0     98.0   6.3662           3.1831         0.0      0.00      3.8197  \n",
       "4  59.0     98.0  13.3690           3.5014         0.0      0.00     10.1860  "
      ]
     },
     "metadata": {},
     "output_type": "display_data"
    }
   ],
   "source": [
    "display(trainS1.head())\n",
    "display(testS1.head())"
   ]
  },
  {
   "cell_type": "code",
   "execution_count": 112,
   "metadata": {
    "collapsed": false
   },
   "outputs": [],
   "source": [
    "# OHE for the categorical features of the training sets and also standardization for the numerical features\n",
    "xs1 = trainS1.drop(['target'],axis=1).values\n",
    "ys1 = trainS1.target.values\n",
    "xs1cat = xs1[:,range(8)]\n",
    "xs1num = xs1[:,8:]\n",
    "ohes1 = OneHotEncoder(categorical_features=range(xs1cat.shape[1]))\n",
    "stdscalers1 = StandardScaler()\n",
    "xs1cat = ohes1.fit_transform(xs1cat).toarray()\n",
    "xs1num = stdscalers1.fit_transform(xs1num)\n",
    "xs1 = np.hstack([xs1cat,xs1num])\n",
    "\n",
    "xs2 = trainS2.drop(['target'],axis=1).values\n",
    "ys2 = trainS2.target.values\n",
    "xs2cat = xs2[:,range(8)]\n",
    "xs2num = xs2[:,8:]\n",
    "ohes2 = OneHotEncoder(categorical_features=range(xs2cat.shape[1]))\n",
    "stdscalers2 = StandardScaler()\n",
    "xs2cat = ohes2.fit_transform(xs2cat).toarray()\n",
    "xs2num = stdscalers2.fit_transform(xs2num)\n",
    "xs2 = np.hstack([xs2cat,xs2num])\n",
    "\n",
    "xs3 = trainS3.drop(['target'],axis=1).values\n",
    "ys3 = trainS3.target.values\n",
    "xs3cat = xs3[:,range(8)]\n",
    "xs3num = xs3[:,8:]\n",
    "ohes3 = OneHotEncoder(categorical_features=range(xs3cat.shape[1]))\n",
    "stdscalers3 = StandardScaler()\n",
    "xs3cat = ohes3.fit_transform(xs3cat).toarray()\n",
    "xs3num = stdscalers3.fit_transform(xs3num)\n",
    "xs3 = np.hstack([xs3cat,xs3num])"
   ]
  },
  {
   "cell_type": "markdown",
   "metadata": {},
   "source": [
    "<a id=\"lrcoefs\"></a>\n",
    "<h3> Coefficient weights per regularization parameter</h3>\n",
    "<div style=\"text-align:right\">\n",
    "<a href=\"#top\">[Back to top]</a>\n",
    "</div>"
   ]
  },
  {
   "cell_type": "markdown",
   "metadata": {},
   "source": [
    "Coefficient weights for Strategy 1"
   ]
  },
  {
   "cell_type": "code",
   "execution_count": 44,
   "metadata": {
    "collapsed": true
   },
   "outputs": [],
   "source": [
    "def regularizationWeights(data,labels,title):\n",
    "    # Coefficient weights per model/strategy and the regularization params\n",
    "    weights,params = [],[]\n",
    "    for c in range(-5,5):\n",
    "        lr = LogisticRegression(C=10**c,random_state=0)\n",
    "        lr.fit(data,labels)\n",
    "        params.append(10**c)\n",
    "        weights.append(lr.coef_[0])\n",
    "    weights = np.array(weights)\n",
    "    \n",
    "    #plt.figure(figsize=(8,10))\n",
    "    for w in range(weights.shape[1]):\n",
    "        plt.plot(params,weights[:,w])\n",
    "\n",
    "    plt.xlabel(\"C\")\n",
    "    plt.ylabel(\"Coefficient weights\")\n",
    "    plt.xscale(\"log\")\n",
    "    plt.title(\"Coefficient weights for \"+title) "
   ]
  },
  {
   "cell_type": "code",
   "execution_count": 54,
   "metadata": {
    "collapsed": false
   },
   "outputs": [
    {
     "data": {
      "image/png": "[encoded data removed]",
      "text/plain": [
       "<matplotlib.figure.Figure at 0x7fa996ee6890>"
      ]
     },
     "metadata": {},
     "output_type": "display_data"
    }
   ],
   "source": [
    "regularizationWeights(xs1,ys1,\"Strategy 1\")\n",
    "#plt.savefig(\"plots/lrcoef_s1.png\")"
   ]
  },
  {
   "cell_type": "markdown",
   "metadata": {},
   "source": [
    "Coefficient weights for Strategy 2"
   ]
  },
  {
   "cell_type": "code",
   "execution_count": 55,
   "metadata": {
    "collapsed": false
   },
   "outputs": [
    {
     "data": {
      "image/png": "[encoded data removed]",
      "text/plain": [
       "<matplotlib.figure.Figure at 0x7fa9958fc950>"
      ]
     },
     "metadata": {},
     "output_type": "display_data"
    }
   ],
   "source": [
    "regularizationWeights(xs2,ys2,\"Strategy 2\")\n",
    "#plt.savefig(\"plots/lrcoef_s2.png\")"
   ]
  },
  {
   "cell_type": "markdown",
   "metadata": {},
   "source": [
    "Coefficient weights for Strategy 3"
   ]
  },
  {
   "cell_type": "code",
   "execution_count": 56,
   "metadata": {
    "collapsed": false
   },
   "outputs": [
    {
     "data": {
      "image/png": "[encoded data removed]",
      "text/plain": [
       "<matplotlib.figure.Figure at 0x7fa996a2fdd0>"
      ]
     },
     "metadata": {},
     "output_type": "display_data"
    }
   ],
   "source": [
    "regularizationWeights(xs3,ys3,\"Strategy 3\")\n",
    "#plt.savefig(\"plots/lrcoef_s3\")"
   ]
  },
  {
   "cell_type": "markdown",
   "metadata": {},
   "source": [
    "<a id=\"regvalcurves\"></a>\n",
    "<h3> Regularization parameter validation curves</h3>\n",
    "<div style=\"text-align:right\">\n",
    "<a href=\"#top\">[Back to top]</a>\n",
    "</div>"
   ]
  },
  {
   "cell_type": "code",
   "execution_count": 58,
   "metadata": {
    "collapsed": false
   },
   "outputs": [
    {
     "data": {
      "text/plain": [
       "array([  1,   2,   3,   4,   5,   6,   7,   8,   9,  10,  20,  30,  40,\n",
       "        50,  60,  70,  80,  90, 100])"
      ]
     },
     "execution_count": 58,
     "metadata": {},
     "output_type": "execute_result"
    }
   ],
   "source": [
    "np.concatenate([np.arange(1,10,1),np.arange(10,110,10)])"
   ]
  },
  {
   "cell_type": "code",
   "execution_count": 65,
   "metadata": {
    "collapsed": true
   },
   "outputs": [],
   "source": [
    "from sklearn.learning_curve import validation_curve\n",
    "\n",
    "def regularizationValidationCurve(data,labs,title):\n",
    "    crange = np.concatenate([np.arange(1,10,1),np.arange(10,110,10)])\n",
    "    clf = LogisticRegression(penalty='l2',random_state=0)\n",
    "    train_scores , test_scores = validation_curve(estimator=clf,\n",
    "                                                  X = data,\n",
    "                                                  y = labs,\n",
    "                                                  param_name='C',\n",
    "                                                  param_range=crange,\n",
    "                                                  cv=10)\n",
    "    train_mean = np.mean(train_scores,axis=1)\n",
    "    train_std = np.std(train_scores,axis=1)\n",
    "    test_mean = np.mean(test_scores,axis=1)\n",
    "    test_std = np.std(test_scores,axis=1)\n",
    "\n",
    "    plt.plot(crange,train_mean,color='blue',marker='o',markersize=5,label='training_accuracy')\n",
    "    plt.fill_between(crange,train_mean+train_std,train_mean-train_std,alpha=.15,color='blue')\n",
    "    plt.plot(crange,test_mean,color='green',marker='s',markersize=5,linestyle='--',label='test_accuracy')\n",
    "    plt.fill_between(crange,test_mean+test_std,test_mean-test_std,alpha=.15,color='green')\n",
    "    plt.grid(1)\n",
    "    plt.xlim([0,120])\n",
    "    plt.legend(loc='lower right')\n",
    "    plt.xlabel('Regularization parameter')\n",
    "    plt.ylabel('Accuracy')\n",
    "    plt.ylim([.8,.9])\n",
    "    plt.title(\"C Validation Curve for \"+title)"
   ]
  },
  {
   "cell_type": "markdown",
   "metadata": {},
   "source": [
    "Validation curve for Strategy 1"
   ]
  },
  {
   "cell_type": "code",
   "execution_count": 66,
   "metadata": {
    "collapsed": false
   },
   "outputs": [
    {
     "data": {
      "image/png": "[encoded data removed]",
      "text/plain": [
       "<matplotlib.figure.Figure at 0x7fa9deb9fd10>"
      ]
     },
     "metadata": {},
     "output_type": "display_data"
    }
   ],
   "source": [
    "regularizationValidationCurve(xs1,ys1,'Strategy 1')\n",
    "#plt.savefig(\"plots/valcurveS1.png\")"
   ]
  },
  {
   "cell_type": "markdown",
   "metadata": {},
   "source": [
    "Validation curve for Strategy 2"
   ]
  },
  {
   "cell_type": "code",
   "execution_count": 67,
   "metadata": {
    "collapsed": false
   },
   "outputs": [
    {
     "data": {
      "image/png": "[encoded data removed]",
      "text/plain": [
       "<matplotlib.figure.Figure at 0x7fa9969e4090>"
      ]
     },
     "metadata": {},
     "output_type": "display_data"
    }
   ],
   "source": [
    "regularizationValidationCurve(xs1,ys1,'Strategy 2')\n",
    "#plt.savefig(\"plots/valcurveS2.png\")"
   ]
  },
  {
   "cell_type": "markdown",
   "metadata": {},
   "source": [
    "Validation curve for Strategy 3"
   ]
  },
  {
   "cell_type": "code",
   "execution_count": 68,
   "metadata": {
    "collapsed": false
   },
   "outputs": [
    {
     "data": {
      "image/png": "[encoded data removed]",
      "text/plain": [
       "<matplotlib.figure.Figure at 0x7fa995b408d0>"
      ]
     },
     "metadata": {},
     "output_type": "display_data"
    }
   ],
   "source": [
    "regularizationValidationCurve(xs1,ys1,'Strategy 3')\n",
    "#plt.savefig(\"plots/valcurveS3.png\")"
   ]
  },
  {
   "cell_type": "markdown",
   "metadata": {},
   "source": [
    "<a id=\"bestlr\"></a>\n",
    "<h3> Best LR out of three</h3>\n",
    "<div style=\"text-align:right\">\n",
    "<a href=\"#top\">[Back to top]</a>\n",
    "</div>"
   ]
  },
  {
   "cell_type": "markdown",
   "metadata": {},
   "source": [
    "Stratisfied Cross Validation for Strategy 1 (Best Strategy for logistic regression)"
   ]
  },
  {
   "cell_type": "code",
   "execution_count": 113,
   "metadata": {
    "collapsed": false
   },
   "outputs": [
    {
     "name": "stdout",
     "output_type": "stream",
     "text": [
      "Fold 1, Class dist.: [7200 2250], Acc: 0.83905\n",
      "Fold 2, Class dist.: [7200 2250], Acc: 0.82571\n",
      "Fold 3, Class dist.: [7200 2250], Acc: 0.84000\n",
      "Fold 4, Class dist.: [7200 2250], Acc: 0.83714\n",
      "Fold 5, Class dist.: [7200 2250], Acc: 0.84857\n",
      "Fold 6, Class dist.: [7200 2250], Acc: 0.83905\n",
      "Fold 7, Class dist.: [7200 2250], Acc: 0.84476\n",
      "Fold 8, Class dist.: [7200 2250], Acc: 0.86762\n",
      "Fold 9, Class dist.: [7200 2250], Acc: 0.84476\n",
      "Fold 10, Class dist.: [7200 2250], Acc: 0.83238\n",
      "CV Accuracy : 0.84190 +/- 0.01057\n"
     ]
    }
   ],
   "source": [
    "LRCrossValidation(xs1,ys1,c=1)"
   ]
  },
  {
   "cell_type": "markdown",
   "metadata": {},
   "source": [
    "Stratisfied Cross Validation for Strategy 2"
   ]
  },
  {
   "cell_type": "code",
   "execution_count": 88,
   "metadata": {
    "collapsed": false
   },
   "outputs": [
    {
     "name": "stdout",
     "output_type": "stream",
     "text": [
      "Fold 1, Class dist.: [7200 2250], Acc: 0.82762\n",
      "Fold 2, Class dist.: [7200 2250], Acc: 0.82095\n",
      "Fold 3, Class dist.: [7200 2250], Acc: 0.83429\n",
      "Fold 4, Class dist.: [7200 2250], Acc: 0.83810\n",
      "Fold 5, Class dist.: [7200 2250], Acc: 0.84381\n",
      "Fold 6, Class dist.: [7200 2250], Acc: 0.83619\n",
      "Fold 7, Class dist.: [7200 2250], Acc: 0.84762\n",
      "Fold 8, Class dist.: [7200 2250], Acc: 0.86000\n",
      "Fold 9, Class dist.: [7200 2250], Acc: 0.84190\n",
      "Fold 10, Class dist.: [7200 2250], Acc: 0.83333\n",
      "CV Accuracy : 0.83838 +/- 0.01030\n"
     ]
    }
   ],
   "source": [
    "LRCrossValidation(xs2,ys2,c=1)"
   ]
  },
  {
   "cell_type": "markdown",
   "metadata": {},
   "source": [
    "Stratisfied Cross Validation for Strategy 3"
   ]
  },
  {
   "cell_type": "code",
   "execution_count": 92,
   "metadata": {
    "collapsed": false
   },
   "outputs": [
    {
     "name": "stdout",
     "output_type": "stream",
     "text": [
      "Fold 1, Class dist.: [7200 2250], Acc: 0.84381\n",
      "Fold 2, Class dist.: [7200 2250], Acc: 0.82476\n",
      "Fold 3, Class dist.: [7200 2250], Acc: 0.83905\n",
      "Fold 4, Class dist.: [7200 2250], Acc: 0.83905\n",
      "Fold 5, Class dist.: [7200 2250], Acc: 0.84857\n",
      "Fold 6, Class dist.: [7200 2250], Acc: 0.83333\n",
      "Fold 7, Class dist.: [7200 2250], Acc: 0.83524\n",
      "Fold 8, Class dist.: [7200 2250], Acc: 0.86952\n",
      "Fold 9, Class dist.: [7200 2250], Acc: 0.84000\n",
      "Fold 10, Class dist.: [7200 2250], Acc: 0.83238\n",
      "CV Accuracy : 0.84057 +/- 0.01147\n"
     ]
    }
   ],
   "source": [
    "LRCrossValidation(xs3,ys3,c=1)"
   ]
  },
  {
   "cell_type": "markdown",
   "metadata": {},
   "source": [
    "<a id=\"learncurve\"></a>\n",
    "<h3> Learning curve for LR and Strategy 1</h3>\n",
    "<div style=\"text-align:right\">\n",
    "<a href=\"#top\">[Back to top]</a>\n",
    "</div>"
   ]
  },
  {
   "cell_type": "code",
   "execution_count": 98,
   "metadata": {
    "collapsed": false
   },
   "outputs": [],
   "source": [
    "from sklearn.learning_curve import learning_curve\n",
    "from sklearn.utils import shuffle\n",
    "\n",
    "def LRlearningCurve(data,labs):\n",
    "    est = LogisticRegression(penalty='l2',random_state=0,C=1)\n",
    "    data,labs = shuffle(data,labs)\n",
    "    train_sizes,train_scores,test_scores = learning_curve(estimator=est,\n",
    "                                                         X = data,\n",
    "                                                         y = labs,\n",
    "                                                         train_sizes = np.linspace(.1,1.,10),\n",
    "                                                         cv=10)\n",
    "    train_mean = np.mean(train_scores,axis=1)\n",
    "    train_std = np.std(train_scores,axis=1)\n",
    "    test_mean = np.mean(test_scores,axis=1)\n",
    "    test_std = np.std(test_scores,axis=1)\n",
    "    \n",
    "    plt.plot(train_sizes,train_mean,\n",
    "            color='blue',marker='o',\n",
    "            markersize=5,\n",
    "            label = 'Training Accuracy')\n",
    "    plt.fill_between(train_sizes,train_mean+train_std,train_mean-train_std,alpha=.15,color='blue')\n",
    "    \n",
    "    plt.plot(train_sizes,test_mean,\n",
    "            color='green',linestyle='--',\n",
    "            marker='s',markersize=5,\n",
    "            label = 'Test Accuracy')\n",
    "    plt.fill_between(train_sizes,test_mean+test_std,test_mean-test_std,color='green',alpha=.15)\n",
    "    \n",
    "    plt.grid(1)\n",
    "    plt.title(\"Learning curve for LR and Strategy 1\")\n",
    "    plt.xlabel(\"Number of training samples\")\n",
    "    plt.ylabel(\"Accuracy\")\n",
    "    plt.legend(loc='lower right')\n",
    "    plt.ylim([0.8,.9])\n"
   ]
  },
  {
   "cell_type": "code",
   "execution_count": 103,
   "metadata": {
    "collapsed": false
   },
   "outputs": [
    {
     "data": {
      "image/png": "[encoded data removed]",
      "text/plain": [
       "<matplotlib.figure.Figure at 0x7fa9a22b8910>"
      ]
     },
     "metadata": {},
     "output_type": "display_data"
    }
   ],
   "source": [
    "LRlearningCurve(xs1,ys1)\n",
    "plt.savefig(\"plots/lrlearningcurve.png\")"
   ]
  },
  {
   "cell_type": "code",
   "execution_count": null,
   "metadata": {
    "collapsed": true
   },
   "outputs": [],
   "source": []
  },
  {
   "cell_type": "code",
   "execution_count": null,
   "metadata": {
    "collapsed": true
   },
   "outputs": [],
   "source": []
  },
  {
   "cell_type": "markdown",
   "metadata": {},
   "source": [
    "<a id=\"ada\"></a>\n",
    "<center> <h2> AdaBoost</h2></center>\n",
    "<div style=\"text-align:right\">\n",
    "<a href=\"#top\">[Back to top]</a>\n",
    "</div>"
   ]
  },
  {
   "cell_type": "code",
   "execution_count": 31,
   "metadata": {
    "collapsed": true
   },
   "outputs": [],
   "source": [
    "from sklearn.ensemble import AdaBoostClassifier\n",
    "from sklearn.tree import DecisionTreeClassifier\n",
    "from sklearn.preprocessing import OneHotEncoder\n",
    "from sklearn.pipeline import Pipeline"
   ]
  },
  {
   "cell_type": "code",
   "execution_count": 116,
   "metadata": {
    "collapsed": false
   },
   "outputs": [
    {
     "data": {
      "text/html": [
       "<div>\n",
       "<table border=\"1\" class=\"dataframe\">\n",
       "  <thead>\n",
       "    <tr style=\"text-align: right;\">\n",
       "      <th></th>\n",
       "      <th>work_class</th>\n",
       "      <th>education</th>\n",
       "      <th>marital_status</th>\n",
       "      <th>occupation</th>\n",
       "      <th>relationship</th>\n",
       "      <th>race</th>\n",
       "      <th>sex</th>\n",
       "      <th>country</th>\n",
       "      <th>age</th>\n",
       "      <th>years_education</th>\n",
       "      <th>income_inv</th>\n",
       "      <th>loss_inv</th>\n",
       "      <th>work_hours</th>\n",
       "      <th>target</th>\n",
       "    </tr>\n",
       "  </thead>\n",
       "  <tbody>\n",
       "    <tr>\n",
       "      <th>0</th>\n",
       "      <td>92.0</td>\n",
       "      <td>20.0</td>\n",
       "      <td>65.0</td>\n",
       "      <td>14.0</td>\n",
       "      <td>68.0</td>\n",
       "      <td>101.0</td>\n",
       "      <td>59.0</td>\n",
       "      <td>98.0</td>\n",
       "      <td>12.4140</td>\n",
       "      <td>4.1400</td>\n",
       "      <td>692.01</td>\n",
       "      <td>0.0</td>\n",
       "      <td>12.870</td>\n",
       "      <td>0</td>\n",
       "    </tr>\n",
       "    <tr>\n",
       "      <th>1</th>\n",
       "      <td>88.0</td>\n",
       "      <td>42.0</td>\n",
       "      <td>61.0</td>\n",
       "      <td>82.0</td>\n",
       "      <td>49.0</td>\n",
       "      <td>101.0</td>\n",
       "      <td>59.0</td>\n",
       "      <td>98.0</td>\n",
       "      <td>13.7300</td>\n",
       "      <td>3.1831</td>\n",
       "      <td>0.00</td>\n",
       "      <td>0.0</td>\n",
       "      <td>4.138</td>\n",
       "      <td>0</td>\n",
       "    </tr>\n",
       "    <tr>\n",
       "      <th>2</th>\n",
       "      <td>80.0</td>\n",
       "      <td>42.0</td>\n",
       "      <td>28.0</td>\n",
       "      <td>44.0</td>\n",
       "      <td>68.0</td>\n",
       "      <td>101.0</td>\n",
       "      <td>59.0</td>\n",
       "      <td>98.0</td>\n",
       "      <td>12.0960</td>\n",
       "      <td>2.8600</td>\n",
       "      <td>0.00</td>\n",
       "      <td>0.0</td>\n",
       "      <td>12.732</td>\n",
       "      <td>0</td>\n",
       "    </tr>\n",
       "    <tr>\n",
       "      <th>3</th>\n",
       "      <td>80.0</td>\n",
       "      <td>3.0</td>\n",
       "      <td>61.0</td>\n",
       "      <td>44.0</td>\n",
       "      <td>49.0</td>\n",
       "      <td>101.0</td>\n",
       "      <td>59.0</td>\n",
       "      <td>98.0</td>\n",
       "      <td>13.7300</td>\n",
       "      <td>2.2300</td>\n",
       "      <td>0.00</td>\n",
       "      <td>0.0</td>\n",
       "      <td>12.732</td>\n",
       "      <td>0</td>\n",
       "    </tr>\n",
       "    <tr>\n",
       "      <th>4</th>\n",
       "      <td>80.0</td>\n",
       "      <td>20.0</td>\n",
       "      <td>61.0</td>\n",
       "      <td>82.0</td>\n",
       "      <td>103.0</td>\n",
       "      <td>21.0</td>\n",
       "      <td>59.0</td>\n",
       "      <td>27.0</td>\n",
       "      <td>8.9127</td>\n",
       "      <td>4.1380</td>\n",
       "      <td>0.00</td>\n",
       "      <td>0.0</td>\n",
       "      <td>12.732</td>\n",
       "      <td>0</td>\n",
       "    </tr>\n",
       "  </tbody>\n",
       "</table>\n",
       "</div>"
      ],
      "text/plain": [
       "   work_class  education  marital_status  occupation  relationship   race  \\\n",
       "0        92.0       20.0            65.0        14.0          68.0  101.0   \n",
       "1        88.0       42.0            61.0        82.0          49.0  101.0   \n",
       "2        80.0       42.0            28.0        44.0          68.0  101.0   \n",
       "3        80.0        3.0            61.0        44.0          49.0  101.0   \n",
       "4        80.0       20.0            61.0        82.0         103.0   21.0   \n",
       "\n",
       "    sex  country      age  years_education  income_inv  loss_inv  work_hours  \\\n",
       "0  59.0     98.0  12.4140           4.1400      692.01       0.0      12.870   \n",
       "1  59.0     98.0  13.7300           3.1831        0.00       0.0       4.138   \n",
       "2  59.0     98.0  12.0960           2.8600        0.00       0.0      12.732   \n",
       "3  59.0     98.0  13.7300           2.2300        0.00       0.0      12.732   \n",
       "4  59.0     27.0   8.9127           4.1380        0.00       0.0      12.732   \n",
       "\n",
       "   target  \n",
       "0       0  \n",
       "1       0  \n",
       "2       0  \n",
       "3       0  \n",
       "4       0  "
      ]
     },
     "metadata": {},
     "output_type": "display_data"
    },
    {
     "data": {
      "text/html": [
       "<div>\n",
       "<table border=\"1\" class=\"dataframe\">\n",
       "  <thead>\n",
       "    <tr style=\"text-align: right;\">\n",
       "      <th></th>\n",
       "      <th>work_class</th>\n",
       "      <th>education</th>\n",
       "      <th>marital_status</th>\n",
       "      <th>occupation</th>\n",
       "      <th>relationship</th>\n",
       "      <th>race</th>\n",
       "      <th>sex</th>\n",
       "      <th>country</th>\n",
       "      <th>age</th>\n",
       "      <th>years_education</th>\n",
       "      <th>income_inv</th>\n",
       "      <th>loss_inv</th>\n",
       "      <th>work_hours</th>\n",
       "    </tr>\n",
       "  </thead>\n",
       "  <tbody>\n",
       "    <tr>\n",
       "      <th>0</th>\n",
       "      <td>80.0</td>\n",
       "      <td>90.0</td>\n",
       "      <td>65.0</td>\n",
       "      <td>85.0</td>\n",
       "      <td>99.0</td>\n",
       "      <td>101.0</td>\n",
       "      <td>37.0</td>\n",
       "      <td>98.0</td>\n",
       "      <td>7.6394</td>\n",
       "      <td>3.1831</td>\n",
       "      <td>0.0</td>\n",
       "      <td>0.00</td>\n",
       "      <td>5.7296</td>\n",
       "    </tr>\n",
       "    <tr>\n",
       "      <th>1</th>\n",
       "      <td>92.0</td>\n",
       "      <td>19.0</td>\n",
       "      <td>65.0</td>\n",
       "      <td>94.0</td>\n",
       "      <td>68.0</td>\n",
       "      <td>101.0</td>\n",
       "      <td>59.0</td>\n",
       "      <td>98.0</td>\n",
       "      <td>16.2340</td>\n",
       "      <td>3.5014</td>\n",
       "      <td>0.0</td>\n",
       "      <td>777.95</td>\n",
       "      <td>12.4140</td>\n",
       "    </tr>\n",
       "    <tr>\n",
       "      <th>2</th>\n",
       "      <td>80.0</td>\n",
       "      <td>42.0</td>\n",
       "      <td>61.0</td>\n",
       "      <td>82.0</td>\n",
       "      <td>49.0</td>\n",
       "      <td>101.0</td>\n",
       "      <td>59.0</td>\n",
       "      <td>98.0</td>\n",
       "      <td>19.7350</td>\n",
       "      <td>2.8648</td>\n",
       "      <td>0.0</td>\n",
       "      <td>0.00</td>\n",
       "      <td>12.8700</td>\n",
       "    </tr>\n",
       "    <tr>\n",
       "      <th>3</th>\n",
       "      <td>80.0</td>\n",
       "      <td>90.0</td>\n",
       "      <td>65.0</td>\n",
       "      <td>44.0</td>\n",
       "      <td>68.0</td>\n",
       "      <td>101.0</td>\n",
       "      <td>59.0</td>\n",
       "      <td>98.0</td>\n",
       "      <td>6.3662</td>\n",
       "      <td>3.1831</td>\n",
       "      <td>0.0</td>\n",
       "      <td>0.00</td>\n",
       "      <td>3.8197</td>\n",
       "    </tr>\n",
       "    <tr>\n",
       "      <th>4</th>\n",
       "      <td>80.0</td>\n",
       "      <td>19.0</td>\n",
       "      <td>61.0</td>\n",
       "      <td>14.0</td>\n",
       "      <td>49.0</td>\n",
       "      <td>101.0</td>\n",
       "      <td>59.0</td>\n",
       "      <td>98.0</td>\n",
       "      <td>13.3690</td>\n",
       "      <td>3.5014</td>\n",
       "      <td>0.0</td>\n",
       "      <td>0.00</td>\n",
       "      <td>10.1860</td>\n",
       "    </tr>\n",
       "  </tbody>\n",
       "</table>\n",
       "</div>"
      ],
      "text/plain": [
       "   work_class  education  marital_status  occupation  relationship   race  \\\n",
       "0        80.0       90.0            65.0        85.0          99.0  101.0   \n",
       "1        92.0       19.0            65.0        94.0          68.0  101.0   \n",
       "2        80.0       42.0            61.0        82.0          49.0  101.0   \n",
       "3        80.0       90.0            65.0        44.0          68.0  101.0   \n",
       "4        80.0       19.0            61.0        14.0          49.0  101.0   \n",
       "\n",
       "    sex  country      age  years_education  income_inv  loss_inv  work_hours  \n",
       "0  37.0     98.0   7.6394           3.1831         0.0      0.00      5.7296  \n",
       "1  59.0     98.0  16.2340           3.5014         0.0    777.95     12.4140  \n",
       "2  59.0     98.0  19.7350           2.8648         0.0      0.00     12.8700  \n",
       "3  59.0     98.0   6.3662           3.1831         0.0      0.00      3.8197  \n",
       "4  59.0     98.0  13.3690           3.5014         0.0      0.00     10.1860  "
      ]
     },
     "metadata": {},
     "output_type": "display_data"
    }
   ],
   "source": [
    "display(trainS1.head())\n",
    "display(testS1.head())"
   ]
  },
  {
   "cell_type": "code",
   "execution_count": 32,
   "metadata": {
    "collapsed": true
   },
   "outputs": [],
   "source": [
    "# A function for stratified cross validation of the Logistic Regression classifiers\n",
    "def AdaCrossValidation(xs,labs,c=0.1,folds=10):\n",
    "    scores = []\n",
    "    skf = StratifiedKFold(y=labs,n_folds=folds,random_state=1)\n",
    "    for k,(train_idx,test_idx) in enumerate(skf):\n",
    "        \n",
    "        tree = DecisionTreeClassifier(criterion='gini',max_depth=1)\n",
    "        ada = AdaBoostClassifier(base_estimator=tree,n_estimators=380,learning_rate=1.2,random_state=0)\n",
    "        \n",
    "        ada.fit(xs[train_idx],labs[train_idx])\n",
    "        score = ada.score(xs[test_idx],labs[test_idx])\n",
    "        scores.append(score)\n",
    "        print \"Fold %s, Class dist.: %s, Acc: %.5f\"%(k+1,\n",
    "                                                    np.bincount(labs[train_idx]),\n",
    "                                                    score)\n",
    "    print \"CV Accuracy : %.5f +/- %.5f\"%(np.mean(scores),np.std(scores))\n",
    "    #print scores"
   ]
  },
  {
   "cell_type": "code",
   "execution_count": 27,
   "metadata": {
    "collapsed": false
   },
   "outputs": [],
   "source": [
    "axs1 = trainS1.drop(['target'],axis=1).values\n",
    "ays1 = trainS1.target.values"
   ]
  },
  {
   "cell_type": "code",
   "execution_count": 33,
   "metadata": {
    "collapsed": false
   },
   "outputs": [
    {
     "name": "stdout",
     "output_type": "stream",
     "text": [
      "Fold 1, Class dist.: [7200 2250], Acc: 0.86571\n",
      "Fold 2, Class dist.: [7200 2250], Acc: 0.84571\n",
      "Fold 3, Class dist.: [7200 2250], Acc: 0.85524\n",
      "Fold 4, Class dist.: [7200 2250], Acc: 0.85524\n",
      "Fold 5, Class dist.: [7200 2250], Acc: 0.87905\n",
      "Fold 6, Class dist.: [7200 2250], Acc: 0.83810\n",
      "Fold 7, Class dist.: [7200 2250], Acc: 0.86095\n",
      "Fold 8, Class dist.: [7200 2250], Acc: 0.87429\n",
      "Fold 9, Class dist.: [7200 2250], Acc: 0.86286\n",
      "Fold 10, Class dist.: [7200 2250], Acc: 0.84095\n",
      "CV Accuracy : 0.85781 +/- 0.01286\n"
     ]
    }
   ],
   "source": [
    "AdaCrossValidation(axs1,ays1)"
   ]
  },
  {
   "cell_type": "code",
   "execution_count": 121,
   "metadata": {
    "collapsed": true
   },
   "outputs": [],
   "source": [
    "atxs1 = testS1.values\n",
    "tree = DecisionTreeClassifier(criterion='gini',max_depth=1)\n",
    "adaClf = AdaBoostClassifier(base_estimator=tree,\n",
    "                           n_estimators=380,learning_rate=1.2,\n",
    "                           random_state=0)\n",
    "adaClf.fit(augxs,augys)\n",
    "makeSubmission(\"adaAug2Clf\",adaClf,atxs1)\n"
   ]
  },
  {
   "cell_type": "markdown",
   "metadata": {},
   "source": [
    "Make submission for AdaBoostClassifier"
   ]
  },
  {
   "cell_type": "code",
   "execution_count": 289,
   "metadata": {
    "collapsed": false
   },
   "outputs": [],
   "source": [
    "atxs1 = testS1.values\n",
    "tree = DecisionTreeClassifier(criterion='gini',max_depth=1)\n",
    "adaClf = AdaBoostClassifier(base_estimator=tree,\n",
    "                           n_estimators=380,learning_rate=1.2,\n",
    "                           random_state=0)\n",
    "adaClf.fit(axs1,ays1)\n",
    "makeSubmission(\"adaClf\",adaClf,atxs1)\n"
   ]
  },
  {
   "cell_type": "markdown",
   "metadata": {},
   "source": [
    "Learning curve for AdaBoost"
   ]
  },
  {
   "cell_type": "code",
   "execution_count": 281,
   "metadata": {
    "collapsed": true
   },
   "outputs": [],
   "source": [
    "def adalearningCurve(data,labs):\n",
    "    tree = DecisionTreeClassifier(criterion='gini',max_depth=1)\n",
    "    est = AdaBoostClassifier(base_estimator=tree,\n",
    "                           n_estimators=380,learning_rate=1.2,\n",
    "                           random_state=0)\n",
    "    data,labs = shuffle(data,labs)\n",
    "    train_sizes,train_scores,test_scores = learning_curve(estimator=est,\n",
    "                                                         X = data,\n",
    "                                                         y = labs,\n",
    "                                                         train_sizes = np.linspace(.1,1.,10),\n",
    "                                                         cv=10)\n",
    "    train_mean = np.mean(train_scores,axis=1)\n",
    "    train_std = np.std(train_scores,axis=1)\n",
    "    test_mean = np.mean(test_scores,axis=1)\n",
    "    test_std = np.std(test_scores,axis=1)\n",
    "    \n",
    "    plt.plot(train_sizes,train_mean,\n",
    "            color='blue',marker='o',\n",
    "            markersize=5,\n",
    "            label = 'Training Accuracy')\n",
    "    plt.fill_between(train_sizes,train_mean+train_std,train_mean-train_std,alpha=.15,color='blue')\n",
    "    \n",
    "    plt.plot(train_sizes,test_mean,\n",
    "            color='green',linestyle='--',\n",
    "            marker='s',markersize=5,\n",
    "            label = 'Test Accuracy')\n",
    "    plt.fill_between(train_sizes,test_mean+test_std,test_mean-test_std,color='green',alpha=.15)\n",
    "    \n",
    "    plt.grid(1)\n",
    "    plt.title(\"Learning curve for LR and Strategy 1\")\n",
    "    plt.xlabel(\"Number of training samples\")\n",
    "    plt.ylabel(\"Accuracy\")\n",
    "    plt.legend(loc='lower right')\n",
    "    plt.ylim([0.8,.9])"
   ]
  },
  {
   "cell_type": "code",
   "execution_count": 287,
   "metadata": {
    "collapsed": false
   },
   "outputs": [
    {
     "data": {
      "image/png": "[encoded data removed]",
      "text/plain": [
       "<matplotlib.figure.Figure at 0x7fa996a295d0>"
      ]
     },
     "metadata": {},
     "output_type": "display_data"
    }
   ],
   "source": [
    "adalearningCurve(axs1,ays1)\n",
    "plt.savefig(\"plots/adaLearningCurve.png\")"
   ]
  },
  {
   "cell_type": "markdown",
   "metadata": {},
   "source": [
    "<a id=\"gsestimators\"></a>\n",
    "<h3> Grid Search for number of  estimators</h3>\n",
    "<div style=\"text-align:right\">\n",
    "<a href=\"#top\">[Back to top]</a>\n",
    "</div>"
   ]
  },
  {
   "cell_type": "code",
   "execution_count": 47,
   "metadata": {
    "collapsed": false
   },
   "outputs": [],
   "source": [
    "from sklearn.grid_search import GridSearchCV\n",
    "tree = DecisionTreeClassifier(max_depth=1,criterion='gini')\n",
    "adaclf = AdaBoostClassifier(base_estimator=tree,learning_rate=1.2,random_state=0)\n",
    "param_range = np.arange(50,510,10)\n",
    "param_grid = [{'n_estimators':param_range}]\n",
    "gsest = GridSearchCV(estimator=adaclf,param_grid=param_grid,scoring='accuracy',cv=10)\n",
    "gsest=gsest.fit(axs1,ays1)"
   ]
  },
  {
   "cell_type": "code",
   "execution_count": 249,
   "metadata": {
    "collapsed": false
   },
   "outputs": [
    {
     "data": {
      "image/png": "[encoded data removed]",
      "text/plain": [
       "<matplotlib.figure.Figure at 0x7fa99d97e250>"
      ]
     },
     "metadata": {},
     "output_type": "display_data"
    }
   ],
   "source": [
    "# For each parameter (n_estimators a 10-fold cross validation was executed)\n",
    "estimators = []\n",
    "means = []\n",
    "stds = []\n",
    "\n",
    "for tup in gsest.grid_scores_:\n",
    "    estimators.append(tup[0]['n_estimators'])\n",
    "    means.append(tup[1])\n",
    "    stds.append(np.std(tup[2]))\n",
    "\n",
    "estimators = np.array(estimators)\n",
    "means = np.array(means)\n",
    "stds = np.array(stds)\n",
    "\n",
    "plt.plot(estimators,means,markersize=5,marker='o',color='blue')\n",
    "plt.fill_between(estimators,means+stds,means-stds,linestyle='--',color='blue',alpha=.15)\n",
    "plt.xlabel(\"Number of estimators\")\n",
    "plt.ylabel(\"Accuracy\")\n",
    "plt.title(\"Grid search of number of estimators for AdaBoost\")\n",
    "plt.grid(1)\n",
    "plt.savefig(\"plots/gsAdaEstimators.png\")"
   ]
  },
  {
   "cell_type": "code",
   "execution_count": 250,
   "metadata": {
    "collapsed": false
   },
   "outputs": [
    {
     "name": "stdout",
     "output_type": "stream",
     "text": [
      "Best score with 10-fold CV over the number of estimators : 0.85781 achieved with 380 estimators \n"
     ]
    }
   ],
   "source": [
    "print \"Best score with 10-fold CV over the number of estimators : %.5f achieved with %d estimators \"%(gsest.best_score_,\n",
    "gsest.best_params_['n_estimators'])"
   ]
  },
  {
   "cell_type": "code",
   "execution_count": null,
   "metadata": {
    "collapsed": true
   },
   "outputs": [],
   "source": []
  },
  {
   "cell_type": "markdown",
   "metadata": {},
   "source": [
    "<a id=\"gslearning\"></a>\n",
    "<h3> Grid Search for learning rate</h3>\n",
    "<div style=\"text-align:right\">\n",
    "<a href=\"#top\">[Back to top]</a>\n",
    "</div>"
   ]
  },
  {
   "cell_type": "code",
   "execution_count": 235,
   "metadata": {
    "collapsed": false
   },
   "outputs": [
    {
     "data": {
      "text/plain": [
       "array([ 0.1,  0.2,  0.3,  0.4,  0.5,  0.6,  0.7,  0.8,  0.9,  1. ,  1.1,\n",
       "        1.2,  1.3,  1.4,  1.5,  1.6,  1.7,  1.8,  1.9,  2. ,  2.1,  2.2,\n",
       "        2.3,  2.4])"
      ]
     },
     "execution_count": 235,
     "metadata": {},
     "output_type": "execute_result"
    }
   ],
   "source": [
    "np.arange(0.1,2.5,0.1)"
   ]
  },
  {
   "cell_type": "code",
   "execution_count": 238,
   "metadata": {
    "collapsed": true
   },
   "outputs": [],
   "source": [
    "tree = DecisionTreeClassifier(max_depth=1,criterion='gini')\n",
    "adaclf = AdaBoostClassifier(base_estimator=tree,n_estimators=380,random_state=0)\n",
    "param_range = np.arange(.1,2.5,.1)\n",
    "param_grid = [{'learning_rate':param_range}]\n",
    "gs = GridSearchCV(estimator=adaclf,param_grid=param_grid,scoring='accuracy',cv=10)\n",
    "gs=gs.fit(axs1,ays1)"
   ]
  },
  {
   "cell_type": "code",
   "execution_count": 245,
   "metadata": {
    "collapsed": false
   },
   "outputs": [
    {
     "data": {
      "image/png": "[encoded data removed]",
      "text/plain": [
       "<matplotlib.figure.Figure at 0x7fa996dc3050>"
      ]
     },
     "metadata": {},
     "output_type": "display_data"
    }
   ],
   "source": [
    "# For each parameter (n_estimators a 10-fold cross validation was executed)\n",
    "estimators = []\n",
    "means = []\n",
    "stds = []\n",
    "\n",
    "for tup in gs.grid_scores_:\n",
    "    estimators.append(tup[0]['learning_rate'])\n",
    "    means.append(tup[1])\n",
    "    stds.append(np.std(tup[2]))\n",
    "\n",
    "estimators = np.array(estimators)\n",
    "means = np.array(means)\n",
    "stds = np.array(stds)\n",
    "\n",
    "plt.plot(estimators,means,markersize=5,marker='o',color='blue')\n",
    "plt.fill_between(estimators,means+stds,means-stds,linestyle='--',color='blue',alpha=.15)\n",
    "plt.xlabel(\"Learning rate\")\n",
    "plt.ylabel(\"Accuracy\")\n",
    "plt.title(\"Grid search of learning rate for AdaBoost\")\n",
    "plt.grid(1)\n",
    "plt.xlim([0.0,2.6])\n",
    "plt.savefig(\"plots/gsAdaLearningRate.png\")"
   ]
  },
  {
   "cell_type": "code",
   "execution_count": 239,
   "metadata": {
    "collapsed": false
   },
   "outputs": [
    {
     "name": "stdout",
     "output_type": "stream",
     "text": [
      "0.85780952381\n",
      "{'learning_rate': 1.2000000000000002}\n"
     ]
    }
   ],
   "source": [
    "print gs.best_score_\n",
    "print gs.best_params_"
   ]
  },
  {
   "cell_type": "markdown",
   "metadata": {
    "collapsed": true
   },
   "source": [
    "<h1> End of notebook</h1>"
   ]
  },
  {
   "cell_type": "code",
   "execution_count": 185,
   "metadata": {
    "collapsed": false
   },
   "outputs": [],
   "source": [
    "# pairs of features with missing values\n",
    "pairs = []\n",
    "for col in test.columns:\n",
    "    subpair = []\n",
    "    for col1 in test.columns:\n",
    "        if col1==col:\n",
    "            subpair.append(np.nan)\n",
    "            continue\n",
    "        else:\n",
    "            subpair.append(test.isnull()[[col,col1]].all(axis=1).sum(axis=0))\n",
    "    pairs.append(subpair)\n",
    "pairs = np.array(pairs)"
   ]
  },
  {
   "cell_type": "code",
   "execution_count": 188,
   "metadata": {
    "collapsed": false
   },
   "outputs": [
    {
     "data": {
      "text/html": [
       "<div>\n",
       "<table border=\"1\" class=\"dataframe\">\n",
       "  <thead>\n",
       "    <tr style=\"text-align: right;\">\n",
       "      <th></th>\n",
       "      <th>age</th>\n",
       "      <th>work_class</th>\n",
       "      <th>education</th>\n",
       "      <th>years_education</th>\n",
       "      <th>marital_status</th>\n",
       "      <th>occupation</th>\n",
       "      <th>relationship</th>\n",
       "      <th>race</th>\n",
       "      <th>sex</th>\n",
       "      <th>income_inv</th>\n",
       "      <th>loss_inv</th>\n",
       "      <th>work_hours</th>\n",
       "      <th>country</th>\n",
       "    </tr>\n",
       "  </thead>\n",
       "  <tbody>\n",
       "    <tr>\n",
       "      <th>age</th>\n",
       "      <td>NaN</td>\n",
       "      <td>1723.0</td>\n",
       "      <td>1369.0</td>\n",
       "      <td>1352.0</td>\n",
       "      <td>1330.0</td>\n",
       "      <td>1668.0</td>\n",
       "      <td>1365.0</td>\n",
       "      <td>1370.0</td>\n",
       "      <td>1306.0</td>\n",
       "      <td>1365.0</td>\n",
       "      <td>1346.0</td>\n",
       "      <td>1339.0</td>\n",
       "      <td>1476.0</td>\n",
       "    </tr>\n",
       "    <tr>\n",
       "      <th>work_class</th>\n",
       "      <td>1723.0</td>\n",
       "      <td>NaN</td>\n",
       "      <td>1732.0</td>\n",
       "      <td>1689.0</td>\n",
       "      <td>1731.0</td>\n",
       "      <td>3413.0</td>\n",
       "      <td>1718.0</td>\n",
       "      <td>1716.0</td>\n",
       "      <td>1658.0</td>\n",
       "      <td>1600.0</td>\n",
       "      <td>1723.0</td>\n",
       "      <td>1731.0</td>\n",
       "      <td>1793.0</td>\n",
       "    </tr>\n",
       "    <tr>\n",
       "      <th>education</th>\n",
       "      <td>1369.0</td>\n",
       "      <td>1732.0</td>\n",
       "      <td>NaN</td>\n",
       "      <td>1314.0</td>\n",
       "      <td>1339.0</td>\n",
       "      <td>1660.0</td>\n",
       "      <td>1307.0</td>\n",
       "      <td>1366.0</td>\n",
       "      <td>1300.0</td>\n",
       "      <td>1328.0</td>\n",
       "      <td>1316.0</td>\n",
       "      <td>1345.0</td>\n",
       "      <td>1433.0</td>\n",
       "    </tr>\n",
       "    <tr>\n",
       "      <th>years_education</th>\n",
       "      <td>1352.0</td>\n",
       "      <td>1689.0</td>\n",
       "      <td>1314.0</td>\n",
       "      <td>NaN</td>\n",
       "      <td>1342.0</td>\n",
       "      <td>1602.0</td>\n",
       "      <td>1383.0</td>\n",
       "      <td>1327.0</td>\n",
       "      <td>1329.0</td>\n",
       "      <td>1347.0</td>\n",
       "      <td>1320.0</td>\n",
       "      <td>1356.0</td>\n",
       "      <td>1489.0</td>\n",
       "    </tr>\n",
       "    <tr>\n",
       "      <th>marital_status</th>\n",
       "      <td>1330.0</td>\n",
       "      <td>1731.0</td>\n",
       "      <td>1339.0</td>\n",
       "      <td>1342.0</td>\n",
       "      <td>NaN</td>\n",
       "      <td>1681.0</td>\n",
       "      <td>1384.0</td>\n",
       "      <td>1467.0</td>\n",
       "      <td>1357.0</td>\n",
       "      <td>1401.0</td>\n",
       "      <td>1370.0</td>\n",
       "      <td>1343.0</td>\n",
       "      <td>1435.0</td>\n",
       "    </tr>\n",
       "    <tr>\n",
       "      <th>occupation</th>\n",
       "      <td>1668.0</td>\n",
       "      <td>3413.0</td>\n",
       "      <td>1660.0</td>\n",
       "      <td>1602.0</td>\n",
       "      <td>1681.0</td>\n",
       "      <td>NaN</td>\n",
       "      <td>1731.0</td>\n",
       "      <td>1730.0</td>\n",
       "      <td>1677.0</td>\n",
       "      <td>1658.0</td>\n",
       "      <td>1714.0</td>\n",
       "      <td>1675.0</td>\n",
       "      <td>1805.0</td>\n",
       "    </tr>\n",
       "    <tr>\n",
       "      <th>relationship</th>\n",
       "      <td>1365.0</td>\n",
       "      <td>1718.0</td>\n",
       "      <td>1307.0</td>\n",
       "      <td>1383.0</td>\n",
       "      <td>1384.0</td>\n",
       "      <td>1731.0</td>\n",
       "      <td>NaN</td>\n",
       "      <td>1398.0</td>\n",
       "      <td>1393.0</td>\n",
       "      <td>1385.0</td>\n",
       "      <td>1363.0</td>\n",
       "      <td>1387.0</td>\n",
       "      <td>1484.0</td>\n",
       "    </tr>\n",
       "    <tr>\n",
       "      <th>race</th>\n",
       "      <td>1370.0</td>\n",
       "      <td>1716.0</td>\n",
       "      <td>1366.0</td>\n",
       "      <td>1327.0</td>\n",
       "      <td>1467.0</td>\n",
       "      <td>1730.0</td>\n",
       "      <td>1398.0</td>\n",
       "      <td>NaN</td>\n",
       "      <td>1360.0</td>\n",
       "      <td>1336.0</td>\n",
       "      <td>1380.0</td>\n",
       "      <td>1351.0</td>\n",
       "      <td>1472.0</td>\n",
       "    </tr>\n",
       "    <tr>\n",
       "      <th>sex</th>\n",
       "      <td>1306.0</td>\n",
       "      <td>1658.0</td>\n",
       "      <td>1300.0</td>\n",
       "      <td>1329.0</td>\n",
       "      <td>1357.0</td>\n",
       "      <td>1677.0</td>\n",
       "      <td>1393.0</td>\n",
       "      <td>1360.0</td>\n",
       "      <td>NaN</td>\n",
       "      <td>1278.0</td>\n",
       "      <td>1323.0</td>\n",
       "      <td>1324.0</td>\n",
       "      <td>1393.0</td>\n",
       "    </tr>\n",
       "    <tr>\n",
       "      <th>income_inv</th>\n",
       "      <td>1365.0</td>\n",
       "      <td>1600.0</td>\n",
       "      <td>1328.0</td>\n",
       "      <td>1347.0</td>\n",
       "      <td>1401.0</td>\n",
       "      <td>1658.0</td>\n",
       "      <td>1385.0</td>\n",
       "      <td>1336.0</td>\n",
       "      <td>1278.0</td>\n",
       "      <td>NaN</td>\n",
       "      <td>1293.0</td>\n",
       "      <td>1355.0</td>\n",
       "      <td>1467.0</td>\n",
       "    </tr>\n",
       "    <tr>\n",
       "      <th>loss_inv</th>\n",
       "      <td>1346.0</td>\n",
       "      <td>1723.0</td>\n",
       "      <td>1316.0</td>\n",
       "      <td>1320.0</td>\n",
       "      <td>1370.0</td>\n",
       "      <td>1714.0</td>\n",
       "      <td>1363.0</td>\n",
       "      <td>1380.0</td>\n",
       "      <td>1323.0</td>\n",
       "      <td>1293.0</td>\n",
       "      <td>NaN</td>\n",
       "      <td>1366.0</td>\n",
       "      <td>1416.0</td>\n",
       "    </tr>\n",
       "    <tr>\n",
       "      <th>work_hours</th>\n",
       "      <td>1339.0</td>\n",
       "      <td>1731.0</td>\n",
       "      <td>1345.0</td>\n",
       "      <td>1356.0</td>\n",
       "      <td>1343.0</td>\n",
       "      <td>1675.0</td>\n",
       "      <td>1387.0</td>\n",
       "      <td>1351.0</td>\n",
       "      <td>1324.0</td>\n",
       "      <td>1355.0</td>\n",
       "      <td>1366.0</td>\n",
       "      <td>NaN</td>\n",
       "      <td>1474.0</td>\n",
       "    </tr>\n",
       "    <tr>\n",
       "      <th>country</th>\n",
       "      <td>1476.0</td>\n",
       "      <td>1793.0</td>\n",
       "      <td>1433.0</td>\n",
       "      <td>1489.0</td>\n",
       "      <td>1435.0</td>\n",
       "      <td>1805.0</td>\n",
       "      <td>1484.0</td>\n",
       "      <td>1472.0</td>\n",
       "      <td>1393.0</td>\n",
       "      <td>1467.0</td>\n",
       "      <td>1416.0</td>\n",
       "      <td>1474.0</td>\n",
       "      <td>NaN</td>\n",
       "    </tr>\n",
       "  </tbody>\n",
       "</table>\n",
       "</div>"
      ],
      "text/plain": [
       "                    age  work_class  education  years_education  \\\n",
       "age                 NaN      1723.0     1369.0           1352.0   \n",
       "work_class       1723.0         NaN     1732.0           1689.0   \n",
       "education        1369.0      1732.0        NaN           1314.0   \n",
       "years_education  1352.0      1689.0     1314.0              NaN   \n",
       "marital_status   1330.0      1731.0     1339.0           1342.0   \n",
       "occupation       1668.0      3413.0     1660.0           1602.0   \n",
       "relationship     1365.0      1718.0     1307.0           1383.0   \n",
       "race             1370.0      1716.0     1366.0           1327.0   \n",
       "sex              1306.0      1658.0     1300.0           1329.0   \n",
       "income_inv       1365.0      1600.0     1328.0           1347.0   \n",
       "loss_inv         1346.0      1723.0     1316.0           1320.0   \n",
       "work_hours       1339.0      1731.0     1345.0           1356.0   \n",
       "country          1476.0      1793.0     1433.0           1489.0   \n",
       "\n",
       "                 marital_status  occupation  relationship    race     sex  \\\n",
       "age                      1330.0      1668.0        1365.0  1370.0  1306.0   \n",
       "work_class               1731.0      3413.0        1718.0  1716.0  1658.0   \n",
       "education                1339.0      1660.0        1307.0  1366.0  1300.0   \n",
       "years_education          1342.0      1602.0        1383.0  1327.0  1329.0   \n",
       "marital_status              NaN      1681.0        1384.0  1467.0  1357.0   \n",
       "occupation               1681.0         NaN        1731.0  1730.0  1677.0   \n",
       "relationship             1384.0      1731.0           NaN  1398.0  1393.0   \n",
       "race                     1467.0      1730.0        1398.0     NaN  1360.0   \n",
       "sex                      1357.0      1677.0        1393.0  1360.0     NaN   \n",
       "income_inv               1401.0      1658.0        1385.0  1336.0  1278.0   \n",
       "loss_inv                 1370.0      1714.0        1363.0  1380.0  1323.0   \n",
       "work_hours               1343.0      1675.0        1387.0  1351.0  1324.0   \n",
       "country                  1435.0      1805.0        1484.0  1472.0  1393.0   \n",
       "\n",
       "                 income_inv  loss_inv  work_hours  country  \n",
       "age                  1365.0    1346.0      1339.0   1476.0  \n",
       "work_class           1600.0    1723.0      1731.0   1793.0  \n",
       "education            1328.0    1316.0      1345.0   1433.0  \n",
       "years_education      1347.0    1320.0      1356.0   1489.0  \n",
       "marital_status       1401.0    1370.0      1343.0   1435.0  \n",
       "occupation           1658.0    1714.0      1675.0   1805.0  \n",
       "relationship         1385.0    1363.0      1387.0   1484.0  \n",
       "race                 1336.0    1380.0      1351.0   1472.0  \n",
       "sex                  1278.0    1323.0      1324.0   1393.0  \n",
       "income_inv              NaN    1293.0      1355.0   1467.0  \n",
       "loss_inv             1293.0       NaN      1366.0   1416.0  \n",
       "work_hours           1355.0    1366.0         NaN   1474.0  \n",
       "country              1467.0    1416.0      1474.0      NaN  "
      ]
     },
     "execution_count": 188,
     "metadata": {},
     "output_type": "execute_result"
    }
   ],
   "source": [
    "pd.DataFrame(pairs,columns=test.columns,index=test.columns)"
   ]
  }
 ],
 "metadata": {
  "kernelspec": {
   "display_name": "Python 2",
   "language": "python",
   "name": "python2"
  },
  "language_info": {
   "codemirror_mode": {
    "name": "ipython",
    "version": 2
   },
   "file_extension": ".py",
   "mimetype": "text/x-python",
   "name": "python",
   "nbconvert_exporter": "python",
   "pygments_lexer": "ipython2",
   "version": "2.7.10"
  }
 },
 "nbformat": 4,
 "nbformat_minor": 0
}
