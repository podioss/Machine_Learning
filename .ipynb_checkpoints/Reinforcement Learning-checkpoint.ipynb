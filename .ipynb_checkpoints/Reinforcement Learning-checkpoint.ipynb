{
 "cells": [
  {
   "cell_type": "markdown",
   "metadata": {},
   "source": [
    "<center><h1> Reinforcement Learning - Machine Learning 2015-2016</h1></center>\n",
    "<a id='top'></a>\n",
    "<div style=\"margin-top:1cm\">Author: Afentoulidis Gregory</div>\n",
    "<div>Student ID : 4521862</div>\n",
    "\n",
    "<h3>Table of contents</h3>\n",
    "<ul>\n",
    "    <li><a href='#exB'>Exercise 2</a></li>\n",
    "    <li><a href='#exC'>Exercise 3</a></li>\n",
    "    <li><a href='#exD'>Exercise 4</a></li>\n",
    "    <li><a href='#exE'>Exercise 5</a></li>\n",
    "    <li><a href='#exF'>Exercise 6</a></li>\n",
    "</ul>"
   ]
  },
  {
   "cell_type": "code",
   "execution_count": 138,
   "metadata": {
    "collapsed": false
   },
   "outputs": [],
   "source": [
    "% matplotlib inline\n",
    "from __future__ import division\n",
    "import numpy as np\n",
    "import math\n",
    "from scipy.spatial.distance import euclidean\n",
    "import matplotlib.pyplot as plt\n",
    "import copy"
   ]
  },
  {
   "cell_type": "markdown",
   "metadata": {},
   "source": [
    "<a id=\"exB\"></a>\n",
    "<center> <h2> Exercise 2</h2></center>\n",
    "<div style=\"text-align:right\">\n",
    "<a href=\"#top\">[Back to top]</a>\n",
    "</div>"
   ]
  },
  {
   "cell_type": "markdown",
   "metadata": {},
   "source": [
    "Implementation of the Q-iteration algorithm in python for the cleaning robot environment"
   ]
  },
  {
   "cell_type": "code",
   "execution_count": 38,
   "metadata": {
    "collapsed": false
   },
   "outputs": [],
   "source": [
    "def getReward(curpos,futpos):\n",
    "    if futpos==1 and not curpos==1:\n",
    "        return 1\n",
    "    elif futpos==6 and not curpos==6:\n",
    "        return 5\n",
    "    else:\n",
    "        return 0\n",
    "\n",
    "def actionResult(curpos,action):\n",
    "    if curpos==1 or curpos==6:\n",
    "        return curpos\n",
    "    if action==-1 or action==1:\n",
    "        return curpos+action\n",
    "    else:\n",
    "        raise ValueError(\"action argument must be either left(-1) or right(+1)\")\n"
   ]
  },
  {
   "cell_type": "code",
   "execution_count": 44,
   "metadata": {
    "collapsed": true
   },
   "outputs": [
    {
     "name": "stdout",
     "output_type": "stream",
     "text": [
      "Iteration 1:\n",
      "[[ 0.  0.]\n",
      " [ 1.  0.]\n",
      " [ 0.  0.]\n",
      " [ 0.  0.]\n",
      " [ 0.  5.]\n",
      " [ 0.  0.]]\n",
      "Iteration 2:\n",
      "[[ 0.  0.]\n",
      " [ 1.  0.]\n",
      " [ 1.  0.]\n",
      " [ 0.  5.]\n",
      " [ 0.  5.]\n",
      " [ 0.  0.]]\n",
      "Iteration 3:\n",
      "[[ 0.  0.]\n",
      " [ 1.  1.]\n",
      " [ 1.  5.]\n",
      " [ 1.  5.]\n",
      " [ 5.  5.]\n",
      " [ 0.  0.]]\n",
      "Iteration 4:\n",
      "[[ 0.  0.]\n",
      " [ 1.  5.]\n",
      " [ 1.  5.]\n",
      " [ 5.  5.]\n",
      " [ 5.  5.]\n",
      " [ 0.  0.]]\n",
      "Iteration 5:\n",
      "[[ 0.  0.]\n",
      " [ 1.  5.]\n",
      " [ 5.  5.]\n",
      " [ 5.  5.]\n",
      " [ 5.  5.]\n",
      " [ 0.  0.]]\n",
      "Iteration 6:\n",
      "[[ 0.  0.]\n",
      " [ 1.  5.]\n",
      " [ 5.  5.]\n",
      " [ 5.  5.]\n",
      " [ 5.  5.]\n",
      " [ 0.  0.]]\n"
     ]
    }
   ],
   "source": [
    "# The Q-iteration algorithm\n",
    "gamma = 1\n",
    "qvalues = np.zeros((6,2))  # a 2d array holding the q state action values of the problem\n",
    "\n",
    "#helper mappings from environment to indeces\n",
    "actToind = {-1:0,1:1}\n",
    "stateToind = {1:0,2:1,3:2,4:3,5:4,6:5}\n",
    "it=1\n",
    "# iterate until convergence\n",
    "while True:\n",
    "    newqvalues = np.zeros((6,2))\n",
    "    \n",
    "    # iterate through all states and all actions\n",
    "    for state in range(2,6):\n",
    "        for action in [-1,1]:\n",
    "            nextpos = actionResult(state,action)\n",
    "            reward = getReward(state,nextpos)\n",
    "            #print \"Action: %d , Next position : %d , Reward: %d\"%(action,nextpos,reward)\n",
    "            newqvalues[stateToind[state],actToind[action]] = reward+(gamma*max(qvalues[stateToind[nextpos]]))\n",
    "    print \"Iteration %d:\"%it\n",
    "    print newqvalues\n",
    "    it+=1\n",
    "    if np.array_equal(newqvalues,qvalues):\n",
    "        break\n",
    "    else:\n",
    "        qvalues = newqvalues\n"
   ]
  },
  {
   "cell_type": "code",
   "execution_count": null,
   "metadata": {
    "collapsed": true
   },
   "outputs": [],
   "source": []
  },
  {
   "cell_type": "markdown",
   "metadata": {},
   "source": [
    "<a id=\"exC\"></a>\n",
    "<center> <h2> Exercise 3</h2></center>\n",
    "<div style=\"text-align:right\">\n",
    "<a href=\"#top\">[Back to top]</a>\n",
    "</div>"
   ]
  },
  {
   "cell_type": "markdown",
   "metadata": {},
   "source": [
    "<p>The results of the Q-iteration algorithm for various values of the discount factor, using the code from the previous exercise</p>"
   ]
  },
  {
   "cell_type": "markdown",
   "metadata": {
    "collapsed": true
   },
   "source": [
    "<p><b>Gamma = 0.5</b> </p>\n",
    "\n",
    "Iteration 1:\n",
    "[[ 0.  0.]\n",
    " [ 1.  0.]\n",
    " [ 0.  0.]\n",
    " [ 0.  0.]\n",
    " [ 0.  5.]\n",
    " [ 0.  0.]]\n",
    " \n",
    "Iteration 2:\n",
    "[[ 0.   0. ]\n",
    " [ 1.   0. ]\n",
    " [ 0.5  0. ]\n",
    " [ 0.   2.5]\n",
    " [ 0.   5. ]\n",
    " [ 0.   0. ]]\n",
    " \n",
    "Iteration 3:\n",
    "[[ 0.    0.  ]\n",
    " [ 1.    0.25]\n",
    " [ 0.5   1.25]\n",
    " [ 0.25  2.5 ]\n",
    " [ 1.25  5.  ]\n",
    " [ 0.    0.  ]]\n",
    "\n",
    "Iteration 4:\n",
    "[[ 0.     0.   ]\n",
    " [ 1.     0.625]\n",
    " [ 0.5    1.25 ]\n",
    " [ 0.625  2.5  ]\n",
    " [ 1.25   5.   ]\n",
    " [ 0.     0.   ]]\n",
    "\n",
    "Iteration 5:\n",
    "[[ 0.     0.   ]\n",
    " [ 1.     0.625]\n",
    " [ 0.5    1.25 ]\n",
    " [ 0.625  2.5  ]\n",
    " [ 1.25   5.   ]\n",
    " [ 0.     0.   ]]\n",
    " \n",
    " \n",
    " <p><b>Gamma = 0</b> </p>\n",
    " \n",
    " Iteration 1:\n",
    "[[ 0.  0.]\n",
    " [ 1.  0.]\n",
    " [ 0.  0.]\n",
    " [ 0.  0.]\n",
    " [ 0.  5.]\n",
    " [ 0.  0.]]\n",
    " \n",
    "Iteration 2:\n",
    "[[ 0.  0.]\n",
    " [ 1.  0.]\n",
    " [ 0.  0.]\n",
    " [ 0.  0.]\n",
    " [ 0.  5.]\n",
    " [ 0.  0.]]\n",
    " \n",
    " <p><b>Gamma = 0.1</b> </p>\n",
    " \n",
    " Iteration 1:\n",
    "[[ 0.  0.]\n",
    " [ 1.  0.]\n",
    " [ 0.  0.]\n",
    " [ 0.  0.]\n",
    " [ 0.  5.]\n",
    " [ 0.  0.]]\n",
    " \n",
    "Iteration 2:\n",
    "[[ 0.   0. ]\n",
    " [ 1.   0. ]\n",
    " [ 0.1  0. ]\n",
    " [ 0.   0.5]\n",
    " [ 0.   5. ]\n",
    " [ 0.   0. ]]\n",
    "\n",
    "Iteration 3:\n",
    "[[ 0.    0.  ]\n",
    " [ 1.    0.01]\n",
    " [ 0.1   0.05]\n",
    " [ 0.01  0.5 ]\n",
    " [ 0.05  5.  ]\n",
    " [ 0.    0.  ]]\n",
    "\n",
    "Iteration 4:\n",
    "[[ 0.    0.  ]\n",
    " [ 1.    0.01]\n",
    " [ 0.1   0.05]\n",
    " [ 0.01  0.5 ]\n",
    " [ 0.05  5.  ]\n",
    " [ 0.    0.  ]]\n",
    " \n",
    " <p><b>Gamma = 0.9</b> </p>\n",
    " \n",
    "Iteration 1:\n",
    "[[ 0.  0.]\n",
    " [ 1.  0.]\n",
    " [ 0.  0.]\n",
    " [ 0.  0.]\n",
    " [ 0.  5.]\n",
    " [ 0.  0.]]\n",
    "\n",
    "Iteration 2:\n",
    "[[ 0.   0. ]\n",
    " [ 1.   0. ]\n",
    " [ 0.9  0. ]\n",
    " [ 0.   4.5]\n",
    " [ 0.   5. ]\n",
    " [ 0.   0. ]]\n",
    "\n",
    "Iteration 3:\n",
    "[[ 0.    0.  ]\n",
    " [ 1.    0.81]\n",
    " [ 0.9   4.05]\n",
    " [ 0.81  4.5 ]\n",
    " [ 4.05  5.  ]\n",
    " [ 0.    0.  ]]\n",
    "\n",
    "Iteration 4:\n",
    "[[ 0.     0.   ]\n",
    " [ 1.     3.645]\n",
    " [ 0.9    4.05 ]\n",
    " [ 3.645  4.5  ]\n",
    " [ 4.05   5.   ]\n",
    " [ 0.     0.   ]]\n",
    "\n",
    "Iteration 5:\n",
    "[[ 0.      0.    ]\n",
    " [ 1.      3.645 ]\n",
    " [ 3.2805  4.05  ]\n",
    " [ 3.645   4.5   ]\n",
    " [ 4.05    5.    ]\n",
    " [ 0.      0.    ]]\n",
    "\n",
    "Iteration 6:\n",
    "[[ 0.      0.    ]\n",
    " [ 1.      3.645 ]\n",
    " [ 3.2805  4.05  ]\n",
    " [ 3.645   4.5   ]\n",
    " [ 4.05    5.    ]\n",
    " [ 0.      0.    ]]\n",
    " \n",
    " <p><b>Gamma = 1</b> </p>\n",
    " \n",
    "Iteration 1:\n",
    "[[ 0.  0.]\n",
    " [ 1.  0.]\n",
    " [ 0.  0.]\n",
    " [ 0.  0.]\n",
    " [ 0.  5.]\n",
    " [ 0.  0.]]\n",
    "\n",
    "Iteration 2:\n",
    "[[ 0.  0.]\n",
    " [ 1.  0.]\n",
    " [ 1.  0.]\n",
    " [ 0.  5.]\n",
    " [ 0.  5.]\n",
    " [ 0.  0.]]\n",
    "\n",
    "Iteration 3:\n",
    "[[ 0.  0.]\n",
    " [ 1.  1.]\n",
    " [ 1.  5.]\n",
    " [ 1.  5.]\n",
    " [ 5.  5.]\n",
    " [ 0.  0.]]\n",
    "\n",
    "Iteration 4:\n",
    "[[ 0.  0.]\n",
    " [ 1.  5.]\n",
    " [ 1.  5.]\n",
    " [ 5.  5.]\n",
    " [ 5.  5.]\n",
    " [ 0.  0.]]\n",
    "\n",
    "Iteration 5:\n",
    "[[ 0.  0.]\n",
    " [ 1.  5.]\n",
    " [ 5.  5.]\n",
    " [ 5.  5.]\n",
    " [ 5.  5.]\n",
    " [ 0.  0.]]\n",
    "\n",
    "Iteration 6:\n",
    "[[ 0.  0.]\n",
    " [ 1.  5.]\n",
    " [ 5.  5.]\n",
    " [ 5.  5.]\n",
    " [ 5.  5.]\n",
    " [ 0.  0.]]"
   ]
  },
  {
   "cell_type": "code",
   "execution_count": null,
   "metadata": {
    "collapsed": true
   },
   "outputs": [],
   "source": []
  },
  {
   "cell_type": "markdown",
   "metadata": {},
   "source": [
    "<a id=\"exD\"></a>\n",
    "<center> <h2> Exercise 4</h2></center>\n",
    "<div style=\"text-align:right\">\n",
    "<a href=\"#top\">[Back to top]</a>\n",
    "</div>"
   ]
  },
  {
   "cell_type": "markdown",
   "metadata": {
    "collapsed": true
   },
   "source": [
    "Implementation of Q-learning algorithm"
   ]
  },
  {
   "cell_type": "code",
   "execution_count": 142,
   "metadata": {
    "collapsed": true
   },
   "outputs": [],
   "source": [
    "actToind = {-1:0,1:1}\n",
    "indToAct = {0:-1,1:1}\n",
    "stateToind = {1:0,2:1,3:2,4:3,5:4,6:5}\n",
    "terminalStates = [1,6]\n",
    "\n",
    "optimal = np.array([[.0,.0],[1.0,0.625],[0.5,1.25],[0.625,2.5],[1.25,5.0],[.0,.0]])\n",
    "gamma = 0.5\n",
    "\n",
    "\n",
    "\n",
    "def qlearning(maxEpisodes,lr,e):\n",
    "    qvals = np.zeros((6,2))\n",
    "    episodeVals = []\n",
    "    convergence = False\n",
    "    episode=1\n",
    "    while episode<=maxEpisodes and not convergence:\n",
    "        #begin an episode by randomly choosing a state\n",
    "        curState = np.random.choice([2,3,4,5])\n",
    "        #moves=0\n",
    "        while True:\n",
    "            # the action defined by the policy\n",
    "            policyAction = indToAct[np.argmax(qvals[stateToind[curState]])]\n",
    "            oppAction = -1*policyAction\n",
    "            #print policyAction,oppAction\n",
    "            # e-greedy choice with assigned probabilities e and 1-e\n",
    "            action = np.random.choice([policyAction,oppAction],p=[1-e,e])\n",
    "            nextState = actionResult(curState,action)\n",
    "            #print curState,nextState\n",
    "            reward = getReward(curState,nextState)\n",
    "            temp = qvals[stateToind[curState],actToind[action]]\n",
    "            qvals[stateToind[curState],actToind[action]]= temp+lr*(reward+(gamma*max(qvals[stateToind[nextState]]))-temp)\n",
    "            #print qvals\n",
    "            if (np.array_equal(qvals,optimal)):\n",
    "                episodeVals.append(copy.copy(qvals))\n",
    "                convergence = True\n",
    "                print \"Q-learning has converged to optimal values at episode : %d\"%episode\n",
    "                break\n",
    "            elif nextState in terminalStates:\n",
    "                #copy the values so as not to rewrite the whole structure with the latest data\n",
    "                episodeVals.append(copy.copy(qvals))\n",
    "                #print \"End of episode %d, with moves %d\"%(episode,moves)\n",
    "                #print qvals\n",
    "                #print \"i am breaking\"\n",
    "                episode+=1\n",
    "                break\n",
    "            else:\n",
    "                #moves+=1\n",
    "                curState = nextState\n",
    "    return episodeVals"
   ]
  },
  {
   "cell_type": "code",
   "execution_count": 143,
   "metadata": {
    "collapsed": false
   },
   "outputs": [
    {
     "name": "stdout",
     "output_type": "stream",
     "text": [
      "Q-learning has converged to optimal values at episode : 1638\n",
      "Q-learning has converged to optimal values at episode : 1084\n",
      "Q-learning has converged to optimal values at episode : 773\n"
     ]
    }
   ],
   "source": [
    "# q-learning for fixed e and various learning rates\n",
    "\n",
    "q02 = qlearning(10000,0.2,0.1)\n",
    "q05 = qlearning(10000,0.5,0.1)\n",
    "q07 = qlearning(10000,0.7,0.1)\n",
    "q09 = qlearning(10000,0.9,0.1)"
   ]
  },
  {
   "cell_type": "code",
   "execution_count": 161,
   "metadata": {
    "collapsed": false
   },
   "outputs": [],
   "source": [
    "d02 = map(lambda mat : euclidean(mat.flatten(),optimal.flatten()),q02)\n",
    "d05 = map(lambda mat : euclidean(mat.flatten(),optimal.flatten()),q05)\n",
    "d07 = map(lambda mat : euclidean(mat.flatten(),optimal.flatten()),q07)\n",
    "d09 = map(lambda mat : euclidean(mat.flatten(),optimal.flatten()),q09)"
   ]
  },
  {
   "cell_type": "code",
   "execution_count": 155,
   "metadata": {
    "collapsed": false
   },
   "outputs": [],
   "source": [
    "settings = {\"style\":\"italic\",\"color\":\"navy\"}\n",
    "tsettings = {\"color\":\"navy\"}\n",
    "xlab = \"Episodes\"\n",
    "ylab = \"2-norm\"\n",
    "title = \"2-norm between optimal and q-learning values for a=\""
   ]
  },
  {
   "cell_type": "code",
   "execution_count": 166,
   "metadata": {
    "collapsed": false
   },
   "outputs": [
    {
     "data": {
      "image/png": "[encoded data removed]",
      "text/plain": [
       "<matplotlib.figure.Figure at 0x7f489e4b08d0>"
      ]
     },
     "metadata": {},
     "output_type": "display_data"
    }
   ],
   "source": [
    "# Plot of for e=0.1 and lr=0.2 for 500 episodes (convergence over 10000 episodes)\n",
    "plt.plot(range(1,len(d02)+1-9500),d02[0:500])\n",
    "plt.xlabel(xlab,**settings)\n",
    "plt.ylabel(ylab,**settings)\n",
    "plt.title(title+\"0.2\",**tsettings)\n",
    "plt.grid(True)\n",
    "plt.savefig(\"lr02.png\")"
   ]
  },
  {
   "cell_type": "code",
   "execution_count": 167,
   "metadata": {
    "collapsed": false
   },
   "outputs": [
    {
     "data": {
      "image/png": "[encoded data removed]",
      "text/plain": [
       "<matplotlib.figure.Figure at 0x7f489e2b5750>"
      ]
     },
     "metadata": {},
     "output_type": "display_data"
    }
   ],
   "source": [
    "# Plot of for e=0.1 and lr=0.5 for 500 episodes (convergence 1638 episodes)\n",
    "plt.plot(range(1,501),d05[0:500])\n",
    "plt.xlabel(xlab,**settings)\n",
    "plt.ylabel(ylab,**settings)\n",
    "plt.title(title+\"0.5\",**tsettings)\n",
    "plt.grid(True)\n",
    "plt.savefig(\"lr05.png\")"
   ]
  },
  {
   "cell_type": "code",
   "execution_count": 168,
   "metadata": {
    "collapsed": false
   },
   "outputs": [
    {
     "data": {
      "image/png": "[encoded data removed]",
      "text/plain": [
       "<matplotlib.figure.Figure at 0x7f489e3c8ad0>"
      ]
     },
     "metadata": {},
     "output_type": "display_data"
    }
   ],
   "source": [
    "# Plot of for e=0.1 and lr=0.7 for 500 episodes (convergence 1084 episodes)\n",
    "plt.plot(range(1,501),d07[0:500])\n",
    "plt.xlabel(xlab,**settings)\n",
    "plt.ylabel(ylab,**settings)\n",
    "plt.title(title+\"0.7\",**tsettings)\n",
    "plt.grid(True)\n",
    "plt.savefig(\"lr07.png\")"
   ]
  },
  {
   "cell_type": "code",
   "execution_count": 169,
   "metadata": {
    "collapsed": false
   },
   "outputs": [
    {
     "data": {
      "image/png": "[encoded data removed]",
      "text/plain": [
       "<matplotlib.figure.Figure at 0x7f489e28c2d0>"
      ]
     },
     "metadata": {},
     "output_type": "display_data"
    }
   ],
   "source": [
    "# Plot of for e=0.1 and lr=0.9 for 500 episodes (convergence 773)\n",
    "plt.plot(range(1,501),d09[0:500])\n",
    "plt.xlabel(xlab,**settings)\n",
    "plt.ylabel(ylab,**settings)\n",
    "plt.title(title+\"0.9\",**tsettings)\n",
    "plt.grid(True)\n",
    "plt.savefig(\"lr09.png\")"
   ]
  },
  {
   "cell_type": "code",
   "execution_count": 177,
   "metadata": {
    "collapsed": false
   },
   "outputs": [
    {
     "name": "stdout",
     "output_type": "stream",
     "text": [
      "Q-learning has converged to optimal values at episode : 1061\n",
      "Q-learning has converged to optimal values at episode : 265\n",
      "Q-learning has converged to optimal values at episode : 75\n",
      "Q-learning has converged to optimal values at episode : 997\n"
     ]
    }
   ],
   "source": [
    "# Q-learning for fixed learning rate = 0.7 and various values of e\n",
    "\n",
    "q02 = qlearning(10000,0.7,0.1)\n",
    "q05 = qlearning(10000,0.7,0.3)\n",
    "q07 = qlearning(10000,0.7,0.6)\n",
    "q09 = qlearning(10000,0.7,0.9)"
   ]
  },
  {
   "cell_type": "code",
   "execution_count": 178,
   "metadata": {
    "collapsed": true
   },
   "outputs": [],
   "source": [
    "d02 = map(lambda mat : euclidean(mat.flatten(),optimal.flatten()),q02)\n",
    "d05 = map(lambda mat : euclidean(mat.flatten(),optimal.flatten()),q05)\n",
    "d07 = map(lambda mat : euclidean(mat.flatten(),optimal.flatten()),q07)\n",
    "d09 = map(lambda mat : euclidean(mat.flatten(),optimal.flatten()),q09)"
   ]
  },
  {
   "cell_type": "code",
   "execution_count": 180,
   "metadata": {
    "collapsed": false
   },
   "outputs": [
    {
     "data": {
      "image/png": "[encoded data removed]",
      "text/plain": [
       "<matplotlib.figure.Figure at 0x7f489ea86610>"
      ]
     },
     "metadata": {},
     "output_type": "display_data"
    }
   ],
   "source": [
    "etitle = \"2-norm between optimal and q-learning values for e=\"\n",
    "# Plot of for e=0.1 and lr=0.7 for 500 episodes (convergence 1061 episodes)\n",
    "plt.plot(range(1,501),d02[0:500])\n",
    "plt.xlabel(xlab,**settings)\n",
    "plt.ylabel(ylab,**settings)\n",
    "plt.title(etitle+\"0.1\",**tsettings)\n",
    "plt.grid(True)\n",
    "plt.savefig(\"e01.png\")"
   ]
  },
  {
   "cell_type": "code",
   "execution_count": 185,
   "metadata": {
    "collapsed": false
   },
   "outputs": [
    {
     "data": {
      "image/png": "[encoded data removed]",
      "text/plain": [
       "<matplotlib.figure.Figure at 0x7f489e705590>"
      ]
     },
     "metadata": {},
     "output_type": "display_data"
    }
   ],
   "source": [
    "# Plot of for e=0.3 and lr=0.7 for 500 episodes (convergence 265 episodes)\n",
    "plt.plot(range(1,len(d05)+1),d05)\n",
    "plt.xlabel(xlab,**settings)\n",
    "plt.ylabel(ylab,**settings)\n",
    "plt.title(etitle+\"0.3\",**tsettings)\n",
    "plt.grid(True)\n",
    "plt.savefig(\"e03.png\")"
   ]
  },
  {
   "cell_type": "code",
   "execution_count": 186,
   "metadata": {
    "collapsed": false
   },
   "outputs": [
    {
     "data": {
      "image/png": "[encoded data removed]",
      "text/plain": [
       "<matplotlib.figure.Figure at 0x7f489e75be10>"
      ]
     },
     "metadata": {},
     "output_type": "display_data"
    }
   ],
   "source": [
    "# Plot of for e=0.6 and lr=0.7 for 500 episodes (convergence 75 episodes)\n",
    "plt.plot(range(1,len(d07)+1),d07)\n",
    "plt.xlabel(xlab,**settings)\n",
    "plt.ylabel(ylab,**settings)\n",
    "plt.title(etitle+\"0.6\",**tsettings)\n",
    "plt.grid(True)\n",
    "plt.savefig(\"e06.png\")"
   ]
  },
  {
   "cell_type": "code",
   "execution_count": 187,
   "metadata": {
    "collapsed": false
   },
   "outputs": [
    {
     "data": {
      "image/png": "[encoded data removed]",
      "text/plain": [
       "<matplotlib.figure.Figure at 0x7f489e6ddf50>"
      ]
     },
     "metadata": {},
     "output_type": "display_data"
    }
   ],
   "source": [
    "# Plot of for e=0.9 and lr=0.7 for 500 episodes (convergence 997 episodes)\n",
    "plt.plot(range(1,len(d09)+1),d09)\n",
    "plt.xlabel(xlab,**settings)\n",
    "plt.ylabel(ylab,**settings)\n",
    "plt.title(etitle+\"0.9\",**tsettings)\n",
    "plt.grid(True)\n",
    "plt.savefig(\"e09.png\")"
   ]
  },
  {
   "cell_type": "markdown",
   "metadata": {},
   "source": [
    "<a id=\"exE\"></a>\n",
    "<center> <h2> Exercise 5</h2></center>\n",
    "<div style=\"text-align:right\">\n",
    "<a href=\"#top\">[Back to top]</a>\n",
    "</div>"
   ]
  },
  {
   "cell_type": "markdown",
   "metadata": {
    "collapsed": true
   },
   "source": [
    "Experiments with non deterministic environment"
   ]
  },
  {
   "cell_type": "code",
   "execution_count": 188,
   "metadata": {
    "collapsed": true
   },
   "outputs": [],
   "source": [
    "def randomActionResult(curpos,action):\n",
    "    if curpos==1 or curpos==6:\n",
    "        return curpos\n",
    "    if action==-1 or action==1:\n",
    "        detPos = curpos+action\n",
    "        return np.random.choice([detPos,curpos],p=[0.7,0.3])\n",
    "    else:\n",
    "        raise ValueError(\"action argument must be either left(-1) or right(+1)\")"
   ]
  },
  {
   "cell_type": "code",
   "execution_count": 214,
   "metadata": {
    "collapsed": false
   },
   "outputs": [
    {
     "name": "stdout",
     "output_type": "stream",
     "text": [
      "Iteration 1:\n",
      "[[ 0.   0. ]\n",
      " [ 0.7  0. ]\n",
      " [ 0.   0. ]\n",
      " [ 0.   0. ]\n",
      " [ 0.   3.5]\n",
      " [ 0.   0. ]]\n",
      "Iteration 2:\n",
      "[[ 0.     0.   ]\n",
      " [ 0.805  0.105]\n",
      " [ 0.245  0.   ]\n",
      " [ 0.     1.225]\n",
      " [ 0.525  4.025]\n",
      " [ 0.     0.   ]]\n",
      "Iteration 3:\n",
      "[[ 0.       0.     ]\n",
      " [ 0.82075  0.2065 ]\n",
      " [ 0.3185   0.4655 ]\n",
      " [ 0.2695   1.5925 ]\n",
      " [ 1.0325   4.10375]\n",
      " [ 0.       0.     ]]\n",
      "Iteration 4:\n",
      "[[ 0.         0.       ]\n",
      " [ 0.8231125  0.2860375]\n",
      " [ 0.3570875  0.6272   ]\n",
      " [ 0.4018     1.6751875]\n",
      " [ 1.1729375  4.1155625]\n",
      " [ 0.         0.       ]]\n",
      "Iteration 5:\n",
      "[[ 0.          0.        ]\n",
      " [ 0.82346687  0.34298687]\n",
      " [ 0.38216937  0.68039562]\n",
      " [ 0.47079812  1.691725  ]\n",
      " [ 1.20365     4.11733438]\n",
      " [ 0.          0.        ]]\n",
      "Iteration 6:\n",
      "[[ 0.          0.        ]\n",
      " [ 0.82352003  0.3616585 ]\n",
      " [ 0.39027275  0.69416309]\n",
      " [ 0.49189722  1.69482578]\n",
      " [ 1.20970391  4.11760016]\n",
      " [ 0.          0.        ]]\n",
      "Iteration 7:\n",
      "[[ 0.          0.        ]\n",
      " [ 0.823528    0.36648509]\n",
      " [ 0.39235647  0.69731349]\n",
      " [ 0.49718095  1.69538392]\n",
      " [ 1.21082905  4.11764002]\n",
      " [ 0.          0.        ]]\n",
      "Iteration 8:\n",
      "[[ 0.          0.        ]\n",
      " [ 0.8235292   0.36758892]\n",
      " [ 0.39283182  0.6979814 ]\n",
      " [ 0.49836731  1.6954816 ]\n",
      " [ 1.21103038  4.117646  ]\n",
      " [ 0.          0.        ]]\n",
      "Iteration 9:\n",
      "[[ 0.          0.        ]\n",
      " [ 0.82352938  0.36782287]\n",
      " [ 0.39293243  0.69811577]\n",
      " [ 0.49861573  1.69549834]\n",
      " [ 1.21106546  4.1176469 ]\n",
      " [ 0.          0.        ]]\n",
      "Iteration 10:\n",
      "[[ 0.          0.        ]\n",
      " [ 0.82352941  0.36786993]\n",
      " [ 0.39295265  0.69814178]\n",
      " [ 0.49866527  1.69550117]\n",
      " [ 1.21107145  4.11764704]\n",
      " [ 0.          0.        ]]\n",
      "Iteration 11:\n",
      "[[ 0.          0.        ]\n",
      " [ 0.82352941  0.36787904]\n",
      " [ 0.39295656  0.69814668]\n",
      " [ 0.4986748   1.69550164]\n",
      " [ 1.21107246  4.11764706]\n",
      " [ 0.          0.        ]]\n",
      "Iteration 12:\n",
      "[[ 0.          0.        ]\n",
      " [ 0.82352941  0.36788075]\n",
      " [ 0.3929573   0.69814757]\n",
      " [ 0.49867658  1.69550171]\n",
      " [ 1.21107263  4.11764706]\n",
      " [ 0.          0.        ]]\n",
      "Iteration 13:\n",
      "[[ 0.          0.        ]\n",
      " [ 0.82352941  0.36788106]\n",
      " [ 0.39295743  0.69814774]\n",
      " [ 0.49867691  1.69550173]\n",
      " [ 1.21107266  4.11764706]\n",
      " [ 0.          0.        ]]\n",
      "Iteration 14:\n",
      "[[ 0.          0.        ]\n",
      " [ 0.82352941  0.36788112]\n",
      " [ 0.39295745  0.69814777]\n",
      " [ 0.49867697  1.69550173]\n",
      " [ 1.21107266  4.11764706]\n",
      " [ 0.          0.        ]]\n",
      "Iteration 15:\n",
      "[[ 0.          0.        ]\n",
      " [ 0.82352941  0.36788113]\n",
      " [ 0.39295746  0.69814777]\n",
      " [ 0.49867698  1.69550173]\n",
      " [ 1.21107266  4.11764706]\n",
      " [ 0.          0.        ]]\n",
      "Iteration 16:\n",
      "[[ 0.          0.        ]\n",
      " [ 0.82352941  0.36788113]\n",
      " [ 0.39295746  0.69814777]\n",
      " [ 0.49867698  1.69550173]\n",
      " [ 1.21107266  4.11764706]\n",
      " [ 0.          0.        ]]\n",
      "Iteration 17:\n",
      "[[ 0.          0.        ]\n",
      " [ 0.82352941  0.36788113]\n",
      " [ 0.39295746  0.69814777]\n",
      " [ 0.49867698  1.69550173]\n",
      " [ 1.21107266  4.11764706]\n",
      " [ 0.          0.        ]]\n",
      "Iteration 18:\n",
      "[[ 0.          0.        ]\n",
      " [ 0.82352941  0.36788113]\n",
      " [ 0.39295746  0.69814777]\n",
      " [ 0.49867698  1.69550173]\n",
      " [ 1.21107266  4.11764706]\n",
      " [ 0.          0.        ]]\n",
      "Iteration 19:\n",
      "[[ 0.          0.        ]\n",
      " [ 0.82352941  0.36788113]\n",
      " [ 0.39295746  0.69814777]\n",
      " [ 0.49867698  1.69550173]\n",
      " [ 1.21107266  4.11764706]\n",
      " [ 0.          0.        ]]\n",
      "Iteration 20:\n",
      "[[ 0.          0.        ]\n",
      " [ 0.82352941  0.36788113]\n",
      " [ 0.39295746  0.69814777]\n",
      " [ 0.49867698  1.69550173]\n",
      " [ 1.21107266  4.11764706]\n",
      " [ 0.          0.        ]]\n",
      "Iteration 21:\n",
      "[[ 0.          0.        ]\n",
      " [ 0.82352941  0.36788113]\n",
      " [ 0.39295746  0.69814777]\n",
      " [ 0.49867698  1.69550173]\n",
      " [ 1.21107266  4.11764706]\n",
      " [ 0.          0.        ]]\n",
      "Iteration 22:\n",
      "[[ 0.          0.        ]\n",
      " [ 0.82352941  0.36788113]\n",
      " [ 0.39295746  0.69814777]\n",
      " [ 0.49867698  1.69550173]\n",
      " [ 1.21107266  4.11764706]\n",
      " [ 0.          0.        ]]\n",
      "Iteration 23:\n",
      "[[ 0.          0.        ]\n",
      " [ 0.82352941  0.36788113]\n",
      " [ 0.39295746  0.69814777]\n",
      " [ 0.49867698  1.69550173]\n",
      " [ 1.21107266  4.11764706]\n",
      " [ 0.          0.        ]]\n",
      "Iteration 24:\n",
      "[[ 0.          0.        ]\n",
      " [ 0.82352941  0.36788113]\n",
      " [ 0.39295746  0.69814777]\n",
      " [ 0.49867698  1.69550173]\n",
      " [ 1.21107266  4.11764706]\n",
      " [ 0.          0.        ]]\n",
      "Iteration 25:\n",
      "[[ 0.          0.        ]\n",
      " [ 0.82352941  0.36788113]\n",
      " [ 0.39295746  0.69814777]\n",
      " [ 0.49867698  1.69550173]\n",
      " [ 1.21107266  4.11764706]\n",
      " [ 0.          0.        ]]\n",
      "Iteration 26:\n",
      "[[ 0.          0.        ]\n",
      " [ 0.82352941  0.36788113]\n",
      " [ 0.39295746  0.69814777]\n",
      " [ 0.49867698  1.69550173]\n",
      " [ 1.21107266  4.11764706]\n",
      " [ 0.          0.        ]]\n"
     ]
    }
   ],
   "source": [
    "# The Q-iteration algorithm for non deterministic environment\n",
    "\n",
    "gamma = 0.5\n",
    "qvalues = np.zeros((6,2))  # a 2d array holding the q state action values of the problem\n",
    "\n",
    "#helper mappings from environment to indeces\n",
    "actToind = {-1:0,1:1}\n",
    "stateToind = {1:0,2:1,3:2,4:3,5:4,6:5}\n",
    "it=1\n",
    "# iterate until convergence\n",
    "while True:\n",
    "    newqvalues = np.zeros((6,2))\n",
    "    \n",
    "    # iterate through all states and all actions\n",
    "    for state in range(2,6):\n",
    "        for action in [-1,1]:\n",
    "            nextpos = actionResult(state,action)\n",
    "            nextReward = getReward(state,nextpos)\n",
    "            curReward = getReward(state,state)\n",
    "            \n",
    "            #print \"Action: %d , Next position : %d , Reward: %d\"%(action,nextpos,reward)\n",
    "            newqvalues[stateToind[state],actToind[action]] = \\\n",
    "                0.3*(curReward+(gamma*max(qvalues[stateToind[state]])))+ \\\n",
    "                0.7*(nextReward+(gamma*max(qvalues[stateToind[nextpos]])))\n",
    "    \n",
    "    print \"Iteration %d:\"%it\n",
    "    print newqvalues\n",
    "    it+=1\n",
    "    if np.array_equal(newqvalues,qvalues):\n",
    "        break\n",
    "    else:\n",
    "        qvalues = newqvalues\n"
   ]
  },
  {
   "cell_type": "code",
   "execution_count": 215,
   "metadata": {
    "collapsed": false
   },
   "outputs": [],
   "source": [
    "# Non deterministic Q-learning for alpha=0.7 and e=0.6\n",
    "\n",
    "actToind = {-1:0,1:1}\n",
    "indToAct = {0:-1,1:1}\n",
    "stateToind = {1:0,2:1,3:2,4:3,5:4,6:5}\n",
    "terminalStates = [1,6]\n",
    "\n",
    "randOptimal = np.array([[.0,.0],[0.823,0.367],[0.329,0.698],[0.498,1.695],[1.211,4.117],[.0,.0]])\n",
    "gamma = 0.5\n",
    "\n",
    "\n",
    "\n",
    "def randQlearning(maxEpisodes,lr,e):\n",
    "    qvals = np.zeros((6,2))\n",
    "    episodeVals = []\n",
    "    convergence = False\n",
    "    episode=1\n",
    "    while episode<=maxEpisodes and not convergence:\n",
    "        #begin an episode by randomly choosing a state\n",
    "        curState = np.random.choice([2,3,4,5])\n",
    "        #moves=0\n",
    "        while True:\n",
    "            # the action defined by the policy\n",
    "            policyAction = indToAct[np.argmax(qvals[stateToind[curState]])]\n",
    "            oppAction = -1*policyAction\n",
    "            #print policyAction,oppAction\n",
    "            # e-greedy choice with assigned probabilities e and 1-e\n",
    "            action = np.random.choice([policyAction,oppAction],p=[1-e,e])\n",
    "            nextState = randomActionResult(curState,action)\n",
    "            #print curState,nextState\n",
    "            reward = getReward(curState,nextState)\n",
    "            temp = qvals[stateToind[curState],actToind[action]]\n",
    "            qvals[stateToind[curState],actToind[action]]= temp+lr*(reward+(gamma*max(qvals[stateToind[nextState]]))-temp)\n",
    "            #print qvals\n",
    "            if (np.array_equal(qvals,randOptimal)):\n",
    "                episodeVals.append(copy.copy(qvals))\n",
    "                convergence = True\n",
    "                print \"Q-learning has converged to optimal values at episode : %d\"%episode\n",
    "                break\n",
    "            elif nextState in terminalStates:\n",
    "                #copy the values so as not to rewrite the whole structure with the latest data\n",
    "                episodeVals.append(copy.copy(qvals))\n",
    "                #print \"End of episode %d, with moves %d\"%(episode,moves)\n",
    "                #print qvals\n",
    "                #print \"i am breaking\"\n",
    "                episode+=1\n",
    "                break\n",
    "            else:\n",
    "                #moves+=1\n",
    "                curState = nextState\n",
    "    return episodeVals"
   ]
  },
  {
   "cell_type": "code",
   "execution_count": 216,
   "metadata": {
    "collapsed": true
   },
   "outputs": [],
   "source": [
    "rand = randQlearning(10000,0.7,0.6)"
   ]
  },
  {
   "cell_type": "code",
   "execution_count": 224,
   "metadata": {
    "collapsed": false
   },
   "outputs": [
    {
     "data": {
      "image/png": "[encoded data removed]",
      "text/plain": [
       "<matplotlib.figure.Figure at 0x7f489e9c3490>"
      ]
     },
     "metadata": {},
     "output_type": "display_data"
    }
   ],
   "source": [
    "randd = map(lambda mat : euclidean(mat.flatten(),randOptimal.flatten()),rand)\n",
    "\n",
    "\n",
    "plt.plot(range(1,len(randd)+1),randd)\n",
    "plt.xlabel(xlab,**settings)\n",
    "plt.ylabel(ylab,**settings)\n",
    "plt.title(\"Q-learning in non deterministic environment(a=0.7,0.6)\",**tsettings)\n",
    "plt.grid(True)\n",
    "plt.savefig(\"a7e6.png\")"
   ]
  },
  {
   "cell_type": "code",
   "execution_count": 225,
   "metadata": {
    "collapsed": false
   },
   "outputs": [
    {
     "data": {
      "image/png": "[encoded data removed]",
      "text/plain": [
       "<matplotlib.figure.Figure at 0x7f489e9e6110>"
      ]
     },
     "metadata": {},
     "output_type": "display_data"
    }
   ],
   "source": [
    "rand2 = randQlearning(10000,0.3,0.8)\n",
    "randd2 = map(lambda mat : euclidean(mat.flatten(),randOptimal.flatten()),rand2)\n",
    "\n",
    "\n",
    "plt.plot(range(1,len(randd2)+1),randd2)\n",
    "plt.xlabel(xlab,**settings)\n",
    "plt.ylabel(ylab,**settings)\n",
    "plt.title(\"Q-learning in non deterministic environment(a=0.3,0.8)\",**tsettings)\n",
    "plt.grid(True)\n",
    "plt.savefig(\"a3e8.png\")"
   ]
  },
  {
   "cell_type": "code",
   "execution_count": 226,
   "metadata": {
    "collapsed": false
   },
   "outputs": [
    {
     "data": {
      "image/png": "[encoded data removed]",
      "text/plain": [
       "<matplotlib.figure.Figure at 0x7f489e4b8810>"
      ]
     },
     "metadata": {},
     "output_type": "display_data"
    }
   ],
   "source": [
    "rand3 = randQlearning(10000,0.6,0.1)\n",
    "randd3 = map(lambda mat : euclidean(mat.flatten(),randOptimal.flatten()),rand3)\n",
    "\n",
    "\n",
    "plt.plot(range(1,len(randd3)+1),randd3)\n",
    "plt.xlabel(xlab,**settings)\n",
    "plt.ylabel(ylab,**settings)\n",
    "plt.title(\"Q-learning in non deterministic environment(a=0.6,0.1)\",**tsettings)\n",
    "plt.grid(True)\n",
    "plt.savefig(\"a6e1.png\")"
   ]
  },
  {
   "cell_type": "code",
   "execution_count": null,
   "metadata": {
    "collapsed": true
   },
   "outputs": [],
   "source": []
  },
  {
   "cell_type": "markdown",
   "metadata": {},
   "source": [
    "<a id=\"exF\"></a>\n",
    "<center> <h2> Exercise 6</h2></center>\n",
    "<div style=\"text-align:right\">\n",
    "<a href=\"#top\">[Back to top]</a>\n",
    "</div>"
   ]
  },
  {
   "cell_type": "code",
   "execution_count": null,
   "metadata": {
    "collapsed": true
   },
   "outputs": [],
   "source": []
  }
 ],
 "metadata": {
  "kernelspec": {
   "display_name": "Python 2",
   "language": "python",
   "name": "python2"
  },
  "language_info": {
   "codemirror_mode": {
    "name": "ipython",
    "version": 2
   },
   "file_extension": ".py",
   "mimetype": "text/x-python",
   "name": "python",
   "nbconvert_exporter": "python",
   "pygments_lexer": "ipython2",
   "version": "2.7.10"
  }
 },
 "nbformat": 4,
 "nbformat_minor": 0
}
