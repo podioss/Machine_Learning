{
 "cells": [
  {
   "cell_type": "markdown",
   "metadata": {},
   "source": [
    "<center><h1> Computational Learning Theory - Machine Learning 2015-2016</h1></center>\n",
    "<a id='top'></a>\n",
    "<div style=\"margin-top:1cm\">Author: Afentoulidis Gregory</div>\n",
    "<div>Student ID : 4521862</div>\n",
    "\n",
    "<h3>Table of contents</h3>\n",
    "<ul>\n",
    "    <li><a href=\"#intro\"> Creating Artificial 2d classification problems</a></li>\n",
    "    <li><a href='#exA'>Exercise A</a></li>\n",
    "    <li><a href='#exB'>Exercise B</a></li>\n",
    "    <li><a href='#exC'>Exercise C</a></li>\n",
    "    <li><a href='#exD'>Exercise D</a></li>\n",
    "    <li><a href='#exE'>Exercise E</a></li>\n",
    "    <li><a href='#exF'>Exercise F</a></li>\n",
    "    <li><a href='#exG'>Exercise G</a></li>\n",
    "</ul>"
   ]
  },
  {
   "cell_type": "code",
   "execution_count": 139,
   "metadata": {
    "collapsed": true
   },
   "outputs": [],
   "source": [
    "% matplotlib inline\n",
    "from __future__ import division\n",
    "from numpy.lib.arraysetops import unique\n",
    "import matplotlib.pyplot as plt\n",
    "import numpy as np\n",
    "import pandas as pd\n",
    "from sklearn.datasets import make_classification\n",
    "from math import log,e"
   ]
  },
  {
   "cell_type": "markdown",
   "metadata": {},
   "source": [
    "<a id=\"intro\"></a>\n",
    "<center> <h2> Creating Artificial 2d classification problems</h2></center>\n",
    "<div style=\"text-align:right\">\n",
    "<a href=\"#top\">[Back to top]</a>\n",
    "</div>"
   ]
  },
  {
   "cell_type": "code",
   "execution_count": 18,
   "metadata": {
    "collapsed": false
   },
   "outputs": [
    {
     "data": {
      "text/plain": [
       "<matplotlib.text.Text at 0x7f78903f3410>"
      ]
     },
     "execution_count": 18,
     "metadata": {},
     "output_type": "execute_result"
    },
    {
     "data": {
      "image/png": "[encoded data removed]",
      "text/plain": [
       "<matplotlib.figure.Figure at 0x7f7890256e90>"
      ]
     },
     "metadata": {},
     "output_type": "display_data"
    }
   ],
   "source": [
    "# make a 2 class artificial data set \n",
    "xs,ys = make_classification(n_samples=10,n_features=2,n_informative=2,\n",
    "                            n_redundant=0,n_clusters_per_class=1)\n",
    "colors = ['blue' if e==1 else 'red' for e in ys]\n",
    "plt.scatter(xs[:,0],xs[:,1],c=colors,s=30)\n",
    "plt.title(\"2 random classes classification problem\")\n",
    "plt.xlabel('Feature 1')\n",
    "plt.ylabel('Feature 2')"
   ]
  },
  {
   "cell_type": "code",
   "execution_count": 7,
   "metadata": {
    "collapsed": false
   },
   "outputs": [],
   "source": [
    "# The actual values of the data set above \n",
    "# hardcoded here in a 2d array\n",
    "arr = [[-0.14438037,  1.5502988 ],\n",
    "       [ 1.19218964, -0.12159595],\n",
    "       [ 0.24353331,  0.45832657],\n",
    "       [ 1.17044819, -0.40017028],\n",
    "       [ 1.70146337, -0.13138631],\n",
    "       [ 1.14137599, -1.72611682],\n",
    "       [ 0.58097113,  2.7394138 ],\n",
    "       [ 1.39423718, -0.10275973],\n",
    "       [ 0.32818943, -0.29464645],\n",
    "       [ 0.7865644 ,  1.64163247]]\n",
    "dataset = pd.DataFrame(arr,columns=['Feat1','Feat2'])\n",
    "dataset['Labels']= [-1, 1, -1, 1, 1, 1, -1, 1, -1, -1]"
   ]
  },
  {
   "cell_type": "code",
   "execution_count": 9,
   "metadata": {
    "collapsed": false
   },
   "outputs": [
    {
     "data": {
      "text/html": [
       "<div>\n",
       "<table border=\"1\" class=\"dataframe\">\n",
       "  <thead>\n",
       "    <tr style=\"text-align: right;\">\n",
       "      <th></th>\n",
       "      <th>Feat1</th>\n",
       "      <th>Feat2</th>\n",
       "      <th>Labels</th>\n",
       "    </tr>\n",
       "  </thead>\n",
       "  <tbody>\n",
       "    <tr>\n",
       "      <th>0</th>\n",
       "      <td>-0.144380</td>\n",
       "      <td>1.550299</td>\n",
       "      <td>-1</td>\n",
       "    </tr>\n",
       "    <tr>\n",
       "      <th>1</th>\n",
       "      <td>1.192190</td>\n",
       "      <td>-0.121596</td>\n",
       "      <td>1</td>\n",
       "    </tr>\n",
       "    <tr>\n",
       "      <th>2</th>\n",
       "      <td>0.243533</td>\n",
       "      <td>0.458327</td>\n",
       "      <td>-1</td>\n",
       "    </tr>\n",
       "    <tr>\n",
       "      <th>3</th>\n",
       "      <td>1.170448</td>\n",
       "      <td>-0.400170</td>\n",
       "      <td>1</td>\n",
       "    </tr>\n",
       "    <tr>\n",
       "      <th>4</th>\n",
       "      <td>1.701463</td>\n",
       "      <td>-0.131386</td>\n",
       "      <td>1</td>\n",
       "    </tr>\n",
       "    <tr>\n",
       "      <th>5</th>\n",
       "      <td>1.141376</td>\n",
       "      <td>-1.726117</td>\n",
       "      <td>1</td>\n",
       "    </tr>\n",
       "    <tr>\n",
       "      <th>6</th>\n",
       "      <td>0.580971</td>\n",
       "      <td>2.739414</td>\n",
       "      <td>-1</td>\n",
       "    </tr>\n",
       "    <tr>\n",
       "      <th>7</th>\n",
       "      <td>1.394237</td>\n",
       "      <td>-0.102760</td>\n",
       "      <td>1</td>\n",
       "    </tr>\n",
       "    <tr>\n",
       "      <th>8</th>\n",
       "      <td>0.328189</td>\n",
       "      <td>-0.294646</td>\n",
       "      <td>-1</td>\n",
       "    </tr>\n",
       "    <tr>\n",
       "      <th>9</th>\n",
       "      <td>0.786564</td>\n",
       "      <td>1.641632</td>\n",
       "      <td>-1</td>\n",
       "    </tr>\n",
       "  </tbody>\n",
       "</table>\n",
       "</div>"
      ],
      "text/plain": [
       "      Feat1     Feat2  Labels\n",
       "0 -0.144380  1.550299      -1\n",
       "1  1.192190 -0.121596       1\n",
       "2  0.243533  0.458327      -1\n",
       "3  1.170448 -0.400170       1\n",
       "4  1.701463 -0.131386       1\n",
       "5  1.141376 -1.726117       1\n",
       "6  0.580971  2.739414      -1\n",
       "7  1.394237 -0.102760       1\n",
       "8  0.328189 -0.294646      -1\n",
       "9  0.786564  1.641632      -1"
      ]
     },
     "execution_count": 9,
     "metadata": {},
     "output_type": "execute_result"
    }
   ],
   "source": [
    "# the test dataset in table form \n",
    "# -1 responds to class ω1\n",
    "# 1 responds to class ω2\n",
    "dataset"
   ]
  },
  {
   "cell_type": "markdown",
   "metadata": {},
   "source": [
    "<a id=\"exA\"></a>\n",
    "<center> <h2> A Weak Learnel - A Decision stump classifier</h2></center>\n",
    "<div style=\"text-align:right\">\n",
    "<a href=\"#top\">[Back to top]</a>\n",
    "</div>"
   ]
  },
  {
   "cell_type": "code",
   "execution_count": 43,
   "metadata": {
    "collapsed": true
   },
   "outputs": [],
   "source": [
    "# Stump function returns the best threshold,sign and error found\n",
    "# given a dataframe containing the data set and a feature name\n",
    "def stump(df,feat):\n",
    "\n",
    "    fVals = list(unique(df[feat].values))\n",
    "    fVals.sort()\n",
    "    thres = [(fVals[i]+fVals[i+1])/2 for i in range(0,len(fVals)-1)]\n",
    "    dataPoints = df.shape[0]\n",
    "\n",
    "    # results contains missclassification error, threshold value and sign\n",
    "    res = {'threshold':0,'error':2,'sign':''}\n",
    "    #print(\"Number of dataPoints: %d\" %dataPoints)\n",
    "    # class1 label = -1 and class2 label = 1\n",
    "    for th in thres:\n",
    "        #bigger than thres then class1, less than thres then class2\n",
    "        missClassNo1 = len(df[(df[feat]>th) & (df['Labels']==1)]) + \\\n",
    "                       len(df[(df[feat]<th) & (df['Labels']==-1)])\n",
    "        missClassErr1 = missClassNo1 / dataPoints\n",
    "        \n",
    "        missClassNo2 = len(df[(df[feat]>th) & (df['Labels']==-1)]) + \\\n",
    "                       len(df[(df[feat]<th) & (df['Labels']==1)])\n",
    "        missClassErr2 = missClassNo2 / dataPoints\n",
    "        \n",
    "        if missClassErr1 < missClassErr2:\n",
    "            sign = '>'\n",
    "            minimum = missClassErr1\n",
    "        else:\n",
    "            sign = '<'\n",
    "            minimum = missClassErr2\n",
    "\n",
    "        if minimum < res['error']:\n",
    "            res['threshold'] = th ; res['error']= minimum ; res['sign'] = sign\n",
    "    return res\n"
   ]
  },
  {
   "cell_type": "code",
   "execution_count": 116,
   "metadata": {
    "collapsed": true
   },
   "outputs": [],
   "source": [
    "def stumpClassifier(dataset,weighted=False):\n",
    "    finalRes = {'feature':'none','threshold':0,'error':2,'sign':''}\n",
    "    for f in dataset.columns:\n",
    "        if f=='Labels' : continue\n",
    "        \n",
    "        # choose between the weighted and non-weighted version\n",
    "        # of stump classification\n",
    "        if weighted:\n",
    "            featBest = weightedStump(dataset,f)\n",
    "        else:\n",
    "            featBest = stump(dataset,f)\n",
    "        \n",
    "        if featBest['error'] < finalRes['error']:\n",
    "            finalRes['feature'] = f\n",
    "            finalRes['threshold'] = featBest['threshold']\n",
    "            finalRes['error'] = featBest['error']\n",
    "            finalRes['sign'] = featBest['sign']\n",
    "    return finalRes"
   ]
  },
  {
   "cell_type": "markdown",
   "metadata": {},
   "source": [
    "<a id=\"exB\"></a>\n",
    "<center> <h2> Decision stump applied to binary classification with Gaussian classes</h2></center>\n",
    "<div style=\"text-align:right\">\n",
    "<a href=\"#top\">[Back to top]</a>\n",
    "</div>"
   ]
  },
  {
   "cell_type": "markdown",
   "metadata": {},
   "source": [
    "<p>We first try the decision stump classifier in two simple data sets that we create</p>"
   ]
  },
  {
   "cell_type": "code",
   "execution_count": 49,
   "metadata": {
    "collapsed": false
   },
   "outputs": [
    {
     "name": "stdout",
     "output_type": "stream",
     "text": [
      "{'threshold': 0.96397019500000003, 'sign': '<', 'feature': 'Feat1', 'error': 0.0}\n"
     ]
    },
    {
     "data": {
      "text/plain": [
       "<matplotlib.lines.Line2D at 0x7fb29bfa5490>"
      ]
     },
     "execution_count": 49,
     "metadata": {},
     "output_type": "execute_result"
    },
    {
     "data": {
      "image/png": "[encoded data removed]",
      "text/plain": [
       "<matplotlib.figure.Figure at 0x7fb29c40edd0>"
      ]
     },
     "metadata": {},
     "output_type": "display_data"
    }
   ],
   "source": [
    "# A random binary classification problem and the results returned by our\n",
    "# stump classifier. The decision boundary returned is also plotted as a \n",
    "# vertical line. The sign '<' indicates that values of Feat1 below the\n",
    "# found threshold are assigned to ω1 (red class) while data points with \n",
    "# value of Feat1 above that threshold are assigned to ω2 (blue class)\n",
    "\n",
    "ax = dataset[dataset['Labels']==-1].plot(kind='scatter',x='Feat1',y='Feat2',\n",
    "                                    s=30,\n",
    "                                   c='red')\n",
    "dataset[dataset['Labels']==1].plot(ax=ax,kind='scatter',x='Feat1',y='Feat2',\n",
    "                                   s=30,\n",
    "                                   c='blue')\n",
    "stumpRes = stumpClassifier(dataset)\n",
    "print(stumpRes)\n",
    "plt.axvline(stumpRes['threshold'])"
   ]
  },
  {
   "cell_type": "code",
   "execution_count": 52,
   "metadata": {
    "collapsed": false
   },
   "outputs": [
    {
     "data": {
      "text/html": [
       "<div>\n",
       "<table border=\"1\" class=\"dataframe\">\n",
       "  <thead>\n",
       "    <tr style=\"text-align: right;\">\n",
       "      <th></th>\n",
       "      <th>Feat1</th>\n",
       "      <th>Feat2</th>\n",
       "      <th>Labels</th>\n",
       "    </tr>\n",
       "  </thead>\n",
       "  <tbody>\n",
       "    <tr>\n",
       "      <th>0</th>\n",
       "      <td>1.0</td>\n",
       "      <td>2.1</td>\n",
       "      <td>1</td>\n",
       "    </tr>\n",
       "    <tr>\n",
       "      <th>1</th>\n",
       "      <td>2.0</td>\n",
       "      <td>1.1</td>\n",
       "      <td>1</td>\n",
       "    </tr>\n",
       "    <tr>\n",
       "      <th>2</th>\n",
       "      <td>1.3</td>\n",
       "      <td>1.0</td>\n",
       "      <td>-1</td>\n",
       "    </tr>\n",
       "    <tr>\n",
       "      <th>3</th>\n",
       "      <td>1.0</td>\n",
       "      <td>1.0</td>\n",
       "      <td>-1</td>\n",
       "    </tr>\n",
       "    <tr>\n",
       "      <th>4</th>\n",
       "      <td>2.0</td>\n",
       "      <td>1.0</td>\n",
       "      <td>1</td>\n",
       "    </tr>\n",
       "  </tbody>\n",
       "</table>\n",
       "</div>"
      ],
      "text/plain": [
       "   Feat1  Feat2  Labels\n",
       "0    1.0    2.1       1\n",
       "1    2.0    1.1       1\n",
       "2    1.3    1.0      -1\n",
       "3    1.0    1.0      -1\n",
       "4    2.0    1.0       1"
      ]
     },
     "execution_count": 52,
     "metadata": {},
     "output_type": "execute_result"
    }
   ],
   "source": [
    "# testing it with another simple data set found on the internet\n",
    "# to be sure it is correct\n",
    "\n",
    "def loadSimpleData():\n",
    "    datMat = np.matrix([[1,2.1],[2,1.1],[1.3,1],[1,1],[2,1]])\n",
    "    classLabels = [1.0,1.0,-1.0,-1.0,1.0]\n",
    "    return datMat,classLabels\n",
    "m,n = loadSimpleData()\n",
    "simpleData = pd.DataFrame(m,columns=['Feat1','Feat2'])\n",
    "simpleData['Labels'] = n\n",
    "simpleData"
   ]
  },
  {
   "cell_type": "code",
   "execution_count": 53,
   "metadata": {
    "collapsed": true
   },
   "outputs": [],
   "source": [
    "sR = stumpClassifier(simpleData)"
   ]
  },
  {
   "cell_type": "code",
   "execution_count": 55,
   "metadata": {
    "collapsed": false
   },
   "outputs": [
    {
     "data": {
      "text/plain": [
       "{'error': 0.2,\n",
       " 'feature': 'Feat1',\n",
       " 'sign': '<',\n",
       " 'threshold': 1.6499999999999999}"
      ]
     },
     "execution_count": 55,
     "metadata": {},
     "output_type": "execute_result"
    }
   ],
   "source": [
    "sR"
   ]
  },
  {
   "cell_type": "code",
   "execution_count": 62,
   "metadata": {
    "collapsed": false
   },
   "outputs": [
    {
     "name": "stdout",
     "output_type": "stream",
     "text": [
      "{'threshold': 1.6499999999999999, 'sign': '<', 'feature': 'Feat1', 'error': 0.2}\n"
     ]
    },
    {
     "data": {
      "image/png": "[encoded data removed]",
      "text/plain": [
       "<matplotlib.figure.Figure at 0x7fb29bd01890>"
      ]
     },
     "metadata": {},
     "output_type": "display_data"
    }
   ],
   "source": [
    "ax = simpleData[simpleData['Labels']==-1].plot(kind='scatter',x='Feat1',\n",
    "                                         y='Feat2',\n",
    "                                         c='red')\n",
    "simpleData[simpleData['Labels']==1].plot(ax=ax,kind='scatter',x='Feat1',\n",
    "                                         y='Feat2',\n",
    "                                         c='blue')\n",
    "sRes = stumpClassifier(simpleData)\n",
    "print(sRes)\n",
    "plt.axvline(sRes['threshold'])\n",
    "plt.savefig('simpleData.png')"
   ]
  },
  {
   "cell_type": "code",
   "execution_count": 65,
   "metadata": {
    "collapsed": false
   },
   "outputs": [],
   "source": [
    "# Create the two class 2d gaussian data\n",
    "means = [[0,0],[2,0]]\n",
    "covMat = [[1,0],[0,1]]\n",
    "gaussClass1 = np.random.multivariate_normal(means[0],covMat,50)\n",
    "gaussClass2 = np.random.multivariate_normal(means[1],covMat,50)\n",
    "gaussData = np.concatenate((gaussClass1,gaussClass2),axis=0)\n",
    "\n",
    "# Create a DataFrame from these data\n",
    "gaussDataFrame = pd.DataFrame(gaussData,columns=['Feat1','Feat2'])\n",
    "gaussDataFrame['Labels'] = 50*[-1] + 50*[1]\n"
   ]
  },
  {
   "cell_type": "code",
   "execution_count": 153,
   "metadata": {
    "collapsed": false
   },
   "outputs": [
    {
     "name": "stdout",
     "output_type": "stream",
     "text": [
      "{'threshold': 0.94485021680397752, 'sign': '<', 'feature': 'Feat1', 'error': 0.18}\n"
     ]
    },
    {
     "data": {
      "text/plain": [
       "<matplotlib.text.Text at 0x7fb29a8bec90>"
      ]
     },
     "execution_count": 153,
     "metadata": {},
     "output_type": "execute_result"
    },
    {
     "data": {
      "image/png": "[encoded data removed]",
      "text/plain": [
       "<matplotlib.figure.Figure at 0x7fb29aa68bd0>"
      ]
     },
     "metadata": {},
     "output_type": "display_data"
    }
   ],
   "source": [
    "ax = gaussDataFrame[gaussDataFrame['Labels']==-1].plot(kind='scatter',\n",
    "                                    x='Feat1',y='Feat2',\n",
    "                                    s=30,\n",
    "                                   c='red')\n",
    "gaussDataFrame[gaussDataFrame['Labels']==1].plot(ax=ax,kind='scatter',\n",
    "                                   x='Feat1',y='Feat2',\n",
    "                                   s=30,\n",
    "                                   c='blue')\n",
    "sRgauss = stumpClassifier(gaussDataFrame)\n",
    "print(sRgauss)\n",
    "plt.axvline(sRgauss['threshold'])\n",
    "plt.savefig('stump_on_gaussian.png')\n",
    "plt.title('Binary decision stump classification with Gaussian classes')\n",
    "#plt.title('Two Gaussian classes with identity covariance matrix')\n",
    "#plt.savefig(\"gaussian.png\")"
   ]
  },
  {
   "cell_type": "markdown",
   "metadata": {},
   "source": [
    "<a id=\"exC\"></a>\n",
    "<center> <h2> Decision stump classification on digits</h2></center>\n",
    "<div style=\"text-align:right\">\n",
    "<a href=\"#top\">[Back to top]</a>\n",
    "</div>"
   ]
  },
  {
   "cell_type": "code",
   "execution_count": 84,
   "metadata": {
    "collapsed": true
   },
   "outputs": [],
   "source": [
    "# Importing the digits data set\n",
    "# Balancing the data set to have 500 data points per class \n",
    "# and also add labels to the classes\n",
    "# Digits 0 --> label -1\n",
    "# Digits 1 --> label 1\n",
    "\n",
    "dig = pd.read_csv('dataset.csv',header=0)\n",
    "dig = dig.drop('Unnamed: 0',axis=1)\n",
    "digits = dig.drop(range(500,554) + range(1054,1125))\n",
    "digits['Labels'] = 500*[-1] + 500*[1]\n",
    "digits.index = range(0,1000)"
   ]
  },
  {
   "cell_type": "code",
   "execution_count": 85,
   "metadata": {
    "collapsed": false
   },
   "outputs": [
    {
     "data": {
      "text/html": [
       "<div>\n",
       "<table border=\"1\" class=\"dataframe\">\n",
       "  <thead>\n",
       "    <tr style=\"text-align: right;\">\n",
       "      <th></th>\n",
       "      <th>V1</th>\n",
       "      <th>V2</th>\n",
       "      <th>V3</th>\n",
       "      <th>V4</th>\n",
       "      <th>V5</th>\n",
       "      <th>V6</th>\n",
       "      <th>V7</th>\n",
       "      <th>V8</th>\n",
       "      <th>V9</th>\n",
       "      <th>V10</th>\n",
       "      <th>...</th>\n",
       "      <th>V56</th>\n",
       "      <th>V57</th>\n",
       "      <th>V58</th>\n",
       "      <th>V59</th>\n",
       "      <th>V60</th>\n",
       "      <th>V61</th>\n",
       "      <th>V62</th>\n",
       "      <th>V63</th>\n",
       "      <th>V64</th>\n",
       "      <th>Labels</th>\n",
       "    </tr>\n",
       "  </thead>\n",
       "  <tbody>\n",
       "    <tr>\n",
       "      <th>0</th>\n",
       "      <td>0</td>\n",
       "      <td>16</td>\n",
       "      <td>96</td>\n",
       "      <td>240</td>\n",
       "      <td>192</td>\n",
       "      <td>16</td>\n",
       "      <td>0</td>\n",
       "      <td>0</td>\n",
       "      <td>0</td>\n",
       "      <td>112</td>\n",
       "      <td>...</td>\n",
       "      <td>0</td>\n",
       "      <td>0</td>\n",
       "      <td>0</td>\n",
       "      <td>96</td>\n",
       "      <td>224</td>\n",
       "      <td>112</td>\n",
       "      <td>16</td>\n",
       "      <td>0</td>\n",
       "      <td>0</td>\n",
       "      <td>-1</td>\n",
       "    </tr>\n",
       "    <tr>\n",
       "      <th>1</th>\n",
       "      <td>0</td>\n",
       "      <td>0</td>\n",
       "      <td>160</td>\n",
       "      <td>255</td>\n",
       "      <td>96</td>\n",
       "      <td>0</td>\n",
       "      <td>0</td>\n",
       "      <td>0</td>\n",
       "      <td>0</td>\n",
       "      <td>112</td>\n",
       "      <td>...</td>\n",
       "      <td>0</td>\n",
       "      <td>0</td>\n",
       "      <td>0</td>\n",
       "      <td>160</td>\n",
       "      <td>255</td>\n",
       "      <td>240</td>\n",
       "      <td>48</td>\n",
       "      <td>0</td>\n",
       "      <td>0</td>\n",
       "      <td>-1</td>\n",
       "    </tr>\n",
       "    <tr>\n",
       "      <th>2</th>\n",
       "      <td>0</td>\n",
       "      <td>0</td>\n",
       "      <td>240</td>\n",
       "      <td>32</td>\n",
       "      <td>224</td>\n",
       "      <td>208</td>\n",
       "      <td>32</td>\n",
       "      <td>0</td>\n",
       "      <td>0</td>\n",
       "      <td>0</td>\n",
       "      <td>...</td>\n",
       "      <td>0</td>\n",
       "      <td>0</td>\n",
       "      <td>0</td>\n",
       "      <td>160</td>\n",
       "      <td>192</td>\n",
       "      <td>80</td>\n",
       "      <td>0</td>\n",
       "      <td>0</td>\n",
       "      <td>0</td>\n",
       "      <td>-1</td>\n",
       "    </tr>\n",
       "  </tbody>\n",
       "</table>\n",
       "<p>3 rows × 65 columns</p>\n",
       "</div>"
      ],
      "text/plain": [
       "   V1  V2   V3   V4   V5   V6  V7  V8  V9  V10   ...    V56  V57  V58  V59  \\\n",
       "0   0  16   96  240  192   16   0   0   0  112   ...      0    0    0   96   \n",
       "1   0   0  160  255   96    0   0   0   0  112   ...      0    0    0  160   \n",
       "2   0   0  240   32  224  208  32   0   0    0   ...      0    0    0  160   \n",
       "\n",
       "   V60  V61  V62  V63  V64  Labels  \n",
       "0  224  112   16    0    0      -1  \n",
       "1  255  240   48    0    0      -1  \n",
       "2  192   80    0    0    0      -1  \n",
       "\n",
       "[3 rows x 65 columns]"
      ]
     },
     "execution_count": 85,
     "metadata": {},
     "output_type": "execute_result"
    }
   ],
   "source": [
    "digits.ix[:2,0:65]"
   ]
  },
  {
   "cell_type": "code",
   "execution_count": 99,
   "metadata": {
    "collapsed": true
   },
   "outputs": [],
   "source": [
    "# Creating the 10 different training sets\n",
    "# with 50 data points per class every time\n",
    "# the remaining data are use for test sets\n",
    "\n",
    "train1 = pd.concat([digits.ix[0:49,:],digits.ix[500:549,:]])\n",
    "test1 = digits.drop(range(0,50) + range(500,550))\n",
    "\n",
    "train2 = pd.concat([digits.ix[50:99,:],digits.ix[550:599,:]])\n",
    "test2 = digits.drop(range(50,100) + range(550,600))\n",
    "\n",
    "train3 = pd.concat([digits.ix[100:149,:],digits.ix[600:649,:]])\n",
    "test3 = digits.drop(range(100,150) + range(600,650))\n",
    "\n",
    "train4 = pd.concat([digits.ix[150:199,:],digits.ix[650:699,:]])\n",
    "test4 = digits.drop(range(150,200) + range(650,700))\n",
    "\n",
    "train5 = pd.concat([digits.ix[200:249,:],digits.ix[700:749,:]])\n",
    "test5 = digits.drop(range(200,250) + range(700,750))\n",
    "\n",
    "train6 = pd.concat([digits.ix[250:299,:],digits.ix[750:799,:]])\n",
    "test6 = digits.drop(range(250,300) + range(750,800))\n",
    "\n",
    "train7 = pd.concat([digits.ix[300:349,:],digits.ix[800:849,:]])\n",
    "test7 = digits.drop(range(300,350) + range(800,850))\n",
    "\n",
    "train8 = pd.concat([digits.ix[350:399,:],digits.ix[850:899,:]])\n",
    "test8 = digits.drop(range(350,400) + range(850,900))\n",
    "\n",
    "train9 = pd.concat([digits.ix[400:449,:],digits.ix[900:949,:]])\n",
    "test9 = digits.drop(range(400,450) + range(900,950))\n",
    "\n",
    "train10 = pd.concat([digits.ix[450:499,:],digits.ix[950:999,:]])\n",
    "test10 = digits.drop(range(450,500) + range(950,1000))"
   ]
  },
  {
   "cell_type": "code",
   "execution_count": 89,
   "metadata": {
    "collapsed": false
   },
   "outputs": [
    {
     "name": "stdout",
     "output_type": "stream",
     "text": [
      "{'threshold': 24.0, 'sign': '<', 'feature': 'V37', 'error': 0.01}\n",
      "{'threshold': 40.0, 'sign': '<', 'feature': 'V37', 'error': 0.0}\n",
      "{'threshold': 56.0, 'sign': '<', 'feature': 'V37', 'error': 0.0}\n",
      "{'threshold': 120.0, 'sign': '<', 'feature': 'V29', 'error': 0.02}\n",
      "{'threshold': 48.0, 'sign': '<', 'feature': 'V37', 'error': 0.0}\n",
      "{'threshold': 120.0, 'sign': '<', 'feature': 'V29', 'error': 0.0}\n",
      "{'threshold': 56.0, 'sign': '<', 'feature': 'V37', 'error': 0.0}\n",
      "{'threshold': 48.0, 'sign': '<', 'feature': 'V29', 'error': 0.01}\n",
      "{'threshold': 64.0, 'sign': '<', 'feature': 'V29', 'error': 0.0}\n",
      "{'threshold': 40.0, 'sign': '<', 'feature': 'V29', 'error': 0.0}\n"
     ]
    }
   ],
   "source": [
    "# train a stumpClassifier for every training set \n",
    "# sResults contains all the classification errors\n",
    "# from the training sets\n",
    "\n",
    "sResults=[]\n",
    "for tset in [train1,train2,train3,train4,train5,train6,train7,train8,\n",
    "            train9,train10]:\n",
    "    sResults.append(stumpClassifier(tset))\n",
    "\n",
    "# print all results from the training phase\n",
    "for result in sResults:\n",
    "    print(result)"
   ]
  },
  {
   "cell_type": "code",
   "execution_count": 91,
   "metadata": {
    "collapsed": true
   },
   "outputs": [],
   "source": [
    "# a function to calculate the classification error \n",
    "# of a trained stump and \n",
    "\n",
    "def classificationError(trainedStump,testSet):\n",
    "    thres = trainedStump['threshold']\n",
    "    f = trainedStump['feature']\n",
    "    missClassified = len(testSet[(testSet[f]>thres) & \\\n",
    "                                 (testSet['Labels']==-1)])+\\\n",
    "                     len(testSet[(testSet[f]<thres) &\\\n",
    "                                 (testSet['Labels']==1)])\n",
    "    return missClassified/len(testSet)\n"
   ]
  },
  {
   "cell_type": "code",
   "execution_count": 100,
   "metadata": {
    "collapsed": false
   },
   "outputs": [],
   "source": [
    "classErrors = []\n",
    "testSets = [test1,test2,test3,test4,test5,test6,test7,test8,\\\n",
    "           test9,test10]\n",
    "\n",
    "for trStump,testSet in zip(sResults,testSets):\n",
    "    classErrors.append(classificationError(trStump,testSet))\n"
   ]
  },
  {
   "cell_type": "code",
   "execution_count": 101,
   "metadata": {
    "collapsed": false
   },
   "outputs": [
    {
     "data": {
      "text/plain": [
       "[0.015555555555555555,\n",
       " 0.016666666666666666,\n",
       " 0.011111111111111112,\n",
       " 0.035555555555555556,\n",
       " 0.011111111111111112,\n",
       " 0.03777777777777778,\n",
       " 0.011111111111111112,\n",
       " 0.015555555555555555,\n",
       " 0.016666666666666666,\n",
       " 0.01888888888888889]"
      ]
     },
     "execution_count": 101,
     "metadata": {},
     "output_type": "execute_result"
    }
   ],
   "source": [
    "classErrors"
   ]
  },
  {
   "cell_type": "code",
   "execution_count": 128,
   "metadata": {
    "collapsed": false
   },
   "outputs": [
    {
     "name": "stdout",
     "output_type": "stream",
     "text": [
      "The variance of the test sets errors is : 0.000085\n",
      "The standard deviation of the test sets errors is : 0.009209\n",
      "The mean of the test sets errors is : 0.019000\n"
     ]
    },
    {
     "data": {
      "image/png": "[encoded data removed]",
      "text/plain": [
       "<matplotlib.figure.Figure at 0x7fb29ae6ec10>"
      ]
     },
     "metadata": {},
     "output_type": "display_data"
    }
   ],
   "source": [
    "# Calculate the variance of the test sets classification errors\n",
    "\n",
    "print('The variance of the test sets errors is : %f'%np.var(classErrors))\n",
    "print('The standard deviation of the test sets errors is : %f'\\\n",
    "     %np.std(classErrors))\n",
    "print('The mean of the test sets errors is : %f'\\\n",
    "     %np.mean(classErrors))\n",
    "# create a boxplot of the data\n",
    "plt.boxplot(classErrors)\n",
    "plt.title(\"Classification error boxplot of the test sets\")\n",
    "plt.ylabel('Classification error')\n",
    "plt.savefig('boxplot.png')"
   ]
  },
  {
   "cell_type": "markdown",
   "metadata": {},
   "source": [
    "<a id=\"exD\"></a>\n",
    "<center> <h2>Decision stump classifier with weighted objects</h2></center>\n",
    "<div style=\"text-align:right\">\n",
    "<a href=\"#top\">[Back to top]</a>\n",
    "</div>"
   ]
  },
  {
   "cell_type": "code",
   "execution_count": 117,
   "metadata": {
    "collapsed": true
   },
   "outputs": [],
   "source": [
    "# For the weighted version of our stump classifier we change\n",
    "# the way we calculate the classification error in function\n",
    "# stump and we create a new version weightedStump\n",
    "\n",
    "def weightedStump(df,feat):\n",
    "\n",
    "    fVals = list(unique(df[feat].values))\n",
    "    fVals.sort()\n",
    "    thres = [(fVals[i]+fVals[i+1])/2 for i in range(0,len(fVals)-1)]\n",
    "    dataPoints = df.shape[0]\n",
    "    \n",
    "    # results contains missclassification error, threshold value and sign\n",
    "    res = {'threshold':0,'error':2,'sign':''}\n",
    "    #print(\"Number of dataPoints: %d\" %dataPoints)\n",
    "    # class1 label = -1 and class2 label = 1\n",
    "    for th in thres:\n",
    "        \n",
    "        # bigger than thres then class1, less than thres then class2\n",
    "        # classification error calculated with regard of the weights per\n",
    "        # data points\n",
    "        \n",
    "        missClassErr1 = df[(df[feat]>th) & (df['Labels']==1)].sum(axis=0)['Weights'] + \\\n",
    "                        df[ (df[feat]<th) & (df['Labels']==-1)].sum(axis=0)['Weights']\n",
    "\n",
    "        missClassErr2 = df[(df[feat]>th) & (df['Labels']==-1)].sum(axis=0)['Weights'] + \\\n",
    "                        df[ (df[feat]<th) & (df['Labels']==1)].sum(axis=0)['Weights']\n",
    "\n",
    "        if missClassErr1 < missClassErr2:\n",
    "            sign = '>'\n",
    "            minimum = missClassErr1\n",
    "        else:\n",
    "            sign = '<'\n",
    "            minimum = missClassErr2\n",
    "\n",
    "        if minimum < res['error']:\n",
    "            res['threshold'] = th ; res['error']= minimum ; res['sign'] = sign\n",
    "\n",
    "    return res"
   ]
  },
  {
   "cell_type": "code",
   "execution_count": 129,
   "metadata": {
    "collapsed": false
   },
   "outputs": [
    {
     "data": {
      "image/png": "[encoded data removed]",
      "text/plain": [
       "<matplotlib.figure.Figure at 0x7fb29b1f1750>"
      ]
     },
     "metadata": {},
     "output_type": "display_data"
    }
   ],
   "source": [
    "# create a weighted version of the simpleData data set\n",
    "wSimpleData = simpleData.copy(deep=True)\n",
    "wSimpleData['Weights'] = [0.4,0.39,0.07,0.07,0.07]\n",
    "\n",
    "uwRes = stumpClassifier(wSimpleData,weighted=False)\n",
    "\n",
    "ax = wSimpleData[wSimpleData['Labels']==-1].plot(kind='scatter',x='Feat1',\n",
    "                                         y='Feat2',\n",
    "                                         c='red')\n",
    "wSimpleData[wSimpleData['Labels']==1].plot(ax=ax,kind='scatter',x='Feat1',\n",
    "                                         y='Feat2',\n",
    "                                         c='blue')\n",
    "plt.axvline(uwRes['threshold'])\n",
    "plt.title('Equally weighted 2 class simple stump classification')\n",
    "plt.savefig('eqw.png')"
   ]
  },
  {
   "cell_type": "code",
   "execution_count": 130,
   "metadata": {
    "collapsed": false
   },
   "outputs": [
    {
     "data": {
      "image/png": "[encoded data removed]",
      "text/plain": [
       "<matplotlib.figure.Figure at 0x7fb29aced550>"
      ]
     },
     "metadata": {},
     "output_type": "display_data"
    }
   ],
   "source": [
    "wRes = stumpClassifier(wSimpleData,weighted=True)\n",
    "\n",
    "ax = wSimpleData[wSimpleData['Labels']==1].plot(kind='scatter',\\\n",
    "                                        x='Feat1',\\\n",
    "                                        y='Feat2',\\\n",
    "                                        c='blue',\\\n",
    "                                        s=300*wSimpleData[wSimpleData['Labels']==1]['Weights'].values)\n",
    "\n",
    "wSimpleData[wSimpleData['Labels']==-1].plot(ax=ax,kind='scatter',\\\n",
    "                                        x='Feat1',\\\n",
    "                                        y='Feat2',\\\n",
    "                                        c='red',\\\n",
    "                                        s=300*wSimpleData[wSimpleData['Labels']==-1]['Weights'].values)\n",
    "\n",
    "plt.axhline(wRes['threshold'])\n",
    "plt.title('Weighted 2 class simple stump classification')\n",
    "plt.savefig('uneqw.png')"
   ]
  },
  {
   "cell_type": "markdown",
   "metadata": {
    "collapsed": true
   },
   "source": [
    "<a id=\"exE\"></a>\n",
    "<center> <h2> AdaBoost Algorithm </h2></center>\n",
    "<div style=\"text-align:right\">\n",
    "<a href=\"#top\">[Back to top]</a>\n",
    "</div>"
   ]
  },
  {
   "cell_type": "markdown",
   "metadata": {},
   "source": [
    "The AdaBoost algorithm we implement here takes as input the number of iterations or number of weak learners as well as the data set in a python DataFrame structure, and outputs the ALPHA parameters and the weak learners. The classification of a data point is determined by those values returned by the known formula:\n",
    "\n",
    "<center>$f(\\cdot)=sign\\left ( \\sum_{k=1}^{T}a_{k}\\varphi (\\cdot,\\vartheta _{k}) \\right )$</center>\n"
   ]
  },
  {
   "cell_type": "code",
   "execution_count": 142,
   "metadata": {
    "collapsed": true
   },
   "outputs": [],
   "source": [
    "# A helper function to returns the missclassified objects\n",
    "# of a data set compared to the decision stump classifier\n",
    "\n",
    "def calculateErrors(df,sRes):\n",
    "    errors = []\n",
    "    th = sRes['threshold']\n",
    "    sign = sRes['sign']\n",
    "    f = sRes['feature']\n",
    "\n",
    "    if sign=='<':\n",
    "        for i in range(0,df.shape[0]):\n",
    "            if (df.ix[i][f] < th) and (df.ix[i]['Labels']!=-1):\n",
    "                errors.append(1)\n",
    "            else:\n",
    "                errors.append(0)\n",
    "    else:\n",
    "        for i in range(0,df.shape[0]):\n",
    "            if (df.ix[i][f] > th) and (df.ix[i]['Labels']!=-1):\n",
    "                errors.append(1)\n",
    "            else:\n",
    "                errors.append(0)\n",
    "\n",
    "    return errors\n",
    "\n",
    "# The AdaBoost algorighm implementation\n",
    "\n",
    "def AdaBoost(df,T):\n",
    "\n",
    "    (r,c) = df.shape\n",
    "    # initialization of the weights\n",
    "    weights = r*[1/r]\n",
    "    df['Weights'] = r*[1/r]\n",
    "    alphas = []\n",
    "    stumps = []\n",
    "\n",
    "    for i in range(0,T):\n",
    "\n",
    "        theta = stumpClassifier(df,weighted=True)\n",
    "        p = theta['error']\n",
    "        alpha = 0.5 * log((1-p)/p)\n",
    "        errs = calculateErrors(df,theta)\n",
    "        w = r*[0]\n",
    "        for j in range(0,r):\n",
    "            if errs[j]==1: w[j] = weights[j] * np.exp(alpha)\n",
    "            else: w[j] = weights[j] * np.exp(-alpha)\n",
    "        weights = [we/sum(w) for we in w]\n",
    "        df['Weights'] = weights\n",
    "        alphas.append(alpha)\n",
    "        stumps.append(theta)\n",
    "\n",
    "    return alphas,stumps,weights\n",
    "\n",
    "# A functions that is called to output the prediction of an\n",
    "# AdaBoost classifier\n",
    "\n",
    "def AdaBoostPredict(elem,alphas,stumps):\n",
    "    labels=[]\n",
    "    for stump in stumps:\n",
    "        if stump['sign'] == '<':\n",
    "            if elem[stump['feature']]<stump['threshold']: labels.append(-1)\n",
    "            else: labels.append(1)\n",
    "        else:\n",
    "            if elem[stump['feature']]>stump['threshold']: labels.append(-1)\n",
    "            else: labels.append(1)\n",
    "    return np.sign((np.array(alphas)*np.array(labels)).sum())\n",
    "\n"
   ]
  },
  {
   "cell_type": "markdown",
   "metadata": {},
   "source": [
    "<a id=\"exF\"></a>\n",
    "<center> <h2> AdaBoost test on data sets </h2></center>\n",
    "<div style=\"text-align:right\">\n",
    "<a href=\"#top\">[Back to top]</a>\n",
    "</div>"
   ]
  },
  {
   "cell_type": "markdown",
   "metadata": {},
   "source": [
    "<p style=\"margin-top:2cm;font-size:large\">AdaBoost tested on 2 Gaussian classes, the radius of the objects in the scatter plot are proportional to the weights calculated by the algorithm for each of them</p>"
   ]
  },
  {
   "cell_type": "code",
   "execution_count": 151,
   "metadata": {
    "collapsed": false
   },
   "outputs": [
    {
     "data": {
      "image/png": "[encoded data removed]",
      "text/plain": [
       "<matplotlib.figure.Figure at 0x7fb29b3fb750>"
      ]
     },
     "metadata": {},
     "output_type": "display_data"
    }
   ],
   "source": [
    "a,s,w = AdaBoost(gaussDataFrame,100)\n",
    "ax = gaussDataFrame[gaussDataFrame['Labels']==-1].plot(kind='scatter',\n",
    "                                    x='Feat1',y='Feat2',\n",
    "                                    s=1000*np.array(w[0:50]),\n",
    "                                   c='red')\n",
    "gaussDataFrame[gaussDataFrame['Labels']==1].plot(ax=ax,kind='scatter',\n",
    "                                   x='Feat1',y='Feat2',\n",
    "                                   s=1000*np.array(w[50:101]),\n",
    "                                   c='blue')\n",
    "plt.title(\"Gaussian classes weights with AdaBoost\")\n",
    "plt.savefig(\"gaussAda.png\")"
   ]
  },
  {
   "cell_type": "markdown",
   "metadata": {},
   "source": [
    "<p style=\"margin-top:2cm;font-size:large\">AdaBoost tested on banana data set from PRTools, the radius of the objects in the scatter plot are proportional to the weights calculated by the algorithm for each of them</p>"
   ]
  },
  {
   "cell_type": "code",
   "execution_count": 149,
   "metadata": {
    "collapsed": false
   },
   "outputs": [
    {
     "data": {
      "image/png": "[encoded data removed]",
      "text/plain": [
       "<matplotlib.figure.Figure at 0x7fb29b2869d0>"
      ]
     },
     "metadata": {},
     "output_type": "display_data"
    }
   ],
   "source": [
    "# Import banana data set from PRtools\n",
    "banana = pd.read_csv('banana.csv',header=None)\n",
    "banana.columns=['Feat1','Feat2']\n",
    "banana['Labels'] = 50*[-1] + 50*[1]\n",
    "ax = banana[banana['Labels']==-1].plot(kind='scatter',\n",
    "                                    x='Feat1',y='Feat2',\n",
    "                                    s=30,\n",
    "                                   c='red')\n",
    "banana[banana['Labels']==1].plot(ax=ax,kind='scatter',\n",
    "                                   x='Feat1',y='Feat2',\n",
    "                                   s=30,\n",
    "                                   c='blue')\n",
    "plt.title(\"Banana data set from PRTools\")\n",
    "plt.savefig('banana.png')"
   ]
  },
  {
   "cell_type": "code",
   "execution_count": 150,
   "metadata": {
    "collapsed": false
   },
   "outputs": [
    {
     "data": {
      "image/png": "[encoded data removed]",
      "text/plain": [
       "<matplotlib.figure.Figure at 0x7fb29ad608d0>"
      ]
     },
     "metadata": {},
     "output_type": "display_data"
    }
   ],
   "source": [
    "ab,sb,wb = AdaBoost(banana,100)\n",
    "ax = banana[banana['Labels']==-1].plot(kind='scatter',\n",
    "                                    x='Feat1',y='Feat2',\n",
    "                                    s=1000*np.array(wb[0:50]),\n",
    "                                   c='red')\n",
    "banana[banana['Labels']==1].plot(ax=ax,kind='scatter',\n",
    "                                   x='Feat1',y='Feat2',\n",
    "                                   s=1000*np.array(wb[50:101]),\n",
    "                                   c='blue')\n",
    "plt.title('Banana set weights with AdaBoost')\n",
    "plt.savefig('banAda.png')"
   ]
  },
  {
   "cell_type": "markdown",
   "metadata": {},
   "source": [
    "<a id=\"exG\"></a>\n",
    "<center> <h2> AdaBoost on digits data set </h2></center>\n",
    "<div style=\"text-align:right\">\n",
    "<a href=\"#top\">[Back to top]</a>\n",
    "</div>"
   ]
  },
  {
   "cell_type": "markdown",
   "metadata": {},
   "source": [
    "<p>We train AdaBoost with the first 50 objects of each class from the digits data set for different number of iterations. Then we test the true classification error for the remaining objects that form our test set.</p>"
   ]
  },
  {
   "cell_type": "code",
   "execution_count": 154,
   "metadata": {
    "collapsed": false
   },
   "outputs": [
    {
     "name": "stdout",
     "output_type": "stream",
     "text": [
      "The error obtained with T=50 is 0.015556\n",
      "The error obtained with T=100 is 0.015556\n",
      "The error obtained with T=150 is 0.015556\n",
      "The error obtained with T=200 is 0.015556\n",
      "The error obtained with T=300 is 0.015556\n"
     ]
    }
   ],
   "source": [
    "train1.index = range(0,len(train1))\n",
    "test1.index = range(0,len(test1))\n",
    "labs = list(test1.Labels.values)\n",
    "\n",
    "# test true errors for AdaBoost with 50,100,150,200,300 T (iterations)\n",
    "\n",
    "T = 50\n",
    "a1,s1,w1 = AdaBoost(train1,T)\n",
    "preds1 = []\n",
    "for i in range(0,len(test1)):\n",
    "    preds1.append(AdaBoostPredict(test1.ix[i],a1,s1))\n",
    "eq1 = [int(preds1[i]==labs[i]) for i in range(0,len(labs))]\n",
    "err1 = len(test1) - sum(eq1)\n",
    "print('The error obtained with T=%d is %f'%(T,err1/900))\n",
    "\n",
    "T = 100\n",
    "a2,s2,w2 = AdaBoost(train1,T)\n",
    "preds2 = []\n",
    "for i in range(0,len(test1)):\n",
    "    preds2.append(AdaBoostPredict(test1.ix[i],a2,s2))\n",
    "eq2 = [int(preds2[i]==labs[i]) for i in range(0,len(labs))]\n",
    "err2 = len(test1) - sum(eq2)\n",
    "print('The error obtained with T=%d is %f'%(T,err2/900))\n",
    "\n",
    "T = 150\n",
    "a3,s3,w3 = AdaBoost(train1,T)\n",
    "preds3 = []\n",
    "for i in range(0,len(test1)):\n",
    "    preds3.append(AdaBoostPredict(test1.ix[i],a3,s3))\n",
    "eq3 = [int(preds3[i]==labs[i]) for i in range(0,len(labs))]\n",
    "err3 = len(test1) - sum(eq1)\n",
    "print('The error obtained with T=%d is %f'%(T,err3/900))\n",
    "\n",
    "T = 200\n",
    "a4,s4,w4 = AdaBoost(train1,T)\n",
    "preds4 = []\n",
    "for i in range(0,len(test1)):\n",
    "    preds4.append(AdaBoostPredict(test1.ix[i],a4,s4))\n",
    "eq4 = [int(preds4[i]==labs[i]) for i in range(0,len(labs))]\n",
    "err4 = len(test1) - sum(eq1)\n",
    "print('The error obtained with T=%d is %f'%(T,err4/900))\n",
    "\n",
    "T = 300\n",
    "a5,s5,w5 = AdaBoost(train1,T)\n",
    "preds5 = []\n",
    "for i in range(0,len(test1)):\n",
    "    preds5.append(AdaBoostPredict(test1.ix[i],a5,s5))\n",
    "eq5 = [int(preds5[i]==labs[i]) for i in range(0,len(labs))]\n",
    "err5 = len(test1) - sum(eq1)\n",
    "print('The error obtained with T=%d is %f'%(T,err5/900))"
   ]
  },
  {
   "cell_type": "code",
   "execution_count": null,
   "metadata": {
    "collapsed": true
   },
   "outputs": [],
   "source": []
  }
 ],
 "metadata": {
  "kernelspec": {
   "display_name": "Python 2",
   "language": "python",
   "name": "python2"
  },
  "language_info": {
   "codemirror_mode": {
    "name": "ipython",
    "version": 2
   },
   "file_extension": ".py",
   "mimetype": "text/x-python",
   "name": "python",
   "nbconvert_exporter": "python",
   "pygments_lexer": "ipython2",
   "version": "2.7.10"
  }
 },
 "nbformat": 4,
 "nbformat_minor": 0
}
