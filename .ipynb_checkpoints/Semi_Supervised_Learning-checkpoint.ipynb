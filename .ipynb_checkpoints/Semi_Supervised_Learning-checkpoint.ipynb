{
 "cells": [
  {
   "cell_type": "markdown",
   "metadata": {},
   "source": [
    "<center><h1> Semi-supervised Learning - Machine Learning 2015-2016</h1></center>\n",
    "<a id='top'></a>\n",
    "<div style=\"margin-top:1cm\">Author: Afentoulidis Gregory</div>\n",
    "<div>Student ID : 4521862</div>\n",
    "\n",
    "<h3>Table of contents</h3>\n",
    "<ul>\n",
    "    <li><a href='#exA'>Exercise A</a></li>\n",
    "    <li><a href='#exB'>Exercise B</a></li>\n",
    "    <li><a href='#exC'>Exercise C</a></li>\n",
    "    <li><a href='#exD'>Exercise D</a></li>\n",
    "    <li><a href='#exE'>Exercise E</a></li>\n",
    "</ul>"
   ]
  },
  {
   "cell_type": "markdown",
   "metadata": {},
   "source": [
    "<a id=\"exA\"></a>\n",
    "<center> <h2> Exercise A</h2></center>\n",
    "<div style=\"text-align:right\">\n",
    "<a href=\"#top\">[Back to top]</a>\n",
    "</div>"
   ]
  },
  {
   "cell_type": "code",
   "execution_count": null,
   "metadata": {
    "collapsed": true
   },
   "outputs": [],
   "source": []
  },
  {
   "cell_type": "markdown",
   "metadata": {},
   "source": [
    "<a id=\"exB\"></a>\n",
    "<center> <h2> Exercise B</h2></center>\n",
    "<div style=\"text-align:right\">\n",
    "<a href=\"#top\">[Back to top]</a>\n",
    "</div>"
   ]
  },
  {
   "cell_type": "code",
   "execution_count": null,
   "metadata": {
    "collapsed": true
   },
   "outputs": [],
   "source": []
  },
  {
   "cell_type": "markdown",
   "metadata": {},
   "source": [
    "<a id=\"exC\"></a>\n",
    "<center> <h2> Exercise C</h2></center>\n",
    "<div style=\"text-align:right\">\n",
    "<a href=\"#top\">[Back to top]</a>\n",
    "</div>"
   ]
  },
  {
   "cell_type": "code",
   "execution_count": null,
   "metadata": {
    "collapsed": true
   },
   "outputs": [],
   "source": []
  },
  {
   "cell_type": "markdown",
   "metadata": {},
   "source": [
    "<a id=\"exD\"></a>\n",
    "<center> <h2> Exercise D</h2></center>\n",
    "<div style=\"text-align:right\">\n",
    "<a href=\"#top\">[Back to top]</a>\n",
    "</div>"
   ]
  },
  {
   "cell_type": "code",
   "execution_count": null,
   "metadata": {
    "collapsed": true
   },
   "outputs": [],
   "source": []
  },
  {
   "cell_type": "markdown",
   "metadata": {},
   "source": [
    "<a id=\"exE\"></a>\n",
    "<center> <h2> Exercise E</h2></center>\n",
    "<div style=\"text-align:right\">\n",
    "<a href=\"#top\">[Back to top]</a>\n",
    "</div>"
   ]
  },
  {
   "cell_type": "code",
   "execution_count": null,
   "metadata": {
    "collapsed": true
   },
   "outputs": [],
   "source": []
  }
 ],
 "metadata": {
  "kernelspec": {
   "display_name": "Python 2",
   "language": "python",
   "name": "python2"
  },
  "language_info": {
   "codemirror_mode": {
    "name": "ipython",
    "version": 2
   },
   "file_extension": ".py",
   "mimetype": "text/x-python",
   "name": "python",
   "nbconvert_exporter": "python",
   "pygments_lexer": "ipython2",
   "version": "2.7.10"
  }
 },
 "nbformat": 4,
 "nbformat_minor": 0
}
